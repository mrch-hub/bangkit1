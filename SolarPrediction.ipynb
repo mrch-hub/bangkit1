{
  "nbformat": 4,
  "nbformat_minor": 0,
  "metadata": {
    "colab": {
      "name": "SolarPrediction.ipynb",
      "provenance": [],
      "include_colab_link": true
    },
    "kernelspec": {
      "name": "python3",
      "display_name": "Python 3"
    }
  },
  "cells": [
    {
      "cell_type": "markdown",
      "metadata": {
        "id": "view-in-github",
        "colab_type": "text"
      },
      "source": [
        "<a href=\"https://colab.research.google.com/github/mrch-hub/bangkit1/blob/test_feature_2/SolarPrediction.ipynb\" target=\"_parent\"><img src=\"https://colab.research.google.com/assets/colab-badge.svg\" alt=\"Open In Colab\"/></a>"
      ]
    },
    {
      "cell_type": "markdown",
      "metadata": {
        "id": "f5bF6G8ff6Zq",
        "colab_type": "text"
      },
      "source": [
        "##Solar radiation intensity prediction using TensorFlow"
      ]
    },
    {
      "cell_type": "code",
      "metadata": {
        "id": "C6pwJrUZ9rYW",
        "colab_type": "code",
        "outputId": "6a289da9-924b-4a89-fdb3-eb987e32fa59",
        "colab": {
          "base_uri": "https://localhost:8080/",
          "height": 55
        }
      },
      "source": [
        "\"\"\"A python code for predicting solar radiation\n",
        "intensity using TensorFlow. Created for \n",
        "5th Bangk!t assignment.\n",
        "Collaborators: Marcellinus Chrisnada, Muhammad\n",
        "Harits Hafidza, Mochammad Randy Caesario H.\"\"\""
      ],
      "execution_count": 0,
      "outputs": [
        {
          "output_type": "execute_result",
          "data": {
            "text/plain": [
              "'A python code for predicting solar radiation\\nintensity using TensorFlow. Created for \\n5th Bangk!t assignment.\\nCollaborators: Marcellinus Chrisnada, Muhammad\\nHarits Hafidza, Mochammad Randy Caesario H.'"
            ]
          },
          "metadata": {
            "tags": []
          },
          "execution_count": 40
        }
      ]
    },
    {
      "cell_type": "markdown",
      "metadata": {
        "id": "yb2tFywNgWIn",
        "colab_type": "text"
      },
      "source": [
        "##Initialization"
      ]
    },
    {
      "cell_type": "code",
      "metadata": {
        "id": "d8ekWJYDbTzp",
        "colab_type": "code",
        "cellView": "form",
        "colab": {}
      },
      "source": [
        "#@title Run on TensorFlow 2.x\n",
        "%tensorflow_version 2.x\n",
        "from __future__ import absolute_import, division, print_function, unicode_literals"
      ],
      "execution_count": 0,
      "outputs": []
    },
    {
      "cell_type": "code",
      "metadata": {
        "id": "oPY5vbLWXmKN",
        "colab_type": "code",
        "cellView": "both",
        "outputId": "6bd6dce3-40f3-4f78-d664-0db8a2f75a1d",
        "colab": {
          "base_uri": "https://localhost:8080/",
          "height": 68
        }
      },
      "source": [
        "#@title Import relevant modules\n",
        "import numpy as np\n",
        "import pandas as pd\n",
        "import tensorflow as tf\n",
        "from tensorflow.keras import layers\n",
        "from matplotlib import pyplot as plt\n",
        "import seaborn as sns\n",
        "\n",
        "# Adjust the granularity of reporting. \n",
        "pd.options.display.max_rows = 10\n",
        "pd.options.display.float_format = \"{:.1f}\".format\n",
        "\n",
        "print(\"Imported modules.\")"
      ],
      "execution_count": 2,
      "outputs": [
        {
          "output_type": "stream",
          "text": [
            "Imported modules.\n"
          ],
          "name": "stdout"
        },
        {
          "output_type": "stream",
          "text": [
            "/usr/local/lib/python3.6/dist-packages/statsmodels/tools/_testing.py:19: FutureWarning: pandas.util.testing is deprecated. Use the functions in the public API at pandas.testing instead.\n",
            "  import pandas.util.testing as tm\n"
          ],
          "name": "stderr"
        }
      ]
    },
    {
      "cell_type": "code",
      "metadata": {
        "id": "oRlH8pQwbSpE",
        "colab_type": "code",
        "outputId": "76f4eb17-bade-4434-8932-f8f7c372cdf4",
        "colab": {
          "base_uri": "https://localhost:8080/",
          "height": 419
        }
      },
      "source": [
        "#@title Load dataset\n",
        "data = pd.read_csv('https://raw.githubusercontent.com/mrch-hub/bangkit1/master/SolarPrediction.csv')\n",
        "data = data.reindex(np.random.permutation(data.index)) # shuffle dataset\n",
        "data.head(40)"
      ],
      "execution_count": 3,
      "outputs": [
        {
          "output_type": "execute_result",
          "data": {
            "text/html": [
              "<div>\n",
              "<style scoped>\n",
              "    .dataframe tbody tr th:only-of-type {\n",
              "        vertical-align: middle;\n",
              "    }\n",
              "\n",
              "    .dataframe tbody tr th {\n",
              "        vertical-align: top;\n",
              "    }\n",
              "\n",
              "    .dataframe thead th {\n",
              "        text-align: right;\n",
              "    }\n",
              "</style>\n",
              "<table border=\"1\" class=\"dataframe\">\n",
              "  <thead>\n",
              "    <tr style=\"text-align: right;\">\n",
              "      <th></th>\n",
              "      <th>UNIXTime</th>\n",
              "      <th>Data</th>\n",
              "      <th>Time</th>\n",
              "      <th>Radiation</th>\n",
              "      <th>Temperature</th>\n",
              "      <th>Pressure</th>\n",
              "      <th>Humidity</th>\n",
              "      <th>WindDirection(Degrees)</th>\n",
              "      <th>Speed</th>\n",
              "      <th>TimeSunRise</th>\n",
              "      <th>TimeSunSet</th>\n",
              "    </tr>\n",
              "  </thead>\n",
              "  <tbody>\n",
              "    <tr>\n",
              "      <th>27247</th>\n",
              "      <td>1482445849</td>\n",
              "      <td>12/22/2016 12:00:00 AM</td>\n",
              "      <td>12:30:49</td>\n",
              "      <td>856.5</td>\n",
              "      <td>57</td>\n",
              "      <td>30.4</td>\n",
              "      <td>80</td>\n",
              "      <td>41.7</td>\n",
              "      <td>9.0</td>\n",
              "      <td>06:53:00</td>\n",
              "      <td>17:49:00</td>\n",
              "    </tr>\n",
              "    <tr>\n",
              "      <th>28993</th>\n",
              "      <td>1481920518</td>\n",
              "      <td>12/16/2016 12:00:00 AM</td>\n",
              "      <td>10:35:18</td>\n",
              "      <td>752.2</td>\n",
              "      <td>52</td>\n",
              "      <td>30.3</td>\n",
              "      <td>61</td>\n",
              "      <td>9.1</td>\n",
              "      <td>3.4</td>\n",
              "      <td>06:50:00</td>\n",
              "      <td>17:46:00</td>\n",
              "    </tr>\n",
              "    <tr>\n",
              "      <th>1127</th>\n",
              "      <td>1474878919</td>\n",
              "      <td>9/25/2016 12:00:00 AM</td>\n",
              "      <td>22:35:19</td>\n",
              "      <td>1.3</td>\n",
              "      <td>48</td>\n",
              "      <td>30.5</td>\n",
              "      <td>52</td>\n",
              "      <td>137.7</td>\n",
              "      <td>6.8</td>\n",
              "      <td>06:12:00</td>\n",
              "      <td>18:16:00</td>\n",
              "    </tr>\n",
              "    <tr>\n",
              "      <th>13145</th>\n",
              "      <td>1476262522</td>\n",
              "      <td>10/11/2016 12:00:00 AM</td>\n",
              "      <td>22:55:22</td>\n",
              "      <td>1.2</td>\n",
              "      <td>51</td>\n",
              "      <td>30.5</td>\n",
              "      <td>83</td>\n",
              "      <td>168.9</td>\n",
              "      <td>5.6</td>\n",
              "      <td>06:16:00</td>\n",
              "      <td>18:03:00</td>\n",
              "    </tr>\n",
              "    <tr>\n",
              "      <th>31349</th>\n",
              "      <td>1480987540</td>\n",
              "      <td>12/5/2016 12:00:00 AM</td>\n",
              "      <td>15:25:40</td>\n",
              "      <td>29.1</td>\n",
              "      <td>45</td>\n",
              "      <td>30.3</td>\n",
              "      <td>93</td>\n",
              "      <td>358.0</td>\n",
              "      <td>6.8</td>\n",
              "      <td>06:44:00</td>\n",
              "      <td>17:43:00</td>\n",
              "    </tr>\n",
              "    <tr>\n",
              "      <th>...</th>\n",
              "      <td>...</td>\n",
              "      <td>...</td>\n",
              "      <td>...</td>\n",
              "      <td>...</td>\n",
              "      <td>...</td>\n",
              "      <td>...</td>\n",
              "      <td>...</td>\n",
              "      <td>...</td>\n",
              "      <td>...</td>\n",
              "      <td>...</td>\n",
              "      <td>...</td>\n",
              "    </tr>\n",
              "    <tr>\n",
              "      <th>14105</th>\n",
              "      <td>1475968224</td>\n",
              "      <td>10/8/2016 12:00:00 AM</td>\n",
              "      <td>13:10:24</td>\n",
              "      <td>840.2</td>\n",
              "      <td>63</td>\n",
              "      <td>30.4</td>\n",
              "      <td>69</td>\n",
              "      <td>359.9</td>\n",
              "      <td>5.6</td>\n",
              "      <td>06:15:00</td>\n",
              "      <td>18:05:00</td>\n",
              "    </tr>\n",
              "    <tr>\n",
              "      <th>1361</th>\n",
              "      <td>1474808718</td>\n",
              "      <td>9/25/2016 12:00:00 AM</td>\n",
              "      <td>03:05:18</td>\n",
              "      <td>1.2</td>\n",
              "      <td>47</td>\n",
              "      <td>30.4</td>\n",
              "      <td>68</td>\n",
              "      <td>182.7</td>\n",
              "      <td>7.9</td>\n",
              "      <td>06:12:00</td>\n",
              "      <td>18:16:00</td>\n",
              "    </tr>\n",
              "    <tr>\n",
              "      <th>15618</th>\n",
              "      <td>1475505322</td>\n",
              "      <td>10/3/2016 12:00:00 AM</td>\n",
              "      <td>04:35:22</td>\n",
              "      <td>1.2</td>\n",
              "      <td>49</td>\n",
              "      <td>30.4</td>\n",
              "      <td>95</td>\n",
              "      <td>157.5</td>\n",
              "      <td>6.8</td>\n",
              "      <td>06:14:00</td>\n",
              "      <td>18:09:00</td>\n",
              "    </tr>\n",
              "    <tr>\n",
              "      <th>4352</th>\n",
              "      <td>1473817204</td>\n",
              "      <td>9/13/2016 12:00:00 AM</td>\n",
              "      <td>15:40:04</td>\n",
              "      <td>294.3</td>\n",
              "      <td>61</td>\n",
              "      <td>30.4</td>\n",
              "      <td>81</td>\n",
              "      <td>320.0</td>\n",
              "      <td>6.8</td>\n",
              "      <td>06:10:00</td>\n",
              "      <td>18:27:00</td>\n",
              "    </tr>\n",
              "    <tr>\n",
              "      <th>12373</th>\n",
              "      <td>1476498623</td>\n",
              "      <td>10/14/2016 12:00:00 AM</td>\n",
              "      <td>16:30:23</td>\n",
              "      <td>360.6</td>\n",
              "      <td>62</td>\n",
              "      <td>30.4</td>\n",
              "      <td>51</td>\n",
              "      <td>75.8</td>\n",
              "      <td>9.0</td>\n",
              "      <td>06:17:00</td>\n",
              "      <td>18:00:00</td>\n",
              "    </tr>\n",
              "  </tbody>\n",
              "</table>\n",
              "<p>40 rows × 11 columns</p>\n",
              "</div>"
            ],
            "text/plain": [
              "         UNIXTime                    Data  ... TimeSunRise  TimeSunSet\n",
              "27247  1482445849  12/22/2016 12:00:00 AM  ...    06:53:00    17:49:00\n",
              "28993  1481920518  12/16/2016 12:00:00 AM  ...    06:50:00    17:46:00\n",
              "1127   1474878919   9/25/2016 12:00:00 AM  ...    06:12:00    18:16:00\n",
              "13145  1476262522  10/11/2016 12:00:00 AM  ...    06:16:00    18:03:00\n",
              "31349  1480987540   12/5/2016 12:00:00 AM  ...    06:44:00    17:43:00\n",
              "...           ...                     ...  ...         ...         ...\n",
              "14105  1475968224   10/8/2016 12:00:00 AM  ...    06:15:00    18:05:00\n",
              "1361   1474808718   9/25/2016 12:00:00 AM  ...    06:12:00    18:16:00\n",
              "15618  1475505322   10/3/2016 12:00:00 AM  ...    06:14:00    18:09:00\n",
              "4352   1473817204   9/13/2016 12:00:00 AM  ...    06:10:00    18:27:00\n",
              "12373  1476498623  10/14/2016 12:00:00 AM  ...    06:17:00    18:00:00\n",
              "\n",
              "[40 rows x 11 columns]"
            ]
          },
          "metadata": {
            "tags": []
          },
          "execution_count": 3
        }
      ]
    },
    {
      "cell_type": "markdown",
      "metadata": {
        "id": "c28PYOGaauV0",
        "colab_type": "text"
      },
      "source": [
        "##Adding some features to the dataset"
      ]
    },
    {
      "cell_type": "code",
      "metadata": {
        "id": "ymGkD9ZPaxro",
        "colab_type": "code",
        "colab": {}
      },
      "source": [
        "#@title Adding feature is_daylight that define measurement time is either daylight (1) or nighttime (0)\n",
        "is_daylight = [data['Time'].values[x] > data['TimeSunRise'].values[x] and data['Time'].values[x] < data['TimeSunSet'].values[x] for x in range(len(data))]\n",
        "data['is_daylight'] = is_daylight\n",
        "data['is_daylight'] = data['is_daylight'].astype('float')"
      ],
      "execution_count": 0,
      "outputs": []
    },
    {
      "cell_type": "code",
      "metadata": {
        "id": "TCCuKjCwBH1M",
        "colab_type": "code",
        "colab": {}
      },
      "source": [
        "#@title Convert UNIXTime into hour, day, month format\n",
        "data['Time_Convert'] = pd.to_datetime(data['Time'], format = '%H:%M:%S')\n",
        "\n",
        "data['Hour'] = pd.to_datetime(data['Time_Convert'], format = '%H:%M:%S').dt.hour # Get the hour of the day\n",
        "\n",
        "data['Day'] = pd.to_datetime(data['UNIXTime'].astype(int), unit = 's').dt.day # Get the day of the month\n",
        "\n",
        "data['Month'] = pd.to_datetime(data['UNIXTime'].astype(int), unit = 's').dt.month # Get the month of the year"
      ],
      "execution_count": 0,
      "outputs": []
    },
    {
      "cell_type": "markdown",
      "metadata": {
        "id": "yQeavaKNayAj",
        "colab_type": "text"
      },
      "source": [
        "##Data Preconditioning"
      ]
    },
    {
      "cell_type": "code",
      "metadata": {
        "id": "lbKi6_Xcbn6M",
        "colab_type": "code",
        "outputId": "d2389610-2bf3-4a94-eaa0-0f77720f2b8c",
        "colab": {
          "base_uri": "https://localhost:8080/",
          "height": 51
        }
      },
      "source": [
        "#@title Splitting data to train set and test set\n",
        "test_split = 0.2 # percentage of train set to be considered as test set\n",
        "data_test = data[:][0:round((len(data)*test_split))]\n",
        "data_train = data[:][round((len(data)*test_split)):]\n",
        "print('train set length:', str(len(data_train)), '\\ntest set length:', \n",
        "      str(len(data_test)))"
      ],
      "execution_count": 12,
      "outputs": [
        {
          "output_type": "stream",
          "text": [
            "train set length: 26149 \n",
            "test set length: 6537\n"
          ],
          "name": "stdout"
        }
      ]
    },
    {
      "cell_type": "code",
      "metadata": {
        "id": "5v5LYeP_dECa",
        "colab_type": "code",
        "outputId": "480c0c8f-e680-4bd1-b03e-161262346597",
        "colab": {
          "base_uri": "https://localhost:8080/",
          "height": 34
        }
      },
      "source": [
        "#@title Normalize values \n",
        "\n",
        "# Calculate the Z-scores of each column in the training set:\n",
        "data_train_mean = data_train.select_dtypes(include=['float64', 'int64']).mean()\n",
        "data_train_std = data_train.select_dtypes(include=['float64', 'int64']).std()\n",
        "data_train_norm = (data_train.select_dtypes(include=['float64', 'int64']) \n",
        "                   - data_train_mean)/data_train_std\n",
        "\n",
        "# Calculate the Z-scores of each column in the test set.\n",
        "data_test_mean = data_test.select_dtypes(include=['float64', 'int64']).mean()\n",
        "data_test_std = data_test.select_dtypes(include=['float64', 'int64']).std()\n",
        "data_test_norm = (data_test.select_dtypes(include=['float64', 'int64'])\n",
        "                  - data_test_mean)/data_test_std\n",
        "\n",
        "print(\"Normalized the values.\")"
      ],
      "execution_count": 13,
      "outputs": [
        {
          "output_type": "stream",
          "text": [
            "Normalized the values.\n"
          ],
          "name": "stdout"
        }
      ]
    },
    {
      "cell_type": "markdown",
      "metadata": {
        "id": "LKdhPgg5eRFI",
        "colab_type": "text"
      },
      "source": [
        "## Represent data\n",
        "\n",
        "The following code cell creates a feature layer containing three features:\n",
        "\n",
        "* `Temperature`\n",
        "* `Pressure`\n",
        "* `is_daylight`\n",
        "* `Day`\n",
        "* `Hour`\n",
        "* `Month`"
      ]
    },
    {
      "cell_type": "code",
      "metadata": {
        "id": "6bDp6l3KeEgb",
        "colab_type": "code",
        "colab": {}
      },
      "source": [
        "# Create empty feature column list\n",
        "feature_columns = []\n",
        "\n",
        "# Represent Temperature as a floating-point value.\n",
        "temperature = tf.feature_column.numeric_column(\"Temperature\")\n",
        "feature_columns.append(temperature)\n",
        "\n",
        "# Represent Pressure as a floating-point value.\n",
        "pressure = tf.feature_column.numeric_column(\"Pressure\")\n",
        "feature_columns.append(pressure)\n",
        "\n",
        "# Represent Daylight as a floating-point value.\n",
        "daylight = tf.feature_column.numeric_column(\"is_daylight\")\n",
        "feature_columns.append(daylight)\n",
        "\n",
        "# Represent Hour as a floating-point value.\n",
        "day = tf.feature_column.numeric_column(\"Day\")\n",
        "feature_columns.append(day)\n",
        "\n",
        "# Represent Hour as a floating-point value.\n",
        "hour = tf.feature_column.numeric_column(\"Hour\")\n",
        "feature_columns.append(hour)\n",
        "\n",
        "# Represent Hour as a floating-point value.\n",
        "month = tf.feature_column.numeric_column(\"Month\")\n",
        "feature_columns.append(month)\n",
        "\n",
        "# Convert the list of feature columns into a layer that will later be fed into\n",
        "# the model. \n",
        "my_feature_layer = tf.keras.layers.DenseFeatures(feature_columns)"
      ],
      "execution_count": 0,
      "outputs": []
    },
    {
      "cell_type": "markdown",
      "metadata": {
        "id": "MMAji1PSfPCt",
        "colab_type": "text"
      },
      "source": [
        "## Build a linear regression model"
      ]
    },
    {
      "cell_type": "code",
      "metadata": {
        "id": "vyOjMo-7ei25",
        "colab_type": "code",
        "outputId": "5c0dc4bd-c7b5-4a79-a55b-63276f186edd",
        "colab": {
          "base_uri": "https://localhost:8080/",
          "height": 34
        }
      },
      "source": [
        "#@title Define plotting function\n",
        "\n",
        "def plot_the_loss_curve(epochs, mse_training, mse_validation):\n",
        "  \"\"\"Plot a curve of loss vs. epoch.\"\"\"\n",
        "\n",
        "  plt.figure()\n",
        "  plt.xlabel(\"Epoch\")\n",
        "  plt.ylabel(\"Root Mean Squared Error\")\n",
        "\n",
        "  plt.plot(epochs[1:], mse_training[1:], label=\"Training Loss\")\n",
        "  plt.plot(epochs[1:], mse_validation[1:], label=\"Validation Loss\")\n",
        "  plt.legend()\n",
        "\n",
        "  merged_mse_lists = mse_training[1:] + mse_validation[1:]\n",
        "  highest_loss = max(merged_mse_lists)\n",
        "  lowest_loss = min(merged_mse_lists)\n",
        "  delta = highest_loss - lowest_loss\n",
        "  print(delta)\n",
        "\n",
        "  top_of_y_axis = highest_loss + (delta * 0.05)\n",
        "  bottom_of_y_axis = lowest_loss - (delta * 0.05)\n",
        "  plt.ylim([bottom_of_y_axis, top_of_y_axis])\n",
        "  plt.show()  \n",
        "\n",
        "print(\"Defined the plot_the_loss_curve function.\")"
      ],
      "execution_count": 47,
      "outputs": [
        {
          "output_type": "stream",
          "text": [
            "Defined the plot_the_loss_curve function.\n"
          ],
          "name": "stdout"
        }
      ]
    },
    {
      "cell_type": "code",
      "metadata": {
        "id": "gEsYOPPhetG3",
        "colab_type": "code",
        "outputId": "4d750c5e-43ee-4e16-80d2-266b4d739bf1",
        "colab": {
          "base_uri": "https://localhost:8080/",
          "height": 34
        }
      },
      "source": [
        "#@title Define functions to create and train a linear regression model\n",
        "def create_model(my_learning_rate, feature_layer):\n",
        "  \"\"\"Create and compile a simple linear regression model.\"\"\"\n",
        "  # Most simple tf.keras models are sequential.\n",
        "  model = tf.keras.models.Sequential()\n",
        "\n",
        "  # Add the layer containing the feature columns to the model.\n",
        "  model.add(feature_layer)\n",
        "\n",
        "  # Add one linear layer to the model to yield a simple linear regressor.\n",
        "  model.add(tf.keras.layers.Dense(units=1, input_shape=(1,)))\n",
        "\n",
        "  # Construct the layers into a model that TensorFlow can execute.\n",
        "  model.compile(optimizer=tf.keras.optimizers.RMSprop(lr=my_learning_rate),\n",
        "                loss=\"mean_squared_error\",\n",
        "                metrics=[tf.keras.metrics.RootMeanSquaredError()])\n",
        "\n",
        "  return model           \n",
        "\n",
        "\n",
        "def train_model(model, dataset, epochs, batch_size, label_name,validation_split):\n",
        "  \"\"\"Feed a dataset into the model in order to train it.\"\"\"\n",
        "\n",
        "  # Split the dataset into features and label.\n",
        "  features = {name:np.array(value) for name, value in dataset.items()}\n",
        "  label = np.array(features.pop(label_name))\n",
        "  history = model.fit(x=features, y=label, batch_size=batch_size,\n",
        "                      epochs=epochs, validation_split=validation_split, \n",
        "                      shuffle=True)\n",
        "\n",
        "  # Get details that will be useful for plotting the loss curve.\n",
        "  epochs = history.epoch\n",
        "  hist = pd.DataFrame(history.history)\n",
        "  rmse = hist[\"root_mean_squared_error\"]\n",
        "\n",
        "  return epochs, rmse, history.history   \n",
        "\n",
        "print(\"Defined the create_model and train_model functions.\")"
      ],
      "execution_count": 48,
      "outputs": [
        {
          "output_type": "stream",
          "text": [
            "Defined the create_model and train_model functions.\n"
          ],
          "name": "stdout"
        }
      ]
    },
    {
      "cell_type": "code",
      "metadata": {
        "id": "wAJuzbBmexB4",
        "colab_type": "code",
        "cellView": "both",
        "outputId": "fe0cace7-b472-4db4-e1c5-6a1050990e18",
        "colab": {
          "base_uri": "https://localhost:8080/",
          "height": 1000
        }
      },
      "source": [
        "#@title Train the model as linear regression\n",
        "# The following variables are the hyperparameters.\n",
        "learning_rate = 0.01\n",
        "epochs = 50\n",
        "batch_size = 1000\n",
        "validation_split = 0.2\n",
        "label_name = \"Radiation\"\n",
        " \n",
        "\n",
        "# Establish the model's topography.\n",
        "my_model = create_model(learning_rate, my_feature_layer)\n",
        "\n",
        "# Train the model on the normalized training set.\n",
        "epochs, mse, history = train_model(my_model, data_train_norm, epochs, batch_size, label_name, \n",
        "                          validation_split=validation_split)\n",
        "plot_the_loss_curve(epochs, history[\"root_mean_squared_error\"], \n",
        "                    history[\"val_root_mean_squared_error\"])\n",
        "\n",
        "test_features = {name:np.array(value) for name, value in data_test_norm.items()}\n",
        "test_label = np.array(test_features.pop(label_name)) # isolate the label\n",
        "print(\"\\n Evaluate the linear regression model against the test set:\")\n",
        "my_model.evaluate(x = test_features, y = test_label, batch_size=batch_size)"
      ],
      "execution_count": 49,
      "outputs": [
        {
          "output_type": "stream",
          "text": [
            "Epoch 1/50\n",
            "21/21 [==============================] - 0s 8ms/step - loss: 3.9909 - root_mean_squared_error: 1.9985 - val_loss: 3.0284 - val_root_mean_squared_error: 1.7359\n",
            "Epoch 2/50\n",
            "21/21 [==============================] - 0s 4ms/step - loss: 2.4311 - root_mean_squared_error: 1.5597 - val_loss: 1.8931 - val_root_mean_squared_error: 1.3711\n",
            "Epoch 3/50\n",
            "21/21 [==============================] - 0s 4ms/step - loss: 1.4919 - root_mean_squared_error: 1.2219 - val_loss: 1.1372 - val_root_mean_squared_error: 1.0617\n",
            "Epoch 4/50\n",
            "21/21 [==============================] - 0s 4ms/step - loss: 0.8889 - root_mean_squared_error: 0.9432 - val_loss: 0.6810 - val_root_mean_squared_error: 0.8212\n",
            "Epoch 5/50\n",
            "21/21 [==============================] - 0s 4ms/step - loss: 0.5444 - root_mean_squared_error: 0.7381 - val_loss: 0.4498 - val_root_mean_squared_error: 0.6674\n",
            "Epoch 6/50\n",
            "21/21 [==============================] - 0s 4ms/step - loss: 0.3924 - root_mean_squared_error: 0.6265 - val_loss: 0.3729 - val_root_mean_squared_error: 0.6082\n",
            "Epoch 7/50\n",
            "21/21 [==============================] - 0s 4ms/step - loss: 0.3533 - root_mean_squared_error: 0.5944 - val_loss: 0.3591 - val_root_mean_squared_error: 0.5966\n",
            "Epoch 8/50\n",
            "21/21 [==============================] - 0s 4ms/step - loss: 0.3455 - root_mean_squared_error: 0.5877 - val_loss: 0.3535 - val_root_mean_squared_error: 0.5922\n",
            "Epoch 9/50\n",
            "21/21 [==============================] - 0s 4ms/step - loss: 0.3438 - root_mean_squared_error: 0.5864 - val_loss: 0.3530 - val_root_mean_squared_error: 0.5915\n",
            "Epoch 10/50\n",
            "21/21 [==============================] - 0s 4ms/step - loss: 0.3437 - root_mean_squared_error: 0.5863 - val_loss: 0.3547 - val_root_mean_squared_error: 0.5923\n",
            "Epoch 11/50\n",
            "21/21 [==============================] - 0s 4ms/step - loss: 0.3438 - root_mean_squared_error: 0.5862 - val_loss: 0.3544 - val_root_mean_squared_error: 0.5923\n",
            "Epoch 12/50\n",
            "21/21 [==============================] - 0s 4ms/step - loss: 0.3440 - root_mean_squared_error: 0.5866 - val_loss: 0.3522 - val_root_mean_squared_error: 0.5910\n",
            "Epoch 13/50\n",
            "21/21 [==============================] - 0s 4ms/step - loss: 0.3439 - root_mean_squared_error: 0.5865 - val_loss: 0.3533 - val_root_mean_squared_error: 0.5917\n",
            "Epoch 14/50\n",
            "21/21 [==============================] - 0s 4ms/step - loss: 0.3440 - root_mean_squared_error: 0.5865 - val_loss: 0.3530 - val_root_mean_squared_error: 0.5914\n",
            "Epoch 15/50\n",
            "21/21 [==============================] - 0s 4ms/step - loss: 0.3441 - root_mean_squared_error: 0.5866 - val_loss: 0.3527 - val_root_mean_squared_error: 0.5911\n",
            "Epoch 16/50\n",
            "21/21 [==============================] - 0s 4ms/step - loss: 0.3440 - root_mean_squared_error: 0.5865 - val_loss: 0.3530 - val_root_mean_squared_error: 0.5919\n",
            "Epoch 17/50\n",
            "21/21 [==============================] - 0s 4ms/step - loss: 0.3440 - root_mean_squared_error: 0.5865 - val_loss: 0.3528 - val_root_mean_squared_error: 0.5911\n",
            "Epoch 18/50\n",
            "21/21 [==============================] - 0s 4ms/step - loss: 0.3441 - root_mean_squared_error: 0.5865 - val_loss: 0.3527 - val_root_mean_squared_error: 0.5915\n",
            "Epoch 19/50\n",
            "21/21 [==============================] - 0s 4ms/step - loss: 0.3439 - root_mean_squared_error: 0.5865 - val_loss: 0.3538 - val_root_mean_squared_error: 0.5917\n",
            "Epoch 20/50\n",
            "21/21 [==============================] - 0s 4ms/step - loss: 0.3441 - root_mean_squared_error: 0.5866 - val_loss: 0.3531 - val_root_mean_squared_error: 0.5916\n",
            "Epoch 21/50\n",
            "21/21 [==============================] - 0s 4ms/step - loss: 0.3441 - root_mean_squared_error: 0.5865 - val_loss: 0.3537 - val_root_mean_squared_error: 0.5921\n",
            "Epoch 22/50\n",
            "21/21 [==============================] - 0s 4ms/step - loss: 0.3439 - root_mean_squared_error: 0.5862 - val_loss: 0.3541 - val_root_mean_squared_error: 0.5925\n",
            "Epoch 23/50\n",
            "21/21 [==============================] - 0s 4ms/step - loss: 0.3439 - root_mean_squared_error: 0.5864 - val_loss: 0.3534 - val_root_mean_squared_error: 0.5917\n",
            "Epoch 24/50\n",
            "21/21 [==============================] - 0s 4ms/step - loss: 0.3443 - root_mean_squared_error: 0.5868 - val_loss: 0.3527 - val_root_mean_squared_error: 0.5916\n",
            "Epoch 25/50\n",
            "21/21 [==============================] - 0s 4ms/step - loss: 0.3437 - root_mean_squared_error: 0.5863 - val_loss: 0.3543 - val_root_mean_squared_error: 0.5923\n",
            "Epoch 26/50\n",
            "21/21 [==============================] - 0s 4ms/step - loss: 0.3440 - root_mean_squared_error: 0.5864 - val_loss: 0.3545 - val_root_mean_squared_error: 0.5934\n",
            "Epoch 27/50\n",
            "21/21 [==============================] - 0s 5ms/step - loss: 0.3440 - root_mean_squared_error: 0.5866 - val_loss: 0.3529 - val_root_mean_squared_error: 0.5913\n",
            "Epoch 28/50\n",
            "21/21 [==============================] - 0s 4ms/step - loss: 0.3438 - root_mean_squared_error: 0.5864 - val_loss: 0.3530 - val_root_mean_squared_error: 0.5912\n",
            "Epoch 29/50\n",
            "21/21 [==============================] - 0s 4ms/step - loss: 0.3437 - root_mean_squared_error: 0.5863 - val_loss: 0.3535 - val_root_mean_squared_error: 0.5917\n",
            "Epoch 30/50\n",
            "21/21 [==============================] - 0s 4ms/step - loss: 0.3438 - root_mean_squared_error: 0.5864 - val_loss: 0.3547 - val_root_mean_squared_error: 0.5925\n",
            "Epoch 31/50\n",
            "21/21 [==============================] - 0s 4ms/step - loss: 0.3436 - root_mean_squared_error: 0.5861 - val_loss: 0.3533 - val_root_mean_squared_error: 0.5923\n",
            "Epoch 32/50\n",
            "21/21 [==============================] - 0s 4ms/step - loss: 0.3441 - root_mean_squared_error: 0.5866 - val_loss: 0.3531 - val_root_mean_squared_error: 0.5915\n",
            "Epoch 33/50\n",
            "21/21 [==============================] - 0s 4ms/step - loss: 0.3438 - root_mean_squared_error: 0.5864 - val_loss: 0.3530 - val_root_mean_squared_error: 0.5914\n",
            "Epoch 34/50\n",
            "21/21 [==============================] - 0s 4ms/step - loss: 0.3443 - root_mean_squared_error: 0.5867 - val_loss: 0.3544 - val_root_mean_squared_error: 0.5923\n",
            "Epoch 35/50\n",
            "21/21 [==============================] - 0s 4ms/step - loss: 0.3437 - root_mean_squared_error: 0.5863 - val_loss: 0.3531 - val_root_mean_squared_error: 0.5914\n",
            "Epoch 36/50\n",
            "21/21 [==============================] - 0s 4ms/step - loss: 0.3441 - root_mean_squared_error: 0.5864 - val_loss: 0.3562 - val_root_mean_squared_error: 0.5936\n",
            "Epoch 37/50\n",
            "21/21 [==============================] - 0s 4ms/step - loss: 0.3446 - root_mean_squared_error: 0.5869 - val_loss: 0.3531 - val_root_mean_squared_error: 0.5913\n",
            "Epoch 38/50\n",
            "21/21 [==============================] - 0s 4ms/step - loss: 0.3437 - root_mean_squared_error: 0.5861 - val_loss: 0.3533 - val_root_mean_squared_error: 0.5920\n",
            "Epoch 39/50\n",
            "21/21 [==============================] - 0s 4ms/step - loss: 0.3439 - root_mean_squared_error: 0.5865 - val_loss: 0.3537 - val_root_mean_squared_error: 0.5924\n",
            "Epoch 40/50\n",
            "21/21 [==============================] - 0s 4ms/step - loss: 0.3436 - root_mean_squared_error: 0.5862 - val_loss: 0.3538 - val_root_mean_squared_error: 0.5920\n",
            "Epoch 41/50\n",
            "21/21 [==============================] - 0s 4ms/step - loss: 0.3440 - root_mean_squared_error: 0.5866 - val_loss: 0.3530 - val_root_mean_squared_error: 0.5913\n",
            "Epoch 42/50\n",
            "21/21 [==============================] - 0s 4ms/step - loss: 0.3436 - root_mean_squared_error: 0.5862 - val_loss: 0.3536 - val_root_mean_squared_error: 0.5922\n",
            "Epoch 43/50\n",
            "21/21 [==============================] - 0s 4ms/step - loss: 0.3445 - root_mean_squared_error: 0.5866 - val_loss: 0.3537 - val_root_mean_squared_error: 0.5923\n",
            "Epoch 44/50\n",
            "21/21 [==============================] - 0s 4ms/step - loss: 0.3439 - root_mean_squared_error: 0.5864 - val_loss: 0.3527 - val_root_mean_squared_error: 0.5914\n",
            "Epoch 45/50\n",
            "21/21 [==============================] - 0s 4ms/step - loss: 0.3438 - root_mean_squared_error: 0.5864 - val_loss: 0.3523 - val_root_mean_squared_error: 0.5911\n",
            "Epoch 46/50\n",
            "21/21 [==============================] - 0s 4ms/step - loss: 0.3442 - root_mean_squared_error: 0.5865 - val_loss: 0.3539 - val_root_mean_squared_error: 0.5920\n",
            "Epoch 47/50\n",
            "21/21 [==============================] - 0s 4ms/step - loss: 0.3438 - root_mean_squared_error: 0.5863 - val_loss: 0.3542 - val_root_mean_squared_error: 0.5922\n",
            "Epoch 48/50\n",
            "21/21 [==============================] - 0s 4ms/step - loss: 0.3440 - root_mean_squared_error: 0.5865 - val_loss: 0.3540 - val_root_mean_squared_error: 0.5920\n",
            "Epoch 49/50\n",
            "21/21 [==============================] - 0s 4ms/step - loss: 0.3437 - root_mean_squared_error: 0.5864 - val_loss: 0.3537 - val_root_mean_squared_error: 0.5918\n",
            "Epoch 50/50\n",
            "21/21 [==============================] - 0s 4ms/step - loss: 0.3439 - root_mean_squared_error: 0.5864 - val_loss: 0.3535 - val_root_mean_squared_error: 0.5915\n",
            "0.9735934138298035\n"
          ],
          "name": "stdout"
        },
        {
          "output_type": "display_data",
          "data": {
            "image/png": "[encoded data removed]",
            "text/plain": [
              "<Figure size 432x288 with 1 Axes>"
            ]
          },
          "metadata": {
            "tags": []
          }
        },
        {
          "output_type": "stream",
          "text": [
            "\n",
            " Evaluate the linear regression model against the test set:\n",
            "7/7 [==============================] - 0s 2ms/step - loss: 0.3442 - root_mean_squared_error: 0.5844\n"
          ],
          "name": "stdout"
        },
        {
          "output_type": "execute_result",
          "data": {
            "text/plain": [
              "[0.344160258769989, 0.5844473242759705]"
            ]
          },
          "metadata": {
            "tags": []
          },
          "execution_count": 49
        }
      ]
    },
    {
      "cell_type": "code",
      "metadata": {
        "id": "MzIkZNjddP_p",
        "colab_type": "code",
        "colab": {}
      },
      "source": [
        ""
      ],
      "execution_count": 0,
      "outputs": []
    }
  ]
}