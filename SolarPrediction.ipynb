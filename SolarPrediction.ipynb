{
  "nbformat": 4,
  "nbformat_minor": 0,
  "metadata": {
    "colab": {
      "name": "SolarPrediction.ipynb",
      "provenance": [],
      "include_colab_link": true
    },
    "kernelspec": {
      "name": "python3",
      "display_name": "Python 3"
    }
  },
  "cells": [
    {
      "cell_type": "markdown",
      "metadata": {
        "id": "view-in-github",
        "colab_type": "text"
      },
      "source": [
        "<a href=\"https://colab.research.google.com/github/mrch-hub/bangkit1/blob/test_feature_2/SolarPrediction.ipynb\" target=\"_parent\"><img src=\"https://colab.research.google.com/assets/colab-badge.svg\" alt=\"Open In Colab\"/></a>"
      ]
    },
    {
      "cell_type": "markdown",
      "metadata": {
        "id": "f5bF6G8ff6Zq",
        "colab_type": "text"
      },
      "source": [
        "##Solar radiation intensity prediction using TensorFlow"
      ]
    },
    {
      "cell_type": "code",
      "metadata": {
        "id": "C6pwJrUZ9rYW",
        "colab_type": "code",
        "outputId": "6a289da9-924b-4a89-fdb3-eb987e32fa59",
        "colab": {
          "base_uri": "https://localhost:8080/",
          "height": 55
        }
      },
      "source": [
        "\"\"\"A python code for predicting solar radiation\n",
        "intensity using TensorFlow. Created for \n",
        "5th Bangk!t assignment.\n",
        "Collaborators: Marcellinus Chrisnada, Muhammad\n",
        "Harits Hafidza, Mochammad Randy Caesario H.\"\"\""
      ],
      "execution_count": 0,
      "outputs": [
        {
          "output_type": "execute_result",
          "data": {
            "text/plain": [
              "'A python code for predicting solar radiation\\nintensity using TensorFlow. Created for \\n5th Bangk!t assignment.\\nCollaborators: Marcellinus Chrisnada, Muhammad\\nHarits Hafidza, Mochammad Randy Caesario H.'"
            ]
          },
          "metadata": {
            "tags": []
          },
          "execution_count": 40
        }
      ]
    },
    {
      "cell_type": "markdown",
      "metadata": {
        "id": "yb2tFywNgWIn",
        "colab_type": "text"
      },
      "source": [
        "##Initialization"
      ]
    },
    {
      "cell_type": "code",
      "metadata": {
        "id": "d8ekWJYDbTzp",
        "colab_type": "code",
        "cellView": "form",
        "colab": {}
      },
      "source": [
        "#@title Run on TensorFlow 2.x\n",
        "%tensorflow_version 2.x\n",
        "from __future__ import absolute_import, division, print_function, unicode_literals"
      ],
      "execution_count": 0,
      "outputs": []
    },
    {
      "cell_type": "code",
      "metadata": {
        "id": "oPY5vbLWXmKN",
        "colab_type": "code",
        "cellView": "both",
        "outputId": "e2839e04-8f9c-4a99-9b96-8bdb75cf72bc",
        "colab": {
          "base_uri": "https://localhost:8080/",
          "height": 68
        }
      },
      "source": [
        "#@title Import relevant modules\n",
        "import numpy as np\n",
        "import pandas as pd\n",
        "import tensorflow as tf\n",
        "from tensorflow.keras import layers\n",
        "from matplotlib import pyplot as plt\n",
        "import seaborn as sns\n",
        "\n",
        "# Adjust the granularity of reporting. \n",
        "pd.options.display.max_rows = 10\n",
        "pd.options.display.float_format = \"{:.1f}\".format\n",
        "\n",
        "print(\"Imported modules.\")"
      ],
      "execution_count": 1,
      "outputs": [
        {
          "output_type": "stream",
          "text": [
            "Imported modules.\n"
          ],
          "name": "stdout"
        },
        {
          "output_type": "stream",
          "text": [
            "/usr/local/lib/python3.6/dist-packages/statsmodels/tools/_testing.py:19: FutureWarning: pandas.util.testing is deprecated. Use the functions in the public API at pandas.testing instead.\n",
            "  import pandas.util.testing as tm\n"
          ],
          "name": "stderr"
        }
      ]
    },
    {
      "cell_type": "code",
      "metadata": {
        "id": "oRlH8pQwbSpE",
        "colab_type": "code",
        "outputId": "661d3236-f933-4dfb-9778-a8c28bc59923",
        "colab": {
          "base_uri": "https://localhost:8080/",
          "height": 419
        }
      },
      "source": [
        "#@title Load dataset\n",
        "data = pd.read_csv('https://raw.githubusercontent.com/mrch-hub/bangkit1/master/SolarPrediction.csv')\n",
        "data = data.reindex(np.random.permutation(data.index)) # shuffle dataset\n",
        "data.head(40)"
      ],
      "execution_count": 3,
      "outputs": [
        {
          "output_type": "execute_result",
          "data": {
            "text/html": [
              "<div>\n",
              "<style scoped>\n",
              "    .dataframe tbody tr th:only-of-type {\n",
              "        vertical-align: middle;\n",
              "    }\n",
              "\n",
              "    .dataframe tbody tr th {\n",
              "        vertical-align: top;\n",
              "    }\n",
              "\n",
              "    .dataframe thead th {\n",
              "        text-align: right;\n",
              "    }\n",
              "</style>\n",
              "<table border=\"1\" class=\"dataframe\">\n",
              "  <thead>\n",
              "    <tr style=\"text-align: right;\">\n",
              "      <th></th>\n",
              "      <th>UNIXTime</th>\n",
              "      <th>Data</th>\n",
              "      <th>Time</th>\n",
              "      <th>Radiation</th>\n",
              "      <th>Temperature</th>\n",
              "      <th>Pressure</th>\n",
              "      <th>Humidity</th>\n",
              "      <th>WindDirection(Degrees)</th>\n",
              "      <th>Speed</th>\n",
              "      <th>TimeSunRise</th>\n",
              "      <th>TimeSunSet</th>\n",
              "    </tr>\n",
              "  </thead>\n",
              "  <tbody>\n",
              "    <tr>\n",
              "      <th>21543</th>\n",
              "      <td>1478889308</td>\n",
              "      <td>11/11/2016 12:00:00 AM</td>\n",
              "      <td>08:35:08</td>\n",
              "      <td>470.5</td>\n",
              "      <td>59</td>\n",
              "      <td>30.5</td>\n",
              "      <td>37</td>\n",
              "      <td>66.4</td>\n",
              "      <td>1.1</td>\n",
              "      <td>06:29:00</td>\n",
              "      <td>17:44:00</td>\n",
              "    </tr>\n",
              "    <tr>\n",
              "      <th>10383</th>\n",
              "      <td>1477101617</td>\n",
              "      <td>10/21/2016 12:00:00 AM</td>\n",
              "      <td>16:00:17</td>\n",
              "      <td>437.5</td>\n",
              "      <td>51</td>\n",
              "      <td>30.4</td>\n",
              "      <td>93</td>\n",
              "      <td>71.8</td>\n",
              "      <td>5.6</td>\n",
              "      <td>06:19:00</td>\n",
              "      <td>17:55:00</td>\n",
              "    </tr>\n",
              "    <tr>\n",
              "      <th>31896</th>\n",
              "      <td>1480823134</td>\n",
              "      <td>12/3/2016 12:00:00 AM</td>\n",
              "      <td>17:45:34</td>\n",
              "      <td>3.8</td>\n",
              "      <td>45</td>\n",
              "      <td>30.3</td>\n",
              "      <td>93</td>\n",
              "      <td>260.6</td>\n",
              "      <td>0.0</td>\n",
              "      <td>06:42:00</td>\n",
              "      <td>17:43:00</td>\n",
              "    </tr>\n",
              "    <tr>\n",
              "      <th>29665</th>\n",
              "      <td>1481717404</td>\n",
              "      <td>12/14/2016 12:00:00 AM</td>\n",
              "      <td>02:10:04</td>\n",
              "      <td>1.2</td>\n",
              "      <td>38</td>\n",
              "      <td>30.3</td>\n",
              "      <td>63</td>\n",
              "      <td>223.7</td>\n",
              "      <td>2.2</td>\n",
              "      <td>06:49:00</td>\n",
              "      <td>17:46:00</td>\n",
              "    </tr>\n",
              "    <tr>\n",
              "      <th>13630</th>\n",
              "      <td>1476115522</td>\n",
              "      <td>10/10/2016 12:00:00 AM</td>\n",
              "      <td>06:05:22</td>\n",
              "      <td>1.8</td>\n",
              "      <td>46</td>\n",
              "      <td>30.4</td>\n",
              "      <td>79</td>\n",
              "      <td>197.2</td>\n",
              "      <td>9.0</td>\n",
              "      <td>06:16:00</td>\n",
              "      <td>18:03:00</td>\n",
              "    </tr>\n",
              "    <tr>\n",
              "      <th>...</th>\n",
              "      <td>...</td>\n",
              "      <td>...</td>\n",
              "      <td>...</td>\n",
              "      <td>...</td>\n",
              "      <td>...</td>\n",
              "      <td>...</td>\n",
              "      <td>...</td>\n",
              "      <td>...</td>\n",
              "      <td>...</td>\n",
              "      <td>...</td>\n",
              "      <td>...</td>\n",
              "    </tr>\n",
              "    <tr>\n",
              "      <th>29337</th>\n",
              "      <td>1481816428</td>\n",
              "      <td>12/15/2016 12:00:00 AM</td>\n",
              "      <td>05:40:28</td>\n",
              "      <td>1.3</td>\n",
              "      <td>35</td>\n",
              "      <td>30.2</td>\n",
              "      <td>97</td>\n",
              "      <td>242.6</td>\n",
              "      <td>10.1</td>\n",
              "      <td>06:50:00</td>\n",
              "      <td>17:46:00</td>\n",
              "    </tr>\n",
              "    <tr>\n",
              "      <th>446</th>\n",
              "      <td>1475094024</td>\n",
              "      <td>9/28/2016 12:00:00 AM</td>\n",
              "      <td>10:20:24</td>\n",
              "      <td>898.1</td>\n",
              "      <td>63</td>\n",
              "      <td>30.4</td>\n",
              "      <td>51</td>\n",
              "      <td>46.3</td>\n",
              "      <td>2.2</td>\n",
              "      <td>06:13:00</td>\n",
              "      <td>18:14:00</td>\n",
              "    </tr>\n",
              "    <tr>\n",
              "      <th>3927</th>\n",
              "      <td>1473947706</td>\n",
              "      <td>9/15/2016 12:00:00 AM</td>\n",
              "      <td>03:55:06</td>\n",
              "      <td>1.2</td>\n",
              "      <td>49</td>\n",
              "      <td>30.4</td>\n",
              "      <td>93</td>\n",
              "      <td>145.2</td>\n",
              "      <td>2.2</td>\n",
              "      <td>06:10:00</td>\n",
              "      <td>18:26:00</td>\n",
              "    </tr>\n",
              "    <tr>\n",
              "      <th>24571</th>\n",
              "      <td>1483249802</td>\n",
              "      <td>12/31/2016 12:00:00 AM</td>\n",
              "      <td>19:50:02</td>\n",
              "      <td>1.2</td>\n",
              "      <td>46</td>\n",
              "      <td>30.3</td>\n",
              "      <td>88</td>\n",
              "      <td>273.4</td>\n",
              "      <td>4.5</td>\n",
              "      <td>06:57:00</td>\n",
              "      <td>17:54:00</td>\n",
              "    </tr>\n",
              "    <tr>\n",
              "      <th>25966</th>\n",
              "      <td>1482830149</td>\n",
              "      <td>12/26/2016 12:00:00 AM</td>\n",
              "      <td>23:15:49</td>\n",
              "      <td>1.2</td>\n",
              "      <td>41</td>\n",
              "      <td>30.5</td>\n",
              "      <td>97</td>\n",
              "      <td>82.4</td>\n",
              "      <td>6.8</td>\n",
              "      <td>06:55:00</td>\n",
              "      <td>17:51:00</td>\n",
              "    </tr>\n",
              "  </tbody>\n",
              "</table>\n",
              "<p>40 rows × 11 columns</p>\n",
              "</div>"
            ],
            "text/plain": [
              "         UNIXTime                    Data  ... TimeSunRise  TimeSunSet\n",
              "21543  1478889308  11/11/2016 12:00:00 AM  ...    06:29:00    17:44:00\n",
              "10383  1477101617  10/21/2016 12:00:00 AM  ...    06:19:00    17:55:00\n",
              "31896  1480823134   12/3/2016 12:00:00 AM  ...    06:42:00    17:43:00\n",
              "29665  1481717404  12/14/2016 12:00:00 AM  ...    06:49:00    17:46:00\n",
              "13630  1476115522  10/10/2016 12:00:00 AM  ...    06:16:00    18:03:00\n",
              "...           ...                     ...  ...         ...         ...\n",
              "29337  1481816428  12/15/2016 12:00:00 AM  ...    06:50:00    17:46:00\n",
              "446    1475094024   9/28/2016 12:00:00 AM  ...    06:13:00    18:14:00\n",
              "3927   1473947706   9/15/2016 12:00:00 AM  ...    06:10:00    18:26:00\n",
              "24571  1483249802  12/31/2016 12:00:00 AM  ...    06:57:00    17:54:00\n",
              "25966  1482830149  12/26/2016 12:00:00 AM  ...    06:55:00    17:51:00\n",
              "\n",
              "[40 rows x 11 columns]"
            ]
          },
          "metadata": {
            "tags": []
          },
          "execution_count": 3
        }
      ]
    },
    {
      "cell_type": "markdown",
      "metadata": {
        "id": "c28PYOGaauV0",
        "colab_type": "text"
      },
      "source": [
        "##Adding some features to the dataset"
      ]
    },
    {
      "cell_type": "code",
      "metadata": {
        "id": "ymGkD9ZPaxro",
        "colab_type": "code",
        "colab": {}
      },
      "source": [
        "#@title Adding feature is_daylight that define measurement time is either daylight (1) or nighttime (0)\n",
        "is_daylight = [data['Time'].values[x] > data['TimeSunRise'].values[x] and data['Time'].values[x] < data['TimeSunSet'].values[x] for x in range(len(data))]\n",
        "data['is_daylight'] = is_daylight\n",
        "data['is_daylight'] = data['is_daylight'].astype('float')"
      ],
      "execution_count": 0,
      "outputs": []
    },
    {
      "cell_type": "code",
      "metadata": {
        "id": "TCCuKjCwBH1M",
        "colab_type": "code",
        "colab": {}
      },
      "source": [
        "#@title Convert UNIXTime into hour, day, month format\n",
        "data['Time_Convert'] = pd.to_datetime(data['Time'], format = '%H:%M:%S')\n",
        "\n",
        "data['Hour'] = pd.to_datetime(data['Time_Convert'], format = '%H:%M:%S').dt.hour # Get the hour of the day\n",
        "\n",
        "data['Day'] = pd.to_datetime(data['UNIXTime'].astype(int), unit = 's').dt.day # Get the day of the month\n",
        "\n",
        "data['Month'] = pd.to_datetime(data['UNIXTime'].astype(int), unit = 's').dt.month # Get the month of the year"
      ],
      "execution_count": 0,
      "outputs": []
    },
    {
      "cell_type": "code",
      "metadata": {
        "id": "bah52djqoM7Q",
        "colab_type": "code",
        "colab": {
          "base_uri": "https://localhost:8080/",
          "height": 204
        },
        "outputId": "c9600763-5bdf-4d57-d33e-7e6d5af754c4"
      },
      "source": [
        "data.head()"
      ],
      "execution_count": 29,
      "outputs": [
        {
          "output_type": "execute_result",
          "data": {
            "text/html": [
              "<div>\n",
              "<style scoped>\n",
              "    .dataframe tbody tr th:only-of-type {\n",
              "        vertical-align: middle;\n",
              "    }\n",
              "\n",
              "    .dataframe tbody tr th {\n",
              "        vertical-align: top;\n",
              "    }\n",
              "\n",
              "    .dataframe thead th {\n",
              "        text-align: right;\n",
              "    }\n",
              "</style>\n",
              "<table border=\"1\" class=\"dataframe\">\n",
              "  <thead>\n",
              "    <tr style=\"text-align: right;\">\n",
              "      <th></th>\n",
              "      <th>UNIXTime</th>\n",
              "      <th>Data</th>\n",
              "      <th>Time</th>\n",
              "      <th>Radiation</th>\n",
              "      <th>Temperature</th>\n",
              "      <th>Pressure</th>\n",
              "      <th>Humidity</th>\n",
              "      <th>WindDirection(Degrees)</th>\n",
              "      <th>Speed</th>\n",
              "      <th>TimeSunRise</th>\n",
              "      <th>TimeSunSet</th>\n",
              "      <th>is_daylight</th>\n",
              "      <th>Time_Convert</th>\n",
              "      <th>Hour</th>\n",
              "      <th>Day</th>\n",
              "      <th>Month</th>\n",
              "    </tr>\n",
              "  </thead>\n",
              "  <tbody>\n",
              "    <tr>\n",
              "      <th>21543</th>\n",
              "      <td>1478889308</td>\n",
              "      <td>11/11/2016 12:00:00 AM</td>\n",
              "      <td>08:35:08</td>\n",
              "      <td>470.5</td>\n",
              "      <td>59</td>\n",
              "      <td>30.5</td>\n",
              "      <td>37</td>\n",
              "      <td>66.4</td>\n",
              "      <td>1.1</td>\n",
              "      <td>06:29:00</td>\n",
              "      <td>17:44:00</td>\n",
              "      <td>1.0</td>\n",
              "      <td>1900-01-01 08:35:08</td>\n",
              "      <td>8</td>\n",
              "      <td>11</td>\n",
              "      <td>11</td>\n",
              "    </tr>\n",
              "    <tr>\n",
              "      <th>10383</th>\n",
              "      <td>1477101617</td>\n",
              "      <td>10/21/2016 12:00:00 AM</td>\n",
              "      <td>16:00:17</td>\n",
              "      <td>437.5</td>\n",
              "      <td>51</td>\n",
              "      <td>30.4</td>\n",
              "      <td>93</td>\n",
              "      <td>71.8</td>\n",
              "      <td>5.6</td>\n",
              "      <td>06:19:00</td>\n",
              "      <td>17:55:00</td>\n",
              "      <td>1.0</td>\n",
              "      <td>1900-01-01 16:00:17</td>\n",
              "      <td>16</td>\n",
              "      <td>22</td>\n",
              "      <td>10</td>\n",
              "    </tr>\n",
              "    <tr>\n",
              "      <th>31896</th>\n",
              "      <td>1480823134</td>\n",
              "      <td>12/3/2016 12:00:00 AM</td>\n",
              "      <td>17:45:34</td>\n",
              "      <td>3.8</td>\n",
              "      <td>45</td>\n",
              "      <td>30.3</td>\n",
              "      <td>93</td>\n",
              "      <td>260.6</td>\n",
              "      <td>0.0</td>\n",
              "      <td>06:42:00</td>\n",
              "      <td>17:43:00</td>\n",
              "      <td>0.0</td>\n",
              "      <td>1900-01-01 17:45:34</td>\n",
              "      <td>17</td>\n",
              "      <td>4</td>\n",
              "      <td>12</td>\n",
              "    </tr>\n",
              "    <tr>\n",
              "      <th>29665</th>\n",
              "      <td>1481717404</td>\n",
              "      <td>12/14/2016 12:00:00 AM</td>\n",
              "      <td>02:10:04</td>\n",
              "      <td>1.2</td>\n",
              "      <td>38</td>\n",
              "      <td>30.3</td>\n",
              "      <td>63</td>\n",
              "      <td>223.7</td>\n",
              "      <td>2.2</td>\n",
              "      <td>06:49:00</td>\n",
              "      <td>17:46:00</td>\n",
              "      <td>0.0</td>\n",
              "      <td>1900-01-01 02:10:04</td>\n",
              "      <td>2</td>\n",
              "      <td>14</td>\n",
              "      <td>12</td>\n",
              "    </tr>\n",
              "    <tr>\n",
              "      <th>13630</th>\n",
              "      <td>1476115522</td>\n",
              "      <td>10/10/2016 12:00:00 AM</td>\n",
              "      <td>06:05:22</td>\n",
              "      <td>1.8</td>\n",
              "      <td>46</td>\n",
              "      <td>30.4</td>\n",
              "      <td>79</td>\n",
              "      <td>197.2</td>\n",
              "      <td>9.0</td>\n",
              "      <td>06:16:00</td>\n",
              "      <td>18:03:00</td>\n",
              "      <td>0.0</td>\n",
              "      <td>1900-01-01 06:05:22</td>\n",
              "      <td>6</td>\n",
              "      <td>10</td>\n",
              "      <td>10</td>\n",
              "    </tr>\n",
              "  </tbody>\n",
              "</table>\n",
              "</div>"
            ],
            "text/plain": [
              "         UNIXTime                    Data      Time  ...  Hour  Day  Month\n",
              "21543  1478889308  11/11/2016 12:00:00 AM  08:35:08  ...     8   11     11\n",
              "10383  1477101617  10/21/2016 12:00:00 AM  16:00:17  ...    16   22     10\n",
              "31896  1480823134   12/3/2016 12:00:00 AM  17:45:34  ...    17    4     12\n",
              "29665  1481717404  12/14/2016 12:00:00 AM  02:10:04  ...     2   14     12\n",
              "13630  1476115522  10/10/2016 12:00:00 AM  06:05:22  ...     6   10     10\n",
              "\n",
              "[5 rows x 16 columns]"
            ]
          },
          "metadata": {
            "tags": []
          },
          "execution_count": 29
        }
      ]
    },
    {
      "cell_type": "markdown",
      "metadata": {
        "id": "yQeavaKNayAj",
        "colab_type": "text"
      },
      "source": [
        "##Data Preconditioning"
      ]
    },
    {
      "cell_type": "code",
      "metadata": {
        "id": "lbKi6_Xcbn6M",
        "colab_type": "code",
        "outputId": "ededa36f-fe8a-4e87-8dc4-91d77528c0c5",
        "colab": {
          "base_uri": "https://localhost:8080/",
          "height": 51
        }
      },
      "source": [
        "#@title Splitting data to train set and test set\n",
        "test_split = 0.2 # percentage of train set to be considered as test set\n",
        "data_test = data[:][0:round((len(data)*test_split))]\n",
        "data_train = data[:][round((len(data)*test_split)):]\n",
        "print('train set length:', str(len(data_train)), '\\ntest set length:', \n",
        "      str(len(data_test)))"
      ],
      "execution_count": 6,
      "outputs": [
        {
          "output_type": "stream",
          "text": [
            "train set length: 26149 \n",
            "test set length: 6537\n"
          ],
          "name": "stdout"
        }
      ]
    },
    {
      "cell_type": "code",
      "metadata": {
        "id": "5v5LYeP_dECa",
        "colab_type": "code",
        "outputId": "fd4aebb3-7714-4e9b-f19d-b836942c6b18",
        "colab": {
          "base_uri": "https://localhost:8080/",
          "height": 34
        }
      },
      "source": [
        "#@title Normalize values \n",
        "\n",
        "# Calculate the Z-scores of each column in the training set:\n",
        "data_train_mean = data_train.select_dtypes(include=['float64', 'int64']).mean()\n",
        "data_train_std = data_train.select_dtypes(include=['float64', 'int64']).std()\n",
        "data_train_norm = (data_train.select_dtypes(include=['float64', 'int64']) \n",
        "                   - data_train_mean)/data_train_std\n",
        "\n",
        "# Calculate the Z-scores of each column in the test set.\n",
        "data_test_mean = data_test.select_dtypes(include=['float64', 'int64']).mean()\n",
        "data_test_std = data_test.select_dtypes(include=['float64', 'int64']).std()\n",
        "data_test_norm = (data_test.select_dtypes(include=['float64', 'int64'])\n",
        "                  - data_test_mean)/data_test_std\n",
        "\n",
        "print(\"Normalized the values.\")"
      ],
      "execution_count": 7,
      "outputs": [
        {
          "output_type": "stream",
          "text": [
            "Normalized the values.\n"
          ],
          "name": "stdout"
        }
      ]
    },
    {
      "cell_type": "markdown",
      "metadata": {
        "id": "LKdhPgg5eRFI",
        "colab_type": "text"
      },
      "source": [
        "## Represent data\n",
        "\n",
        "The following code cell creates a feature layer containing three features:\n",
        "\n",
        "* `Temperature`\n",
        "* `Pressure`\n",
        "* `Humidity`\n",
        "* `Wind Direction`"
      ]
    },
    {
      "cell_type": "code",
      "metadata": {
        "id": "6bDp6l3KeEgb",
        "colab_type": "code",
        "colab": {}
      },
      "source": [
        "# Create empty feature column list\n",
        "feature_columns = []\n",
        "\n",
        "# Represent Temperature as a floating-point value.\n",
        "temperature = tf.feature_column.numeric_column(\"Temperature\")\n",
        "feature_columns.append(temperature)\n",
        "\n",
        "# Represent Pressure as a floating-point value.\n",
        "pressure = tf.feature_column.numeric_column(\"Pressure\")\n",
        "feature_columns.append(pressure)\n",
        "\n",
        "\n",
        "# Convert the list of feature columns into a layer that will later be fed into\n",
        "# the model. \n",
        "my_feature_layer = tf.keras.layers.DenseFeatures(feature_columns)"
      ],
      "execution_count": 0,
      "outputs": []
    },
    {
      "cell_type": "markdown",
      "metadata": {
        "id": "MMAji1PSfPCt",
        "colab_type": "text"
      },
      "source": [
        "## Build a linear regression model"
      ]
    },
    {
      "cell_type": "code",
      "metadata": {
        "id": "vyOjMo-7ei25",
        "colab_type": "code",
        "outputId": "e63b2a21-5a7e-4093-8755-6bcddda958db",
        "colab": {
          "base_uri": "https://localhost:8080/",
          "height": 34
        }
      },
      "source": [
        "#@title Define plotting function\n",
        "\n",
        "def plot_the_loss_curve(epochs, mse):\n",
        "  \"\"\"Plot a curve of loss vs. epoch.\"\"\"\n",
        "\n",
        "  plt.figure()\n",
        "  plt.xlabel(\"Epoch\")\n",
        "  plt.ylabel(\"Mean Squared Error\")\n",
        "\n",
        "  plt.plot(epochs, mse, label=\"Loss\")\n",
        "  plt.legend()\n",
        "  plt.ylim([mse.min()*0.95, mse.max() * 1.03])\n",
        "  plt.show()  \n",
        "\n",
        "print(\"Defined the plot_the_loss_curve function.\")"
      ],
      "execution_count": 19,
      "outputs": [
        {
          "output_type": "stream",
          "text": [
            "Defined the plot_the_loss_curve function.\n"
          ],
          "name": "stdout"
        }
      ]
    },
    {
      "cell_type": "code",
      "metadata": {
        "id": "gEsYOPPhetG3",
        "colab_type": "code",
        "outputId": "e49446ee-b07e-415a-d23e-a13658ea6452",
        "colab": {
          "base_uri": "https://localhost:8080/",
          "height": 34
        }
      },
      "source": [
        "#@title Define functions to create and train a linear regression model\n",
        "def create_model(my_learning_rate, feature_layer):\n",
        "  \"\"\"Create and compile a simple linear regression model.\"\"\"\n",
        "  # Most simple tf.keras models are sequential.\n",
        "  model = tf.keras.models.Sequential()\n",
        "\n",
        "  # Add the layer containing the feature columns to the model.\n",
        "  model.add(feature_layer)\n",
        "\n",
        "  # Add one linear layer to the model to yield a simple linear regressor.\n",
        "  model.add(tf.keras.layers.Dense(units=1, input_shape=(1,)))\n",
        "\n",
        "  # Construct the layers into a model that TensorFlow can execute.\n",
        "  model.compile(optimizer=tf.keras.optimizers.RMSprop(lr=my_learning_rate),\n",
        "                loss=\"mean_squared_error\",\n",
        "                metrics=[tf.keras.metrics.MeanSquaredError()])\n",
        "\n",
        "  return model           \n",
        "\n",
        "\n",
        "def train_model(model, dataset, epochs, batch_size, label_name):\n",
        "  \"\"\"Feed a dataset into the model in order to train it.\"\"\"\n",
        "\n",
        "  # Split the dataset into features and label.\n",
        "  features = {name:np.array(value) for name, value in dataset.items()}\n",
        "  label = np.array(features.pop(label_name))\n",
        "  history = model.fit(x=features, y=label, batch_size=batch_size,\n",
        "                      epochs=epochs, shuffle=True)\n",
        "\n",
        "  # Get details that will be useful for plotting the loss curve.\n",
        "  epochs = history.epoch\n",
        "  hist = pd.DataFrame(history.history)\n",
        "  rmse = hist[\"mean_squared_error\"]\n",
        "\n",
        "  return epochs, rmse   \n",
        "\n",
        "print(\"Defined the create_model and train_model functions.\")"
      ],
      "execution_count": 27,
      "outputs": [
        {
          "output_type": "stream",
          "text": [
            "Defined the create_model and train_model functions.\n"
          ],
          "name": "stdout"
        }
      ]
    },
    {
      "cell_type": "code",
      "metadata": {
        "id": "wAJuzbBmexB4",
        "colab_type": "code",
        "cellView": "both",
        "outputId": "22a3df88-6da3-47a4-f1ba-b9393104cb8a",
        "colab": {
          "base_uri": "https://localhost:8080/",
          "height": 1000
        }
      },
      "source": [
        "#@title Train the model as linear regression\n",
        "# The following variables are the hyperparameters.\n",
        "learning_rate = 0.01\n",
        "epochs = 50\n",
        "batch_size = 1000\n",
        "label_name = \"Radiation\"\n",
        " \n",
        "\n",
        "# Establish the model's topography.\n",
        "my_model = create_model(learning_rate, my_feature_layer)\n",
        "\n",
        "# Train the model on the normalized training set.\n",
        "epochs, mse = train_model(my_model, data_train_norm, epochs, batch_size, label_name)\n",
        "plot_the_loss_curve(epochs, mse)\n",
        "\n",
        "test_features = {name:np.array(value) for name, value in data_test_norm.items()}\n",
        "test_label = np.array(test_features.pop(label_name)) # isolate the label\n",
        "print(\"\\n Evaluate the linear regression model against the test set:\")\n",
        "my_model.evaluate(x = test_features, y = test_label, batch_size=batch_size)"
      ],
      "execution_count": 28,
      "outputs": [
        {
          "output_type": "stream",
          "text": [
            "Epoch 1/50\n",
            "27/27 [==============================] - 0s 2ms/step - loss: 0.7236 - mean_squared_error: 0.7257\n",
            "Epoch 2/50\n",
            "27/27 [==============================] - 0s 2ms/step - loss: 0.5279 - mean_squared_error: 0.5319\n",
            "Epoch 3/50\n",
            "27/27 [==============================] - 0s 2ms/step - loss: 0.4585 - mean_squared_error: 0.4603\n",
            "Epoch 4/50\n",
            "27/27 [==============================] - 0s 2ms/step - loss: 0.4480 - mean_squared_error: 0.4477\n",
            "Epoch 5/50\n",
            "27/27 [==============================] - 0s 2ms/step - loss: 0.4524 - mean_squared_error: 0.4470\n",
            "Epoch 6/50\n",
            "27/27 [==============================] - 0s 2ms/step - loss: 0.4468 - mean_squared_error: 0.4468\n",
            "Epoch 7/50\n",
            "27/27 [==============================] - 0s 2ms/step - loss: 0.4503 - mean_squared_error: 0.4473\n",
            "Epoch 8/50\n",
            "27/27 [==============================] - 0s 2ms/step - loss: 0.4486 - mean_squared_error: 0.4471\n",
            "Epoch 9/50\n",
            "27/27 [==============================] - 0s 2ms/step - loss: 0.4469 - mean_squared_error: 0.4472\n",
            "Epoch 10/50\n",
            "27/27 [==============================] - 0s 2ms/step - loss: 0.4541 - mean_squared_error: 0.4472\n",
            "Epoch 11/50\n",
            "27/27 [==============================] - 0s 2ms/step - loss: 0.4482 - mean_squared_error: 0.4471\n",
            "Epoch 12/50\n",
            "27/27 [==============================] - 0s 2ms/step - loss: 0.4498 - mean_squared_error: 0.4472\n",
            "Epoch 13/50\n",
            "27/27 [==============================] - 0s 2ms/step - loss: 0.4482 - mean_squared_error: 0.4470\n",
            "Epoch 14/50\n",
            "27/27 [==============================] - 0s 2ms/step - loss: 0.4472 - mean_squared_error: 0.4475\n",
            "Epoch 15/50\n",
            "27/27 [==============================] - 0s 2ms/step - loss: 0.4455 - mean_squared_error: 0.4474\n",
            "Epoch 16/50\n",
            "27/27 [==============================] - 0s 2ms/step - loss: 0.4460 - mean_squared_error: 0.4471\n",
            "Epoch 17/50\n",
            "27/27 [==============================] - 0s 2ms/step - loss: 0.4451 - mean_squared_error: 0.4474\n",
            "Epoch 18/50\n",
            "27/27 [==============================] - 0s 2ms/step - loss: 0.4477 - mean_squared_error: 0.4472\n",
            "Epoch 19/50\n",
            "27/27 [==============================] - 0s 2ms/step - loss: 0.4475 - mean_squared_error: 0.4473\n",
            "Epoch 20/50\n",
            "27/27 [==============================] - 0s 2ms/step - loss: 0.4466 - mean_squared_error: 0.4472\n",
            "Epoch 21/50\n",
            "27/27 [==============================] - 0s 2ms/step - loss: 0.4497 - mean_squared_error: 0.4473\n",
            "Epoch 22/50\n",
            "27/27 [==============================] - 0s 2ms/step - loss: 0.4494 - mean_squared_error: 0.4472\n",
            "Epoch 23/50\n",
            "27/27 [==============================] - 0s 2ms/step - loss: 0.4462 - mean_squared_error: 0.4473\n",
            "Epoch 24/50\n",
            "27/27 [==============================] - 0s 2ms/step - loss: 0.4456 - mean_squared_error: 0.4472\n",
            "Epoch 25/50\n",
            "27/27 [==============================] - 0s 2ms/step - loss: 0.4453 - mean_squared_error: 0.4472\n",
            "Epoch 26/50\n",
            "27/27 [==============================] - 0s 2ms/step - loss: 0.4472 - mean_squared_error: 0.4472\n",
            "Epoch 27/50\n",
            "27/27 [==============================] - 0s 2ms/step - loss: 0.4491 - mean_squared_error: 0.4469\n",
            "Epoch 28/50\n",
            "27/27 [==============================] - 0s 2ms/step - loss: 0.4464 - mean_squared_error: 0.4470\n",
            "Epoch 29/50\n",
            "27/27 [==============================] - 0s 2ms/step - loss: 0.4480 - mean_squared_error: 0.4473\n",
            "Epoch 30/50\n",
            "27/27 [==============================] - 0s 2ms/step - loss: 0.4463 - mean_squared_error: 0.4473\n",
            "Epoch 31/50\n",
            "27/27 [==============================] - 0s 2ms/step - loss: 0.4442 - mean_squared_error: 0.4470\n",
            "Epoch 32/50\n",
            "27/27 [==============================] - 0s 2ms/step - loss: 0.4452 - mean_squared_error: 0.4472\n",
            "Epoch 33/50\n",
            "27/27 [==============================] - 0s 2ms/step - loss: 0.4455 - mean_squared_error: 0.4470\n",
            "Epoch 34/50\n",
            "27/27 [==============================] - 0s 2ms/step - loss: 0.4492 - mean_squared_error: 0.4472\n",
            "Epoch 35/50\n",
            "27/27 [==============================] - 0s 2ms/step - loss: 0.4478 - mean_squared_error: 0.4473\n",
            "Epoch 36/50\n",
            "27/27 [==============================] - 0s 2ms/step - loss: 0.4481 - mean_squared_error: 0.4474\n",
            "Epoch 37/50\n",
            "27/27 [==============================] - 0s 2ms/step - loss: 0.4453 - mean_squared_error: 0.4470\n",
            "Epoch 38/50\n",
            "27/27 [==============================] - 0s 2ms/step - loss: 0.4468 - mean_squared_error: 0.4472\n",
            "Epoch 39/50\n",
            "27/27 [==============================] - 0s 2ms/step - loss: 0.4454 - mean_squared_error: 0.4471\n",
            "Epoch 40/50\n",
            "27/27 [==============================] - 0s 2ms/step - loss: 0.4485 - mean_squared_error: 0.4476\n",
            "Epoch 41/50\n",
            "27/27 [==============================] - 0s 2ms/step - loss: 0.4450 - mean_squared_error: 0.4470\n",
            "Epoch 42/50\n",
            "27/27 [==============================] - 0s 2ms/step - loss: 0.4470 - mean_squared_error: 0.4471\n",
            "Epoch 43/50\n",
            "27/27 [==============================] - 0s 2ms/step - loss: 0.4483 - mean_squared_error: 0.4470\n",
            "Epoch 44/50\n",
            "27/27 [==============================] - 0s 2ms/step - loss: 0.4513 - mean_squared_error: 0.4470\n",
            "Epoch 45/50\n",
            "27/27 [==============================] - 0s 2ms/step - loss: 0.4465 - mean_squared_error: 0.4473\n",
            "Epoch 46/50\n",
            "27/27 [==============================] - 0s 2ms/step - loss: 0.4472 - mean_squared_error: 0.4471\n",
            "Epoch 47/50\n",
            "27/27 [==============================] - 0s 2ms/step - loss: 0.4479 - mean_squared_error: 0.4473\n",
            "Epoch 48/50\n",
            "27/27 [==============================] - 0s 2ms/step - loss: 0.4471 - mean_squared_error: 0.4473\n",
            "Epoch 49/50\n",
            "27/27 [==============================] - 0s 2ms/step - loss: 0.4453 - mean_squared_error: 0.4471\n",
            "Epoch 50/50\n",
            "27/27 [==============================] - 0s 2ms/step - loss: 0.4437 - mean_squared_error: 0.4472\n"
          ],
          "name": "stdout"
        },
        {
          "output_type": "display_data",
          "data": {
            "image/png": "[encoded data removed]",
            "text/plain": [
              "<Figure size 432x288 with 1 Axes>"
            ]
          },
          "metadata": {
            "tags": []
          }
        },
        {
          "output_type": "stream",
          "text": [
            "\n",
            " Evaluate the linear regression model against the test set:\n",
            "7/7 [==============================] - 0s 2ms/step - loss: 0.4449 - mean_squared_error: 0.4454\n"
          ],
          "name": "stdout"
        },
        {
          "output_type": "execute_result",
          "data": {
            "text/plain": [
              "[0.44494399428367615, 0.44543689489364624]"
            ]
          },
          "metadata": {
            "tags": []
          },
          "execution_count": 28
        }
      ]
    },
    {
      "cell_type": "code",
      "metadata": {
        "id": "MzIkZNjddP_p",
        "colab_type": "code",
        "colab": {}
      },
      "source": [
        ""
      ],
      "execution_count": 0,
      "outputs": []
    }
  ]
}