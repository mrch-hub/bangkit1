{
  "nbformat": 4,
  "nbformat_minor": 0,
  "metadata": {
    "colab": {
      "name": "SolarPrediction.ipynb",
      "provenance": [],
      "include_colab_link": true
    },
    "kernelspec": {
      "name": "python3",
      "display_name": "Python 3"
    }
  },
  "cells": [
    {
      "cell_type": "markdown",
      "metadata": {
        "id": "view-in-github",
        "colab_type": "text"
      },
      "source": [
        "<a href=\"https://colab.research.google.com/github/mrch-hub/bangkit1/blob/test_neuralnet/SolarPrediction.ipynb\" target=\"_parent\"><img src=\"https://colab.research.google.com/assets/colab-badge.svg\" alt=\"Open In Colab\"/></a>"
      ]
    },
    {
      "cell_type": "markdown",
      "metadata": {
        "id": "f5bF6G8ff6Zq",
        "colab_type": "text"
      },
      "source": [
        "##Solar radiation intensity prediction using TensorFlow"
      ]
    },
    {
      "cell_type": "code",
      "metadata": {
        "id": "C6pwJrUZ9rYW",
        "colab_type": "code",
        "outputId": "2d965041-d766-4f7c-a54b-c8d0dcab79f5",
        "colab": {
          "base_uri": "https://localhost:8080/",
          "height": 55
        }
      },
      "source": [
        "\"\"\"A python code for predicting solar radiation\n",
        "intensity using TensorFlow. Created for \n",
        "5th Bangk!t assignment.\n",
        "Collaborators: Marcellinus Chrisnada, Muhammad\n",
        "Harits Hafidza, Mochammad Randy Caesario H.\"\"\""
      ],
      "execution_count": 85,
      "outputs": [
        {
          "output_type": "execute_result",
          "data": {
            "text/plain": [
              "'A python code for predicting solar radiation\\nintensity using TensorFlow. Created for \\n5th Bangk!t assignment.\\nCollaborators: Marcellinus Chrisnada, Muhammad\\nHarits Hafidza, Mochammad Randy Caesario H.'"
            ]
          },
          "metadata": {
            "tags": []
          },
          "execution_count": 85
        },
        {
          "output_type": "stream",
          "text": [
            "ERROR! Session/line number was not unique in database. History logging moved to new session 60\n"
          ],
          "name": "stdout"
        }
      ]
    },
    {
      "cell_type": "markdown",
      "metadata": {
        "id": "yb2tFywNgWIn",
        "colab_type": "text"
      },
      "source": [
        "##Initialization"
      ]
    },
    {
      "cell_type": "code",
      "metadata": {
        "id": "d8ekWJYDbTzp",
        "colab_type": "code",
        "cellView": "form",
        "colab": {}
      },
      "source": [
        "#@title Run on TensorFlow 2.x\n",
        "%tensorflow_version 2.x\n",
        "from __future__ import absolute_import, division, print_function, unicode_literals"
      ],
      "execution_count": 0,
      "outputs": []
    },
    {
      "cell_type": "code",
      "metadata": {
        "id": "oPY5vbLWXmKN",
        "colab_type": "code",
        "cellView": "both",
        "outputId": "3aa840a8-d0f7-4866-80f6-ef6d34a504dd",
        "colab": {
          "base_uri": "https://localhost:8080/",
          "height": 35
        }
      },
      "source": [
        "#@title Import relevant modules\n",
        "import numpy as np\n",
        "import pandas as pd\n",
        "import tensorflow as tf\n",
        "from tensorflow.keras import layers\n",
        "from matplotlib import pyplot as plt\n",
        "import seaborn as sns\n",
        "\n",
        "# Adjust the granularity of reporting. \n",
        "pd.options.display.max_rows = 10\n",
        "pd.options.display.float_format = \"{:.1f}\".format\n",
        "\n",
        "print(\"Imported modules.\")"
      ],
      "execution_count": 87,
      "outputs": [
        {
          "output_type": "stream",
          "text": [
            "Imported modules.\n"
          ],
          "name": "stdout"
        }
      ]
    },
    {
      "cell_type": "code",
      "metadata": {
        "id": "oRlH8pQwbSpE",
        "colab_type": "code",
        "outputId": "96cff910-59cd-41c4-f1cb-33f5fe76a08d",
        "colab": {
          "base_uri": "https://localhost:8080/",
          "height": 424
        }
      },
      "source": [
        "#@title Load dataset\n",
        "data = pd.read_csv('https://raw.githubusercontent.com/mrch-hub/bangkit1/master/SolarPrediction.csv')\n",
        "data = data.reindex(np.random.permutation(data.index)) # shuffle dataset\n",
        "data.head(40)"
      ],
      "execution_count": 88,
      "outputs": [
        {
          "output_type": "execute_result",
          "data": {
            "text/html": [
              "<div>\n",
              "<style scoped>\n",
              "    .dataframe tbody tr th:only-of-type {\n",
              "        vertical-align: middle;\n",
              "    }\n",
              "\n",
              "    .dataframe tbody tr th {\n",
              "        vertical-align: top;\n",
              "    }\n",
              "\n",
              "    .dataframe thead th {\n",
              "        text-align: right;\n",
              "    }\n",
              "</style>\n",
              "<table border=\"1\" class=\"dataframe\">\n",
              "  <thead>\n",
              "    <tr style=\"text-align: right;\">\n",
              "      <th></th>\n",
              "      <th>UNIXTime</th>\n",
              "      <th>Data</th>\n",
              "      <th>Time</th>\n",
              "      <th>Radiation</th>\n",
              "      <th>Temperature</th>\n",
              "      <th>Pressure</th>\n",
              "      <th>Humidity</th>\n",
              "      <th>WindDirection(Degrees)</th>\n",
              "      <th>Speed</th>\n",
              "      <th>TimeSunRise</th>\n",
              "      <th>TimeSunSet</th>\n",
              "    </tr>\n",
              "  </thead>\n",
              "  <tbody>\n",
              "    <tr>\n",
              "      <th>31405</th>\n",
              "      <td>1480970737</td>\n",
              "      <td>12/5/2016 12:00:00 AM</td>\n",
              "      <td>10:45:37</td>\n",
              "      <td>84.0</td>\n",
              "      <td>45</td>\n",
              "      <td>30.4</td>\n",
              "      <td>93</td>\n",
              "      <td>308.7</td>\n",
              "      <td>4.5</td>\n",
              "      <td>06:44:00</td>\n",
              "      <td>17:43:00</td>\n",
              "    </tr>\n",
              "    <tr>\n",
              "      <th>25828</th>\n",
              "      <td>1482871540</td>\n",
              "      <td>12/27/2016 12:00:00 AM</td>\n",
              "      <td>10:45:40</td>\n",
              "      <td>771.5</td>\n",
              "      <td>59</td>\n",
              "      <td>30.5</td>\n",
              "      <td>19</td>\n",
              "      <td>167.2</td>\n",
              "      <td>11.2</td>\n",
              "      <td>06:56:00</td>\n",
              "      <td>17:52:00</td>\n",
              "    </tr>\n",
              "    <tr>\n",
              "      <th>18113</th>\n",
              "      <td>1479918901</td>\n",
              "      <td>11/23/2016 12:00:00 AM</td>\n",
              "      <td>06:35:01</td>\n",
              "      <td>4.7</td>\n",
              "      <td>42</td>\n",
              "      <td>30.4</td>\n",
              "      <td>94</td>\n",
              "      <td>142.7</td>\n",
              "      <td>10.1</td>\n",
              "      <td>06:36:00</td>\n",
              "      <td>17:42:00</td>\n",
              "    </tr>\n",
              "    <tr>\n",
              "      <th>1021</th>\n",
              "      <td>1474911621</td>\n",
              "      <td>9/26/2016 12:00:00 AM</td>\n",
              "      <td>07:40:21</td>\n",
              "      <td>169.6</td>\n",
              "      <td>50</td>\n",
              "      <td>30.4</td>\n",
              "      <td>95</td>\n",
              "      <td>172.3</td>\n",
              "      <td>5.6</td>\n",
              "      <td>06:12:00</td>\n",
              "      <td>18:15:00</td>\n",
              "    </tr>\n",
              "    <tr>\n",
              "      <th>10000</th>\n",
              "      <td>1477216817</td>\n",
              "      <td>10/23/2016 12:00:00 AM</td>\n",
              "      <td>00:00:17</td>\n",
              "      <td>1.2</td>\n",
              "      <td>48</td>\n",
              "      <td>30.4</td>\n",
              "      <td>101</td>\n",
              "      <td>106.8</td>\n",
              "      <td>3.4</td>\n",
              "      <td>06:20:00</td>\n",
              "      <td>17:54:00</td>\n",
              "    </tr>\n",
              "    <tr>\n",
              "      <th>...</th>\n",
              "      <td>...</td>\n",
              "      <td>...</td>\n",
              "      <td>...</td>\n",
              "      <td>...</td>\n",
              "      <td>...</td>\n",
              "      <td>...</td>\n",
              "      <td>...</td>\n",
              "      <td>...</td>\n",
              "      <td>...</td>\n",
              "      <td>...</td>\n",
              "      <td>...</td>\n",
              "    </tr>\n",
              "    <tr>\n",
              "      <th>1898</th>\n",
              "      <td>1474645521</td>\n",
              "      <td>9/23/2016 12:00:00 AM</td>\n",
              "      <td>05:45:21</td>\n",
              "      <td>1.3</td>\n",
              "      <td>52</td>\n",
              "      <td>30.4</td>\n",
              "      <td>99</td>\n",
              "      <td>113.4</td>\n",
              "      <td>2.2</td>\n",
              "      <td>06:12:00</td>\n",
              "      <td>18:18:00</td>\n",
              "    </tr>\n",
              "    <tr>\n",
              "      <th>10523</th>\n",
              "      <td>1477059620</td>\n",
              "      <td>10/21/2016 12:00:00 AM</td>\n",
              "      <td>04:20:20</td>\n",
              "      <td>1.1</td>\n",
              "      <td>46</td>\n",
              "      <td>30.4</td>\n",
              "      <td>101</td>\n",
              "      <td>160.2</td>\n",
              "      <td>9.0</td>\n",
              "      <td>06:19:00</td>\n",
              "      <td>17:55:00</td>\n",
              "    </tr>\n",
              "    <tr>\n",
              "      <th>21517</th>\n",
              "      <td>1478897102</td>\n",
              "      <td>11/11/2016 12:00:00 AM</td>\n",
              "      <td>10:45:02</td>\n",
              "      <td>826.0</td>\n",
              "      <td>63</td>\n",
              "      <td>30.5</td>\n",
              "      <td>25</td>\n",
              "      <td>21.9</td>\n",
              "      <td>5.6</td>\n",
              "      <td>06:29:00</td>\n",
              "      <td>17:44:00</td>\n",
              "    </tr>\n",
              "    <tr>\n",
              "      <th>24237</th>\n",
              "      <td>1478079917</td>\n",
              "      <td>11/1/2016 12:00:00 AM</td>\n",
              "      <td>23:45:17</td>\n",
              "      <td>1.2</td>\n",
              "      <td>44</td>\n",
              "      <td>30.5</td>\n",
              "      <td>43</td>\n",
              "      <td>179.6</td>\n",
              "      <td>5.6</td>\n",
              "      <td>06:24:00</td>\n",
              "      <td>17:48:00</td>\n",
              "    </tr>\n",
              "    <tr>\n",
              "      <th>25529</th>\n",
              "      <td>1482961250</td>\n",
              "      <td>12/28/2016 12:00:00 AM</td>\n",
              "      <td>11:40:50</td>\n",
              "      <td>597.6</td>\n",
              "      <td>52</td>\n",
              "      <td>30.4</td>\n",
              "      <td>93</td>\n",
              "      <td>150.2</td>\n",
              "      <td>9.0</td>\n",
              "      <td>06:56:00</td>\n",
              "      <td>17:52:00</td>\n",
              "    </tr>\n",
              "  </tbody>\n",
              "</table>\n",
              "<p>40 rows × 11 columns</p>\n",
              "</div>"
            ],
            "text/plain": [
              "         UNIXTime                    Data  ... TimeSunRise  TimeSunSet\n",
              "31405  1480970737   12/5/2016 12:00:00 AM  ...    06:44:00    17:43:00\n",
              "25828  1482871540  12/27/2016 12:00:00 AM  ...    06:56:00    17:52:00\n",
              "18113  1479918901  11/23/2016 12:00:00 AM  ...    06:36:00    17:42:00\n",
              "1021   1474911621   9/26/2016 12:00:00 AM  ...    06:12:00    18:15:00\n",
              "10000  1477216817  10/23/2016 12:00:00 AM  ...    06:20:00    17:54:00\n",
              "...           ...                     ...  ...         ...         ...\n",
              "1898   1474645521   9/23/2016 12:00:00 AM  ...    06:12:00    18:18:00\n",
              "10523  1477059620  10/21/2016 12:00:00 AM  ...    06:19:00    17:55:00\n",
              "21517  1478897102  11/11/2016 12:00:00 AM  ...    06:29:00    17:44:00\n",
              "24237  1478079917   11/1/2016 12:00:00 AM  ...    06:24:00    17:48:00\n",
              "25529  1482961250  12/28/2016 12:00:00 AM  ...    06:56:00    17:52:00\n",
              "\n",
              "[40 rows x 11 columns]"
            ]
          },
          "metadata": {
            "tags": []
          },
          "execution_count": 88
        }
      ]
    },
    {
      "cell_type": "markdown",
      "metadata": {
        "id": "c28PYOGaauV0",
        "colab_type": "text"
      },
      "source": [
        "##Adding some features to the dataset"
      ]
    },
    {
      "cell_type": "code",
      "metadata": {
        "id": "ymGkD9ZPaxro",
        "colab_type": "code",
        "colab": {}
      },
      "source": [
        "#@title Adding feature is_daylight that define measurement time is either daylight (1) or nighttime (0)\n",
        "is_daylight = [data['Time'].values[x] > data['TimeSunRise'].values[x] and data['Time'].values[x] < data['TimeSunSet'].values[x] for x in range(len(data))]\n",
        "data['is_daylight'] = is_daylight\n",
        "data['is_daylight'] = data['is_daylight'].astype('float')"
      ],
      "execution_count": 0,
      "outputs": []
    },
    {
      "cell_type": "code",
      "metadata": {
        "id": "TCCuKjCwBH1M",
        "colab_type": "code",
        "colab": {}
      },
      "source": [
        "#@title Convert UNIXTime into hour, day, month format\n",
        "data['Time_Convert'] = pd.to_datetime(data['Time'], format = '%H:%M:%S')\n",
        "\n",
        "data['Hour'] = pd.to_datetime(data['Time_Convert'], format = '%H:%M:%S').dt.hour # Get the hour of the day\n",
        "\n",
        "data['Day'] = pd.to_datetime(data['UNIXTime'].astype(int), unit = 's').dt.day # Get the day of the month\n",
        "\n",
        "data['Month'] = pd.to_datetime(data['UNIXTime'].astype(int), unit = 's').dt.month # Get the month of the year"
      ],
      "execution_count": 0,
      "outputs": []
    },
    {
      "cell_type": "markdown",
      "metadata": {
        "id": "yQeavaKNayAj",
        "colab_type": "text"
      },
      "source": [
        "##Data Preconditioning"
      ]
    },
    {
      "cell_type": "code",
      "metadata": {
        "id": "lbKi6_Xcbn6M",
        "colab_type": "code",
        "outputId": "74fe3a33-2f20-4dc4-c7a3-15ff08b7c669",
        "colab": {
          "base_uri": "https://localhost:8080/",
          "height": 53
        }
      },
      "source": [
        "#@title Splitting data to train set and test set\n",
        "test_split = 0.2 # percentage of train set to be considered as test set\n",
        "data_test = data[:][0:round((len(data)*test_split))]\n",
        "data_train = data[:][round((len(data)*test_split)):]\n",
        "print('train set length:', str(len(data_train)), '\\ntest set length:', \n",
        "      str(len(data_test)))"
      ],
      "execution_count": 91,
      "outputs": [
        {
          "output_type": "stream",
          "text": [
            "train set length: 26149 \n",
            "test set length: 6537\n"
          ],
          "name": "stdout"
        }
      ]
    },
    {
      "cell_type": "code",
      "metadata": {
        "id": "5v5LYeP_dECa",
        "colab_type": "code",
        "outputId": "5a761959-d16a-476e-cd63-722353a92ccb",
        "colab": {
          "base_uri": "https://localhost:8080/",
          "height": 35
        }
      },
      "source": [
        "#@title Normalize values \n",
        "\n",
        "# Calculate the Z-scores of each column in the training set:\n",
        "data_train_mean = data_train.select_dtypes(include=['float64', 'int64']).mean()\n",
        "data_train_std = data_train.select_dtypes(include=['float64', 'int64']).std()\n",
        "data_train_norm = (data_train.select_dtypes(include=['float64', 'int64']) \n",
        "                   - data_train_mean)/data_train_std\n",
        "\n",
        "# Calculate the Z-scores of each column in the test set.\n",
        "data_test_mean = data_test.select_dtypes(include=['float64', 'int64']).mean()\n",
        "data_test_std = data_test.select_dtypes(include=['float64', 'int64']).std()\n",
        "data_test_norm = (data_test.select_dtypes(include=['float64', 'int64'])\n",
        "                  - data_test_mean)/data_test_std\n",
        "\n",
        "print(\"Normalized the values.\")"
      ],
      "execution_count": 92,
      "outputs": [
        {
          "output_type": "stream",
          "text": [
            "Normalized the values.\n"
          ],
          "name": "stdout"
        }
      ]
    },
    {
      "cell_type": "markdown",
      "metadata": {
        "id": "LKdhPgg5eRFI",
        "colab_type": "text"
      },
      "source": [
        "## Represent data\n",
        "\n",
        "The following code cell creates a feature layer containing these features:\n",
        "\n",
        "* `Temperature`\n",
        "* `Pressure`\n",
        "* `is_daylight`\n",
        "* `Day`\n",
        "* `Hour`\n",
        "* `Month`"
      ]
    },
    {
      "cell_type": "code",
      "metadata": {
        "id": "6bDp6l3KeEgb",
        "colab_type": "code",
        "colab": {}
      },
      "source": [
        "# Create empty feature column list\n",
        "feature_columns = []\n",
        "\n",
        "# Represent Temperature as a floating-point value.\n",
        "temperature = tf.feature_column.numeric_column(\"Temperature\")\n",
        "feature_columns.append(temperature)\n",
        "\n",
        "# Represent Pressure as a floating-point value.\n",
        "pressure = tf.feature_column.numeric_column(\"Pressure\")\n",
        "feature_columns.append(pressure)\n",
        "\n",
        "# Represent Daylight as a floating-point value.\n",
        "daylight = tf.feature_column.numeric_column(\"is_daylight\")\n",
        "feature_columns.append(daylight)\n",
        "\n",
        "# Represent Hour as a floating-point value.\n",
        "day = tf.feature_column.numeric_column(\"Day\")\n",
        "feature_columns.append(day)\n",
        "\n",
        "# Represent Hour as a floating-point value.\n",
        "hour = tf.feature_column.numeric_column(\"Hour\")\n",
        "feature_columns.append(hour)\n",
        "\n",
        "# Represent Hour as a floating-point value.\n",
        "month = tf.feature_column.numeric_column(\"Month\")\n",
        "feature_columns.append(month)\n",
        "\n",
        "# Convert the list of feature columns into a layer that will later be fed into\n",
        "# the model. \n",
        "my_feature_layer = tf.keras.layers.DenseFeatures(feature_columns)"
      ],
      "execution_count": 0,
      "outputs": []
    },
    {
      "cell_type": "markdown",
      "metadata": {
        "id": "MMAji1PSfPCt",
        "colab_type": "text"
      },
      "source": [
        "## Build a linear regression model"
      ]
    },
    {
      "cell_type": "code",
      "metadata": {
        "id": "vyOjMo-7ei25",
        "colab_type": "code",
        "outputId": "3af3ada1-77b4-44ce-8a82-78317fcb2629",
        "colab": {
          "base_uri": "https://localhost:8080/",
          "height": 35
        }
      },
      "source": [
        "#@title Define plotting function\n",
        "\n",
        "def plot_the_loss_curve(epochs, mse_training, mse_validation):\n",
        "  \"\"\"Plot a curve of loss vs. epoch.\"\"\"\n",
        "\n",
        "  plt.figure()\n",
        "  plt.xlabel(\"Epoch\")\n",
        "  plt.ylabel(\"Root Mean Squared Error\")\n",
        "\n",
        "  plt.plot(epochs[1:], mse_training[1:], label=\"Training Loss\")\n",
        "  plt.plot(epochs[1:], mse_validation[1:], label=\"Validation Loss\")\n",
        "  plt.legend()\n",
        "\n",
        "  merged_mse_lists = mse_training[1:] + mse_validation[1:]\n",
        "  highest_loss = max(merged_mse_lists)\n",
        "  lowest_loss = min(merged_mse_lists)\n",
        "  delta = highest_loss - lowest_loss\n",
        "  print(delta)\n",
        "\n",
        "  top_of_y_axis = highest_loss + (delta * 0.05)\n",
        "  bottom_of_y_axis = lowest_loss - (delta * 0.05)\n",
        "  plt.ylim([bottom_of_y_axis, top_of_y_axis])\n",
        "  plt.show()  \n",
        "\n",
        "print(\"Defined the plot_the_loss_curve function.\")"
      ],
      "execution_count": 94,
      "outputs": [
        {
          "output_type": "stream",
          "text": [
            "Defined the plot_the_loss_curve function.\n"
          ],
          "name": "stdout"
        }
      ]
    },
    {
      "cell_type": "code",
      "metadata": {
        "id": "gEsYOPPhetG3",
        "colab_type": "code",
        "outputId": "bc971e9f-b66a-41a7-b426-ebb479e3663f",
        "colab": {
          "base_uri": "https://localhost:8080/",
          "height": 35
        },
        "cellView": "form"
      },
      "source": [
        "#@title Define functions to create and train a linear regression model\n",
        "def create_model(my_learning_rate, feature_layer):\n",
        "  \"\"\"Create and compile a simple linear regression model.\"\"\"\n",
        "  # Most simple tf.keras models are sequential.\n",
        "  model = tf.keras.models.Sequential()\n",
        "\n",
        "  # Add the layer containing the feature columns to the model.\n",
        "  model.add(feature_layer)\n",
        "\n",
        "  # Add one linear layer to the model to yield a simple linear regressor.\n",
        "  model.add(tf.keras.layers.Dense(units=1, input_shape=(1,)))\n",
        "\n",
        "  # Construct the layers into a model that TensorFlow can execute.\n",
        "  model.compile(optimizer=tf.keras.optimizers.RMSprop(lr=my_learning_rate),\n",
        "                loss=\"mean_squared_error\",\n",
        "                metrics=[tf.keras.metrics.RootMeanSquaredError()])\n",
        "\n",
        "  return model           \n",
        "\n",
        "\n",
        "def train_model(model, dataset, epochs, batch_size, label_name,validation_split):\n",
        "  \"\"\"Feed a dataset into the model in order to train it.\"\"\"\n",
        "\n",
        "  # Split the dataset into features and label.\n",
        "  features = {name:np.array(value) for name, value in dataset.items()}\n",
        "  label = np.array(features.pop(label_name))\n",
        "  history = model.fit(x=features, y=label, batch_size=batch_size,\n",
        "                      epochs=epochs, validation_split=validation_split, \n",
        "                      shuffle=True)\n",
        "\n",
        "  # Get details that will be useful for plotting the loss curve.\n",
        "  epochs = history.epoch\n",
        "  hist = pd.DataFrame(history.history)\n",
        "  rmse = hist[\"root_mean_squared_error\"]\n",
        "\n",
        "  return epochs, rmse, history.history   \n",
        "\n",
        "print(\"Defined the create_model and train_model functions.\")"
      ],
      "execution_count": 95,
      "outputs": [
        {
          "output_type": "stream",
          "text": [
            "Defined the create_model and train_model functions.\n"
          ],
          "name": "stdout"
        }
      ]
    },
    {
      "cell_type": "code",
      "metadata": {
        "id": "wAJuzbBmexB4",
        "colab_type": "code",
        "cellView": "both",
        "outputId": "da99f6c2-a063-4a5f-9352-6a8a47bd9a49",
        "colab": {
          "base_uri": "https://localhost:8080/",
          "height": 1000
        }
      },
      "source": [
        "#@title Train the model as linear regression\n",
        "# The following variables are the hyperparameters.\n",
        "learning_rate = 0.01\n",
        "epochs = 50\n",
        "batch_size = 1000\n",
        "validation_split = 0.2\n",
        "label_name = \"Radiation\"\n",
        " \n",
        "\n",
        "# Establish the model's topography.\n",
        "my_model = create_model(learning_rate, my_feature_layer)\n",
        "\n",
        "# Train the model on the normalized training set.\n",
        "epochs, mse, history = train_model(my_model, data_train_norm, epochs, batch_size, label_name, \n",
        "                          validation_split=validation_split)\n",
        "plot_the_loss_curve(epochs, history[\"root_mean_squared_error\"], \n",
        "                    history[\"val_root_mean_squared_error\"])\n",
        "\n",
        "test_features = {name:np.array(value) for name, value in data_test_norm.items()}\n",
        "test_label = np.array(test_features.pop(label_name)) # isolate the label\n",
        "print(\"\\n Evaluate the linear regression model against the test set:\")\n",
        "my_model.evaluate(x = test_features, y = test_label, batch_size=batch_size)"
      ],
      "execution_count": 96,
      "outputs": [
        {
          "output_type": "stream",
          "text": [
            "Epoch 1/50\n",
            "WARNING:tensorflow:Layer dense_features_3 is casting an input tensor from dtype float64 to the layer's dtype of float32, which is new behavior in TensorFlow 2.  The layer has dtype float32 because it's dtype defaults to floatx.\n",
            "\n",
            "If you intended to run this layer in float32, you can safely ignore this warning. If in doubt, this warning is likely only an issue if you are porting a TensorFlow 1.X model to TensorFlow 2.\n",
            "\n",
            "To change all layers to have dtype float64 by default, call `tf.keras.backend.set_floatx('float64')`. To change just this layer, pass dtype='float64' to the layer constructor. If you are the author of this layer, you can disable autocasting by passing autocast=False to the base Layer constructor.\n",
            "\n",
            "21/21 [==============================] - 0s 10ms/step - loss: 2.7451 - root_mean_squared_error: 1.6574 - val_loss: 1.9111 - val_root_mean_squared_error: 1.3790\n",
            "Epoch 2/50\n",
            "21/21 [==============================] - 0s 5ms/step - loss: 1.5715 - root_mean_squared_error: 1.2541 - val_loss: 1.1328 - val_root_mean_squared_error: 1.0625\n",
            "Epoch 3/50\n",
            "21/21 [==============================] - 0s 5ms/step - loss: 0.9240 - root_mean_squared_error: 0.9616 - val_loss: 0.6670 - val_root_mean_squared_error: 0.8152\n",
            "Epoch 4/50\n",
            "21/21 [==============================] - 0s 4ms/step - loss: 0.5559 - root_mean_squared_error: 0.7459 - val_loss: 0.4327 - val_root_mean_squared_error: 0.6558\n",
            "Epoch 5/50\n",
            "21/21 [==============================] - 0s 5ms/step - loss: 0.3919 - root_mean_squared_error: 0.6261 - val_loss: 0.3559 - val_root_mean_squared_error: 0.5943\n",
            "Epoch 6/50\n",
            "21/21 [==============================] - 0s 4ms/step - loss: 0.3504 - root_mean_squared_error: 0.5919 - val_loss: 0.3481 - val_root_mean_squared_error: 0.5879\n",
            "Epoch 7/50\n",
            "21/21 [==============================] - 0s 4ms/step - loss: 0.3451 - root_mean_squared_error: 0.5875 - val_loss: 0.3457 - val_root_mean_squared_error: 0.5863\n",
            "Epoch 8/50\n",
            "21/21 [==============================] - 0s 5ms/step - loss: 0.3437 - root_mean_squared_error: 0.5865 - val_loss: 0.3439 - val_root_mean_squared_error: 0.5852\n",
            "Epoch 9/50\n",
            "21/21 [==============================] - 0s 5ms/step - loss: 0.3442 - root_mean_squared_error: 0.5867 - val_loss: 0.3436 - val_root_mean_squared_error: 0.5847\n",
            "Epoch 10/50\n",
            "21/21 [==============================] - 0s 4ms/step - loss: 0.3439 - root_mean_squared_error: 0.5864 - val_loss: 0.3449 - val_root_mean_squared_error: 0.5860\n",
            "Epoch 11/50\n",
            "21/21 [==============================] - 0s 6ms/step - loss: 0.3444 - root_mean_squared_error: 0.5867 - val_loss: 0.3487 - val_root_mean_squared_error: 0.5888\n",
            "Epoch 12/50\n",
            "21/21 [==============================] - 0s 5ms/step - loss: 0.3439 - root_mean_squared_error: 0.5865 - val_loss: 0.3445 - val_root_mean_squared_error: 0.5854\n",
            "Epoch 13/50\n",
            "21/21 [==============================] - 0s 4ms/step - loss: 0.3441 - root_mean_squared_error: 0.5865 - val_loss: 0.3455 - val_root_mean_squared_error: 0.5864\n",
            "Epoch 14/50\n",
            "21/21 [==============================] - 0s 4ms/step - loss: 0.3440 - root_mean_squared_error: 0.5867 - val_loss: 0.3449 - val_root_mean_squared_error: 0.5858\n",
            "Epoch 15/50\n",
            "21/21 [==============================] - 0s 5ms/step - loss: 0.3439 - root_mean_squared_error: 0.5865 - val_loss: 0.3431 - val_root_mean_squared_error: 0.5845\n",
            "Epoch 16/50\n",
            "21/21 [==============================] - 0s 5ms/step - loss: 0.3444 - root_mean_squared_error: 0.5869 - val_loss: 0.3439 - val_root_mean_squared_error: 0.5851\n",
            "Epoch 17/50\n",
            "21/21 [==============================] - 0s 5ms/step - loss: 0.3439 - root_mean_squared_error: 0.5865 - val_loss: 0.3463 - val_root_mean_squared_error: 0.5869\n",
            "Epoch 18/50\n",
            "21/21 [==============================] - 0s 5ms/step - loss: 0.3441 - root_mean_squared_error: 0.5866 - val_loss: 0.3458 - val_root_mean_squared_error: 0.5866\n",
            "Epoch 19/50\n",
            "21/21 [==============================] - 0s 4ms/step - loss: 0.3440 - root_mean_squared_error: 0.5864 - val_loss: 0.3442 - val_root_mean_squared_error: 0.5851\n",
            "Epoch 20/50\n",
            "21/21 [==============================] - 0s 5ms/step - loss: 0.3441 - root_mean_squared_error: 0.5865 - val_loss: 0.3453 - val_root_mean_squared_error: 0.5861\n",
            "Epoch 21/50\n",
            "21/21 [==============================] - 0s 5ms/step - loss: 0.3440 - root_mean_squared_error: 0.5865 - val_loss: 0.3444 - val_root_mean_squared_error: 0.5853\n",
            "Epoch 22/50\n",
            "21/21 [==============================] - 0s 4ms/step - loss: 0.3437 - root_mean_squared_error: 0.5863 - val_loss: 0.3457 - val_root_mean_squared_error: 0.5865\n",
            "Epoch 23/50\n",
            "21/21 [==============================] - 0s 4ms/step - loss: 0.3440 - root_mean_squared_error: 0.5864 - val_loss: 0.3455 - val_root_mean_squared_error: 0.5860\n",
            "Epoch 24/50\n",
            "21/21 [==============================] - 0s 5ms/step - loss: 0.3442 - root_mean_squared_error: 0.5866 - val_loss: 0.3451 - val_root_mean_squared_error: 0.5860\n",
            "Epoch 25/50\n",
            "21/21 [==============================] - 0s 4ms/step - loss: 0.3440 - root_mean_squared_error: 0.5865 - val_loss: 0.3473 - val_root_mean_squared_error: 0.5878\n",
            "Epoch 26/50\n",
            "21/21 [==============================] - 0s 4ms/step - loss: 0.3440 - root_mean_squared_error: 0.5864 - val_loss: 0.3447 - val_root_mean_squared_error: 0.5859\n",
            "Epoch 27/50\n",
            "21/21 [==============================] - 0s 5ms/step - loss: 0.3441 - root_mean_squared_error: 0.5866 - val_loss: 0.3434 - val_root_mean_squared_error: 0.5848\n",
            "Epoch 28/50\n",
            "21/21 [==============================] - 0s 4ms/step - loss: 0.3443 - root_mean_squared_error: 0.5866 - val_loss: 0.3441 - val_root_mean_squared_error: 0.5850\n",
            "Epoch 29/50\n",
            "21/21 [==============================] - 0s 5ms/step - loss: 0.3439 - root_mean_squared_error: 0.5864 - val_loss: 0.3439 - val_root_mean_squared_error: 0.5850\n",
            "Epoch 30/50\n",
            "21/21 [==============================] - 0s 5ms/step - loss: 0.3440 - root_mean_squared_error: 0.5865 - val_loss: 0.3450 - val_root_mean_squared_error: 0.5858\n",
            "Epoch 31/50\n",
            "21/21 [==============================] - 0s 4ms/step - loss: 0.3438 - root_mean_squared_error: 0.5865 - val_loss: 0.3438 - val_root_mean_squared_error: 0.5848\n",
            "Epoch 32/50\n",
            "21/21 [==============================] - 0s 5ms/step - loss: 0.3441 - root_mean_squared_error: 0.5865 - val_loss: 0.3451 - val_root_mean_squared_error: 0.5859\n",
            "Epoch 33/50\n",
            "21/21 [==============================] - 0s 5ms/step - loss: 0.3443 - root_mean_squared_error: 0.5867 - val_loss: 0.3440 - val_root_mean_squared_error: 0.5850\n",
            "Epoch 34/50\n",
            "21/21 [==============================] - 0s 5ms/step - loss: 0.3442 - root_mean_squared_error: 0.5867 - val_loss: 0.3447 - val_root_mean_squared_error: 0.5856\n",
            "Epoch 35/50\n",
            "21/21 [==============================] - 0s 5ms/step - loss: 0.3439 - root_mean_squared_error: 0.5864 - val_loss: 0.3462 - val_root_mean_squared_error: 0.5872\n",
            "Epoch 36/50\n",
            "21/21 [==============================] - 0s 5ms/step - loss: 0.3445 - root_mean_squared_error: 0.5868 - val_loss: 0.3451 - val_root_mean_squared_error: 0.5861\n",
            "Epoch 37/50\n",
            "21/21 [==============================] - 0s 5ms/step - loss: 0.3437 - root_mean_squared_error: 0.5863 - val_loss: 0.3441 - val_root_mean_squared_error: 0.5852\n",
            "Epoch 38/50\n",
            "21/21 [==============================] - 0s 4ms/step - loss: 0.3441 - root_mean_squared_error: 0.5866 - val_loss: 0.3458 - val_root_mean_squared_error: 0.5866\n",
            "Epoch 39/50\n",
            "21/21 [==============================] - 0s 5ms/step - loss: 0.3438 - root_mean_squared_error: 0.5863 - val_loss: 0.3439 - val_root_mean_squared_error: 0.5852\n",
            "Epoch 40/50\n",
            "21/21 [==============================] - 0s 5ms/step - loss: 0.3437 - root_mean_squared_error: 0.5862 - val_loss: 0.3439 - val_root_mean_squared_error: 0.5851\n",
            "Epoch 41/50\n",
            "21/21 [==============================] - 0s 4ms/step - loss: 0.3441 - root_mean_squared_error: 0.5865 - val_loss: 0.3428 - val_root_mean_squared_error: 0.5843\n",
            "Epoch 42/50\n",
            "21/21 [==============================] - 0s 5ms/step - loss: 0.3442 - root_mean_squared_error: 0.5866 - val_loss: 0.3448 - val_root_mean_squared_error: 0.5856\n",
            "Epoch 43/50\n",
            "21/21 [==============================] - 0s 4ms/step - loss: 0.3438 - root_mean_squared_error: 0.5863 - val_loss: 0.3453 - val_root_mean_squared_error: 0.5858\n",
            "Epoch 44/50\n",
            "21/21 [==============================] - 0s 4ms/step - loss: 0.3442 - root_mean_squared_error: 0.5867 - val_loss: 0.3445 - val_root_mean_squared_error: 0.5856\n",
            "Epoch 45/50\n",
            "21/21 [==============================] - 0s 5ms/step - loss: 0.3438 - root_mean_squared_error: 0.5864 - val_loss: 0.3440 - val_root_mean_squared_error: 0.5852\n",
            "Epoch 46/50\n",
            "21/21 [==============================] - 0s 4ms/step - loss: 0.3439 - root_mean_squared_error: 0.5864 - val_loss: 0.3432 - val_root_mean_squared_error: 0.5846\n",
            "Epoch 47/50\n",
            "21/21 [==============================] - 0s 4ms/step - loss: 0.3442 - root_mean_squared_error: 0.5866 - val_loss: 0.3448 - val_root_mean_squared_error: 0.5857\n",
            "Epoch 48/50\n",
            "21/21 [==============================] - 0s 5ms/step - loss: 0.3443 - root_mean_squared_error: 0.5868 - val_loss: 0.3440 - val_root_mean_squared_error: 0.5850\n",
            "Epoch 49/50\n",
            "21/21 [==============================] - 0s 5ms/step - loss: 0.3442 - root_mean_squared_error: 0.5867 - val_loss: 0.3444 - val_root_mean_squared_error: 0.5854\n",
            "Epoch 50/50\n",
            "21/21 [==============================] - 0s 4ms/step - loss: 0.3438 - root_mean_squared_error: 0.5864 - val_loss: 0.3449 - val_root_mean_squared_error: 0.5858\n",
            "0.6698552966117859\n"
          ],
          "name": "stdout"
        },
        {
          "output_type": "display_data",
          "data": {
            "image/png": "[encoded data removed]",
            "text/plain": [
              "<Figure size 432x288 with 1 Axes>"
            ]
          },
          "metadata": {
            "tags": []
          }
        },
        {
          "output_type": "stream",
          "text": [
            "\n",
            " Evaluate the linear regression model against the test set:\n",
            "7/7 [==============================] - 0s 2ms/step - loss: 0.3516 - root_mean_squared_error: 0.5899\n"
          ],
          "name": "stdout"
        },
        {
          "output_type": "execute_result",
          "data": {
            "text/plain": [
              "[0.35161352157592773, 0.589897871017456]"
            ]
          },
          "metadata": {
            "tags": []
          },
          "execution_count": 96
        }
      ]
    },
    {
      "cell_type": "markdown",
      "metadata": {
        "id": "PZjkJYDeGmuv",
        "colab_type": "text"
      },
      "source": [
        "##Build a neural net model"
      ]
    },
    {
      "cell_type": "code",
      "metadata": {
        "id": "MzIkZNjddP_p",
        "colab_type": "code",
        "colab": {},
        "cellView": "both"
      },
      "source": [
        "#@title Define functions to create and train a neural net model\n",
        "def create_model(my_learning_rate, my_feature_layer):\n",
        "  \"\"\"Create and compile a simple linear regression model.\"\"\"\n",
        "  # Most simple tf.keras models are sequential.\n",
        "  model = tf.keras.models.Sequential()\n",
        "\n",
        "  # Add the layer containing the feature columns to the model.\n",
        "  model.add(my_feature_layer)\n",
        "\n",
        "  # Describe the topography of the model by calling the tf.keras.layers.Dense\n",
        "  # method once for each layer. We've specified the following arguments:\n",
        "  #   * units specifies the number of nodes in this layer.\n",
        "  #   * activation specifies the activation function (Rectified Linear Unit).\n",
        "  #   * name is just a string that can be useful when debugging.\n",
        "\n",
        "  # Define the first hidden layer with 20 nodes.   \n",
        "  model.add(tf.keras.layers.Dense(units=20, \n",
        "                                  activation='relu',\n",
        "                                  name='Hidden1'))\n",
        "  \n",
        "  # Define the second hidden layer with 12 nodes. \n",
        "  model.add(tf.keras.layers.Dense(units=12, \n",
        "                                  activation='relu', \n",
        "                                  name='Hidden2'))\n",
        "  \n",
        "  # Define the output layer.\n",
        "  model.add(tf.keras.layers.Dense(units=1,  \n",
        "                                  name='Output'))                              \n",
        "  \n",
        "  model.compile(optimizer=tf.keras.optimizers.Adam(lr=my_learning_rate),\n",
        "                loss=\"mean_squared_error\",\n",
        "                metrics=[tf.keras.metrics.RootMeanSquaredError()])\n",
        "\n",
        "  return model\n",
        "\n",
        "def train_model(model, dataset, epochs, label_name,\n",
        "                batch_size, validation_split):\n",
        "  \"\"\"Train the model by feeding it data.\"\"\"\n",
        "\n",
        "  # Split the dataset into features and label.\n",
        "  features = {name:np.array(value) for name, value in dataset.items()}\n",
        "  label = np.array(features.pop(label_name))\n",
        "  history = model.fit(x=features, y=label, batch_size=batch_size,\n",
        "                      epochs=epochs, validation_split=validation_split, shuffle=True) \n",
        "\n",
        "  # The list of epochs is stored separately from the rest of history.\n",
        "  epochs = history.epoch\n",
        "  \n",
        "  # To track the progression of training, gather a snapshot\n",
        "  # of the model's mean squared error at each epoch. \n",
        "  hist = pd.DataFrame(history.history)\n",
        "  rmse = hist[\"root_mean_squared_error\"]\n",
        "\n",
        "  return epochs, rmse, history.history "
      ],
      "execution_count": 0,
      "outputs": []
    },
    {
      "cell_type": "code",
      "metadata": {
        "id": "QV3YvV0kiKTp",
        "colab_type": "code",
        "colab": {
          "base_uri": "https://localhost:8080/",
          "height": 1000
        },
        "outputId": "bf0020da-098c-41db-d340-fa1f87429152"
      },
      "source": [
        "#@title Train the model\n",
        "# The following variables are the hyperparameters.\n",
        "learning_rate = 0.01\n",
        "epochs = 50\n",
        "batch_size = 2000\n",
        "validation_split = 0.2\n",
        "label_name = \"Radiation\"\n",
        " \n",
        "\n",
        "# Establish the model's topography.\n",
        "my_model = create_model(learning_rate, my_feature_layer)\n",
        "\n",
        "# Train the model on the normalized training set.\n",
        "epochs, mse, history = train_model(my_model, data_train_norm, epochs, label_name, batch_size, \n",
        "                          validation_split)\n",
        "plot_the_loss_curve(epochs, history[\"root_mean_squared_error\"], \n",
        "                    history[\"val_root_mean_squared_error\"])\n",
        "\n",
        "test_features = {name:np.array(value) for name, value in data_test_norm.items()}\n",
        "test_label = np.array(test_features.pop(label_name)) # isolate the label\n",
        "print(\"\\n Evaluate the linear regression model against the test set:\")\n",
        "my_model.evaluate(x = test_features, y = test_label, batch_size=batch_size)"
      ],
      "execution_count": 100,
      "outputs": [
        {
          "output_type": "stream",
          "text": [
            "Epoch 1/50\n",
            "11/11 [==============================] - 0s 18ms/step - loss: 0.6687 - root_mean_squared_error: 0.8270 - val_loss: 0.4183 - val_root_mean_squared_error: 0.6464\n",
            "Epoch 2/50\n",
            "11/11 [==============================] - 0s 8ms/step - loss: 0.3748 - root_mean_squared_error: 0.6142 - val_loss: 0.2990 - val_root_mean_squared_error: 0.5472\n",
            "Epoch 3/50\n",
            "11/11 [==============================] - 0s 8ms/step - loss: 0.2889 - root_mean_squared_error: 0.5391 - val_loss: 0.2533 - val_root_mean_squared_error: 0.5045\n",
            "Epoch 4/50\n",
            "11/11 [==============================] - 0s 8ms/step - loss: 0.2418 - root_mean_squared_error: 0.4924 - val_loss: 0.2160 - val_root_mean_squared_error: 0.4662\n",
            "Epoch 5/50\n",
            "11/11 [==============================] - 0s 8ms/step - loss: 0.2104 - root_mean_squared_error: 0.4597 - val_loss: 0.1955 - val_root_mean_squared_error: 0.4437\n",
            "Epoch 6/50\n",
            "11/11 [==============================] - 0s 8ms/step - loss: 0.1912 - root_mean_squared_error: 0.4380 - val_loss: 0.1813 - val_root_mean_squared_error: 0.4274\n",
            "Epoch 7/50\n",
            "11/11 [==============================] - 0s 8ms/step - loss: 0.1797 - root_mean_squared_error: 0.4233 - val_loss: 0.1690 - val_root_mean_squared_error: 0.4128\n",
            "Epoch 8/50\n",
            "11/11 [==============================] - 0s 7ms/step - loss: 0.1672 - root_mean_squared_error: 0.4092 - val_loss: 0.1572 - val_root_mean_squared_error: 0.3980\n",
            "Epoch 9/50\n",
            "11/11 [==============================] - 0s 8ms/step - loss: 0.1590 - root_mean_squared_error: 0.3980 - val_loss: 0.1488 - val_root_mean_squared_error: 0.3875\n",
            "Epoch 10/50\n",
            "11/11 [==============================] - 0s 8ms/step - loss: 0.1495 - root_mean_squared_error: 0.3874 - val_loss: 0.1427 - val_root_mean_squared_error: 0.3794\n",
            "Epoch 11/50\n",
            "11/11 [==============================] - 0s 8ms/step - loss: 0.1436 - root_mean_squared_error: 0.3795 - val_loss: 0.1388 - val_root_mean_squared_error: 0.3746\n",
            "Epoch 12/50\n",
            "11/11 [==============================] - 0s 8ms/step - loss: 0.1397 - root_mean_squared_error: 0.3737 - val_loss: 0.1323 - val_root_mean_squared_error: 0.3657\n",
            "Epoch 13/50\n",
            "11/11 [==============================] - 0s 8ms/step - loss: 0.1377 - root_mean_squared_error: 0.3710 - val_loss: 0.1297 - val_root_mean_squared_error: 0.3622\n",
            "Epoch 14/50\n",
            "11/11 [==============================] - 0s 8ms/step - loss: 0.1343 - root_mean_squared_error: 0.3663 - val_loss: 0.1298 - val_root_mean_squared_error: 0.3624\n",
            "Epoch 15/50\n",
            "11/11 [==============================] - 0s 9ms/step - loss: 0.1313 - root_mean_squared_error: 0.3634 - val_loss: 0.1259 - val_root_mean_squared_error: 0.3569\n",
            "Epoch 16/50\n",
            "11/11 [==============================] - 0s 8ms/step - loss: 0.1299 - root_mean_squared_error: 0.3609 - val_loss: 0.1249 - val_root_mean_squared_error: 0.3555\n",
            "Epoch 17/50\n",
            "11/11 [==============================] - 0s 8ms/step - loss: 0.1293 - root_mean_squared_error: 0.3594 - val_loss: 0.1262 - val_root_mean_squared_error: 0.3574\n",
            "Epoch 18/50\n",
            "11/11 [==============================] - 0s 8ms/step - loss: 0.1302 - root_mean_squared_error: 0.3603 - val_loss: 0.1232 - val_root_mean_squared_error: 0.3532\n",
            "Epoch 19/50\n",
            "11/11 [==============================] - 0s 8ms/step - loss: 0.1293 - root_mean_squared_error: 0.3601 - val_loss: 0.1246 - val_root_mean_squared_error: 0.3553\n",
            "Epoch 20/50\n",
            "11/11 [==============================] - 0s 8ms/step - loss: 0.1266 - root_mean_squared_error: 0.3568 - val_loss: 0.1216 - val_root_mean_squared_error: 0.3509\n",
            "Epoch 21/50\n",
            "11/11 [==============================] - 0s 8ms/step - loss: 0.1253 - root_mean_squared_error: 0.3549 - val_loss: 0.1208 - val_root_mean_squared_error: 0.3501\n",
            "Epoch 22/50\n",
            "11/11 [==============================] - 0s 9ms/step - loss: 0.1260 - root_mean_squared_error: 0.3551 - val_loss: 0.1221 - val_root_mean_squared_error: 0.3519\n",
            "Epoch 23/50\n",
            "11/11 [==============================] - 0s 8ms/step - loss: 0.1261 - root_mean_squared_error: 0.3562 - val_loss: 0.1204 - val_root_mean_squared_error: 0.3495\n",
            "Epoch 24/50\n",
            "11/11 [==============================] - 0s 8ms/step - loss: 0.1256 - root_mean_squared_error: 0.3557 - val_loss: 0.1247 - val_root_mean_squared_error: 0.3552\n",
            "Epoch 25/50\n",
            "11/11 [==============================] - 0s 8ms/step - loss: 0.1248 - root_mean_squared_error: 0.3537 - val_loss: 0.1190 - val_root_mean_squared_error: 0.3472\n",
            "Epoch 26/50\n",
            "11/11 [==============================] - 0s 10ms/step - loss: 0.1232 - root_mean_squared_error: 0.3504 - val_loss: 0.1181 - val_root_mean_squared_error: 0.3462\n",
            "Epoch 27/50\n",
            "11/11 [==============================] - 0s 8ms/step - loss: 0.1229 - root_mean_squared_error: 0.3503 - val_loss: 0.1190 - val_root_mean_squared_error: 0.3474\n",
            "Epoch 28/50\n",
            "11/11 [==============================] - 0s 9ms/step - loss: 0.1221 - root_mean_squared_error: 0.3496 - val_loss: 0.1179 - val_root_mean_squared_error: 0.3458\n",
            "Epoch 29/50\n",
            "11/11 [==============================] - 0s 8ms/step - loss: 0.1233 - root_mean_squared_error: 0.3501 - val_loss: 0.1176 - val_root_mean_squared_error: 0.3456\n",
            "Epoch 30/50\n",
            "11/11 [==============================] - 0s 8ms/step - loss: 0.1213 - root_mean_squared_error: 0.3483 - val_loss: 0.1201 - val_root_mean_squared_error: 0.3490\n",
            "Epoch 31/50\n",
            "11/11 [==============================] - 0s 8ms/step - loss: 0.1244 - root_mean_squared_error: 0.3526 - val_loss: 0.1194 - val_root_mean_squared_error: 0.3482\n",
            "Epoch 32/50\n",
            "11/11 [==============================] - 0s 8ms/step - loss: 0.1216 - root_mean_squared_error: 0.3494 - val_loss: 0.1187 - val_root_mean_squared_error: 0.3469\n",
            "Epoch 33/50\n",
            "11/11 [==============================] - 0s 8ms/step - loss: 0.1195 - root_mean_squared_error: 0.3475 - val_loss: 0.1163 - val_root_mean_squared_error: 0.3433\n",
            "Epoch 34/50\n",
            "11/11 [==============================] - 0s 8ms/step - loss: 0.1198 - root_mean_squared_error: 0.3458 - val_loss: 0.1169 - val_root_mean_squared_error: 0.3441\n",
            "Epoch 35/50\n",
            "11/11 [==============================] - 0s 8ms/step - loss: 0.1193 - root_mean_squared_error: 0.3461 - val_loss: 0.1172 - val_root_mean_squared_error: 0.3446\n",
            "Epoch 36/50\n",
            "11/11 [==============================] - 0s 7ms/step - loss: 0.1198 - root_mean_squared_error: 0.3461 - val_loss: 0.1186 - val_root_mean_squared_error: 0.3467\n",
            "Epoch 37/50\n",
            "11/11 [==============================] - 0s 8ms/step - loss: 0.1203 - root_mean_squared_error: 0.3464 - val_loss: 0.1162 - val_root_mean_squared_error: 0.3433\n",
            "Epoch 38/50\n",
            "11/11 [==============================] - 0s 8ms/step - loss: 0.1185 - root_mean_squared_error: 0.3442 - val_loss: 0.1173 - val_root_mean_squared_error: 0.3446\n",
            "Epoch 39/50\n",
            "11/11 [==============================] - 0s 8ms/step - loss: 0.1199 - root_mean_squared_error: 0.3468 - val_loss: 0.1197 - val_root_mean_squared_error: 0.3485\n",
            "Epoch 40/50\n",
            "11/11 [==============================] - 0s 9ms/step - loss: 0.1202 - root_mean_squared_error: 0.3481 - val_loss: 0.1164 - val_root_mean_squared_error: 0.3435\n",
            "Epoch 41/50\n",
            "11/11 [==============================] - 0s 8ms/step - loss: 0.1201 - root_mean_squared_error: 0.3457 - val_loss: 0.1142 - val_root_mean_squared_error: 0.3404\n",
            "Epoch 42/50\n",
            "11/11 [==============================] - 0s 8ms/step - loss: 0.1181 - root_mean_squared_error: 0.3443 - val_loss: 0.1178 - val_root_mean_squared_error: 0.3457\n",
            "Epoch 43/50\n",
            "11/11 [==============================] - 0s 8ms/step - loss: 0.1221 - root_mean_squared_error: 0.3481 - val_loss: 0.1204 - val_root_mean_squared_error: 0.3491\n",
            "Epoch 44/50\n",
            "11/11 [==============================] - 0s 8ms/step - loss: 0.1206 - root_mean_squared_error: 0.3471 - val_loss: 0.1172 - val_root_mean_squared_error: 0.3446\n",
            "Epoch 45/50\n",
            "11/11 [==============================] - 0s 8ms/step - loss: 0.1205 - root_mean_squared_error: 0.3466 - val_loss: 0.1153 - val_root_mean_squared_error: 0.3420\n",
            "Epoch 46/50\n",
            "11/11 [==============================] - 0s 8ms/step - loss: 0.1176 - root_mean_squared_error: 0.3428 - val_loss: 0.1180 - val_root_mean_squared_error: 0.3460\n",
            "Epoch 47/50\n",
            "11/11 [==============================] - 0s 9ms/step - loss: 0.1191 - root_mean_squared_error: 0.3437 - val_loss: 0.1143 - val_root_mean_squared_error: 0.3406\n",
            "Epoch 48/50\n",
            "11/11 [==============================] - 0s 8ms/step - loss: 0.1153 - root_mean_squared_error: 0.3420 - val_loss: 0.1143 - val_root_mean_squared_error: 0.3407\n",
            "Epoch 49/50\n",
            "11/11 [==============================] - 0s 7ms/step - loss: 0.1174 - root_mean_squared_error: 0.3430 - val_loss: 0.1132 - val_root_mean_squared_error: 0.3391\n",
            "Epoch 50/50\n",
            "11/11 [==============================] - 0s 8ms/step - loss: 0.1178 - root_mean_squared_error: 0.3427 - val_loss: 0.1166 - val_root_mean_squared_error: 0.3440\n",
            "0.2750650942325592\n"
          ],
          "name": "stdout"
        },
        {
          "output_type": "display_data",
          "data": {
            "image/png": "[encoded data removed]",
            "text/plain": [
              "<Figure size 432x288 with 1 Axes>"
            ]
          },
          "metadata": {
            "tags": []
          }
        },
        {
          "output_type": "stream",
          "text": [
            "\n",
            " Evaluate the linear regression model against the test set:\n",
            "4/4 [==============================] - 0s 3ms/step - loss: 0.1233 - root_mean_squared_error: 0.3533\n"
          ],
          "name": "stdout"
        },
        {
          "output_type": "execute_result",
          "data": {
            "text/plain": [
              "[0.12334352731704712, 0.3532779812812805]"
            ]
          },
          "metadata": {
            "tags": []
          },
          "execution_count": 100
        }
      ]
    }
  ]
}