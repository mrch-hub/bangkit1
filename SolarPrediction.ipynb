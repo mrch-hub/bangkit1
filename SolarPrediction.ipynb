{
  "nbformat": 4,
  "nbformat_minor": 0,
  "metadata": {
    "colab": {
      "name": "SolarPrediction.ipynb",
      "provenance": [],
      "include_colab_link": true
    },
    "kernelspec": {
      "name": "python3",
      "display_name": "Python 3"
    }
  },
  "cells": [
    {
      "cell_type": "markdown",
      "metadata": {
        "id": "view-in-github",
        "colab_type": "text"
      },
      "source": [
        "<a href=\"https://colab.research.google.com/github/mrch-hub/bangkit1/blob/master/SolarPrediction.ipynb\" target=\"_parent\"><img src=\"https://colab.research.google.com/assets/colab-badge.svg\" alt=\"Open In Colab\"/></a>"
      ]
    },
    {
      "cell_type": "markdown",
      "metadata": {
        "id": "f5bF6G8ff6Zq",
        "colab_type": "text"
      },
      "source": [
        "##Solar radiation intensity prediction using TensorFlow"
      ]
    },
    {
      "cell_type": "code",
      "metadata": {
        "id": "C6pwJrUZ9rYW",
        "colab_type": "code",
        "outputId": "8eb7d43b-8719-4b88-81c0-7b3cb70b6847",
        "colab": {
          "base_uri": "https://localhost:8080/",
          "height": 54
        }
      },
      "source": [
        "\"\"\"A python code for predicting solar radiation\n",
        "intensity using TensorFlow. Created for \n",
        "5th Bangk!t assignment.\n",
        "Collaborators: Marcellinus Chrisnada, Muhammad\n",
        "Harits Hafidza, Mochammad Randy Caesario H.\"\"\""
      ],
      "execution_count": 0,
      "outputs": [
        {
          "output_type": "execute_result",
          "data": {
            "text/plain": [
              "'A python code for predicting solar radiation\\nintensity using machine learning. Created for \\n5th bangk!t assignment.\\nCollaborators: Marcellinus Chrisnada, Muhammad\\nHarits Hafidza, Mochammad Randy Caesario H.'"
            ]
          },
          "metadata": {
            "tags": []
          },
          "execution_count": 1
        }
      ]
    },
    {
      "cell_type": "markdown",
      "metadata": {
        "id": "yb2tFywNgWIn",
        "colab_type": "text"
      },
      "source": [
        "##Initialization and Data Preconditioning"
      ]
    },
    {
      "cell_type": "code",
      "metadata": {
        "id": "d8ekWJYDbTzp",
        "colab_type": "code",
        "colab": {}
      },
      "source": [
        "#@title Run on TensorFlow 2.x\n",
        "%tensorflow_version 2.x\n",
        "from __future__ import absolute_import, division, print_function, unicode_literals"
      ],
      "execution_count": 0,
      "outputs": []
    },
    {
      "cell_type": "code",
      "metadata": {
        "id": "oPY5vbLWXmKN",
        "colab_type": "code",
        "colab": {
          "base_uri": "https://localhost:8080/",
          "height": 108
        },
        "cellView": "both",
        "outputId": "b4ee9930-9df6-4601-d83d-9855834b0db3"
      },
      "source": [
        "#@title Import relevant modules\n",
        "import numpy as np\n",
        "import pandas as pd\n",
        "import tensorflow as tf\n",
        "from tensorflow.keras import layers\n",
        "from matplotlib import pyplot as plt\n",
        "import seaborn as sns\n",
        "\n",
        "# Adjust the granularity of reporting. \n",
        "pd.options.display.max_rows = 10\n",
        "pd.options.display.float_format = \"{:.1f}\".format\n",
        "\n",
        "print(\"Imported modules.\")"
      ],
      "execution_count": 3,
      "outputs": [
        {
          "output_type": "stream",
          "text": [
            "ERROR! Session/line number was not unique in database. History logging moved to new session 59\n",
            "Imported modules.\n"
          ],
          "name": "stdout"
        },
        {
          "output_type": "stream",
          "text": [
            "/usr/local/lib/python3.6/dist-packages/statsmodels/tools/_testing.py:19: FutureWarning: pandas.util.testing is deprecated. Use the functions in the public API at pandas.testing instead.\n",
            "  import pandas.util.testing as tm\n"
          ],
          "name": "stderr"
        }
      ]
    },
    {
      "cell_type": "code",
      "metadata": {
        "id": "oRlH8pQwbSpE",
        "colab_type": "code",
        "colab": {
          "base_uri": "https://localhost:8080/",
          "height": 424
        },
        "outputId": "66c2b387-08d9-4a95-ae17-44d92901c76b"
      },
      "source": [
        "#@title Load dataset\n",
        "data = pd.read_csv('https://raw.githubusercontent.com/mrch-hub/bangkit1/master/SolarPrediction.csv')\n",
        "data = data.reindex(np.random.permutation(data.index)) # shuffle dataset\n",
        "data.head(40)"
      ],
      "execution_count": 4,
      "outputs": [
        {
          "output_type": "execute_result",
          "data": {
            "text/html": [
              "<div>\n",
              "<style scoped>\n",
              "    .dataframe tbody tr th:only-of-type {\n",
              "        vertical-align: middle;\n",
              "    }\n",
              "\n",
              "    .dataframe tbody tr th {\n",
              "        vertical-align: top;\n",
              "    }\n",
              "\n",
              "    .dataframe thead th {\n",
              "        text-align: right;\n",
              "    }\n",
              "</style>\n",
              "<table border=\"1\" class=\"dataframe\">\n",
              "  <thead>\n",
              "    <tr style=\"text-align: right;\">\n",
              "      <th></th>\n",
              "      <th>UNIXTime</th>\n",
              "      <th>Data</th>\n",
              "      <th>Time</th>\n",
              "      <th>Radiation</th>\n",
              "      <th>Temperature</th>\n",
              "      <th>Pressure</th>\n",
              "      <th>Humidity</th>\n",
              "      <th>WindDirection(Degrees)</th>\n",
              "      <th>Speed</th>\n",
              "      <th>TimeSunRise</th>\n",
              "      <th>TimeSunSet</th>\n",
              "    </tr>\n",
              "  </thead>\n",
              "  <tbody>\n",
              "    <tr>\n",
              "      <th>22703</th>\n",
              "      <td>1478541303</td>\n",
              "      <td>11/7/2016 12:00:00 AM</td>\n",
              "      <td>07:55:03</td>\n",
              "      <td>330.8</td>\n",
              "      <td>55</td>\n",
              "      <td>30.5</td>\n",
              "      <td>16</td>\n",
              "      <td>275.4</td>\n",
              "      <td>4.5</td>\n",
              "      <td>06:27:00</td>\n",
              "      <td>17:46:00</td>\n",
              "    </tr>\n",
              "    <tr>\n",
              "      <th>10661</th>\n",
              "      <td>1477018220</td>\n",
              "      <td>10/20/2016 12:00:00 AM</td>\n",
              "      <td>16:50:20</td>\n",
              "      <td>226.7</td>\n",
              "      <td>52</td>\n",
              "      <td>30.4</td>\n",
              "      <td>85</td>\n",
              "      <td>34.8</td>\n",
              "      <td>4.5</td>\n",
              "      <td>06:19:00</td>\n",
              "      <td>17:56:00</td>\n",
              "    </tr>\n",
              "    <tr>\n",
              "      <th>31561</th>\n",
              "      <td>1480923633</td>\n",
              "      <td>12/4/2016 12:00:00 AM</td>\n",
              "      <td>21:40:33</td>\n",
              "      <td>1.2</td>\n",
              "      <td>45</td>\n",
              "      <td>30.4</td>\n",
              "      <td>93</td>\n",
              "      <td>51.3</td>\n",
              "      <td>3.4</td>\n",
              "      <td>06:43:00</td>\n",
              "      <td>17:43:00</td>\n",
              "    </tr>\n",
              "    <tr>\n",
              "      <th>3258</th>\n",
              "      <td>1474226706</td>\n",
              "      <td>9/18/2016 12:00:00 AM</td>\n",
              "      <td>09:25:06</td>\n",
              "      <td>748.5</td>\n",
              "      <td>63</td>\n",
              "      <td>30.5</td>\n",
              "      <td>58</td>\n",
              "      <td>58.7</td>\n",
              "      <td>6.8</td>\n",
              "      <td>06:11:00</td>\n",
              "      <td>18:23:00</td>\n",
              "    </tr>\n",
              "    <tr>\n",
              "      <th>13669</th>\n",
              "      <td>1476103524</td>\n",
              "      <td>10/10/2016 12:00:00 AM</td>\n",
              "      <td>02:45:24</td>\n",
              "      <td>1.3</td>\n",
              "      <td>49</td>\n",
              "      <td>30.4</td>\n",
              "      <td>81</td>\n",
              "      <td>199.6</td>\n",
              "      <td>9.0</td>\n",
              "      <td>06:16:00</td>\n",
              "      <td>18:03:00</td>\n",
              "    </tr>\n",
              "    <tr>\n",
              "      <th>...</th>\n",
              "      <td>...</td>\n",
              "      <td>...</td>\n",
              "      <td>...</td>\n",
              "      <td>...</td>\n",
              "      <td>...</td>\n",
              "      <td>...</td>\n",
              "      <td>...</td>\n",
              "      <td>...</td>\n",
              "      <td>...</td>\n",
              "      <td>...</td>\n",
              "      <td>...</td>\n",
              "    </tr>\n",
              "    <tr>\n",
              "      <th>20568</th>\n",
              "      <td>1479181801</td>\n",
              "      <td>11/14/2016 12:00:00 AM</td>\n",
              "      <td>17:50:01</td>\n",
              "      <td>1.9</td>\n",
              "      <td>51</td>\n",
              "      <td>30.4</td>\n",
              "      <td>100</td>\n",
              "      <td>128.5</td>\n",
              "      <td>2.2</td>\n",
              "      <td>06:31:00</td>\n",
              "      <td>17:43:00</td>\n",
              "    </tr>\n",
              "    <tr>\n",
              "      <th>7107</th>\n",
              "      <td>1472829906</td>\n",
              "      <td>9/2/2016 12:00:00 AM</td>\n",
              "      <td>05:25:06</td>\n",
              "      <td>2.5</td>\n",
              "      <td>47</td>\n",
              "      <td>30.4</td>\n",
              "      <td>72</td>\n",
              "      <td>148.8</td>\n",
              "      <td>5.6</td>\n",
              "      <td>06:07:00</td>\n",
              "      <td>18:37:00</td>\n",
              "    </tr>\n",
              "    <tr>\n",
              "      <th>15227</th>\n",
              "      <td>1475625618</td>\n",
              "      <td>10/4/2016 12:00:00 AM</td>\n",
              "      <td>14:00:18</td>\n",
              "      <td>171.7</td>\n",
              "      <td>55</td>\n",
              "      <td>30.4</td>\n",
              "      <td>102</td>\n",
              "      <td>45.3</td>\n",
              "      <td>4.5</td>\n",
              "      <td>06:14:00</td>\n",
              "      <td>18:08:00</td>\n",
              "    </tr>\n",
              "    <tr>\n",
              "      <th>9279</th>\n",
              "      <td>1477434318</td>\n",
              "      <td>10/25/2016 12:00:00 AM</td>\n",
              "      <td>12:25:18</td>\n",
              "      <td>956.1</td>\n",
              "      <td>64</td>\n",
              "      <td>30.5</td>\n",
              "      <td>63</td>\n",
              "      <td>3.1</td>\n",
              "      <td>2.2</td>\n",
              "      <td>06:21:00</td>\n",
              "      <td>17:52:00</td>\n",
              "    </tr>\n",
              "    <tr>\n",
              "      <th>22567</th>\n",
              "      <td>1478582102</td>\n",
              "      <td>11/7/2016 12:00:00 AM</td>\n",
              "      <td>19:15:02</td>\n",
              "      <td>1.2</td>\n",
              "      <td>48</td>\n",
              "      <td>30.4</td>\n",
              "      <td>71</td>\n",
              "      <td>190.8</td>\n",
              "      <td>5.6</td>\n",
              "      <td>06:27:00</td>\n",
              "      <td>17:46:00</td>\n",
              "    </tr>\n",
              "  </tbody>\n",
              "</table>\n",
              "<p>40 rows × 11 columns</p>\n",
              "</div>"
            ],
            "text/plain": [
              "         UNIXTime                    Data  ... TimeSunRise  TimeSunSet\n",
              "22703  1478541303   11/7/2016 12:00:00 AM  ...    06:27:00    17:46:00\n",
              "10661  1477018220  10/20/2016 12:00:00 AM  ...    06:19:00    17:56:00\n",
              "31561  1480923633   12/4/2016 12:00:00 AM  ...    06:43:00    17:43:00\n",
              "3258   1474226706   9/18/2016 12:00:00 AM  ...    06:11:00    18:23:00\n",
              "13669  1476103524  10/10/2016 12:00:00 AM  ...    06:16:00    18:03:00\n",
              "...           ...                     ...  ...         ...         ...\n",
              "20568  1479181801  11/14/2016 12:00:00 AM  ...    06:31:00    17:43:00\n",
              "7107   1472829906    9/2/2016 12:00:00 AM  ...    06:07:00    18:37:00\n",
              "15227  1475625618   10/4/2016 12:00:00 AM  ...    06:14:00    18:08:00\n",
              "9279   1477434318  10/25/2016 12:00:00 AM  ...    06:21:00    17:52:00\n",
              "22567  1478582102   11/7/2016 12:00:00 AM  ...    06:27:00    17:46:00\n",
              "\n",
              "[40 rows x 11 columns]"
            ]
          },
          "metadata": {
            "tags": []
          },
          "execution_count": 4
        }
      ]
    },
    {
      "cell_type": "code",
      "metadata": {
        "id": "lbKi6_Xcbn6M",
        "colab_type": "code",
        "colab": {
          "base_uri": "https://localhost:8080/",
          "height": 53
        },
        "outputId": "7c66bbb4-ffd8-4ade-e579-2e0de7122de1"
      },
      "source": [
        "#@title Splitting data to train set and test set\n",
        "test_split = 0.2 # percentage of train set to be considered as test set\n",
        "data_test = data[:][0:round((len(data)*test_split))]\n",
        "data_train = data[:][round((len(data)*test_split)):]\n",
        "print('train set length:', str(len(data_train)), '\\ntest set length:', \n",
        "      str(len(data_test)))"
      ],
      "execution_count": 7,
      "outputs": [
        {
          "output_type": "stream",
          "text": [
            "train set length: 26149 \n",
            "test set length: 6537\n"
          ],
          "name": "stdout"
        }
      ]
    },
    {
      "cell_type": "code",
      "metadata": {
        "id": "5v5LYeP_dECa",
        "colab_type": "code",
        "colab": {
          "base_uri": "https://localhost:8080/",
          "height": 318
        },
        "outputId": "9a75c7f9-e238-44f1-a39b-4a25e014ad80"
      },
      "source": [
        "#@title Normalize values \n",
        "\n",
        "# Calculate the Z-scores of each column in the training set:\n",
        "data_train_mean = data_train[['UNIXTime', 'Radiation', 'Temperature', 'Pressure', \n",
        "                              'Humidity', 'WindDirection(Degrees)', 'Speed']].mean()\n",
        "data_train_std = data_train[['UNIXTime', 'Radiation', 'Temperature', 'Pressure', \n",
        "                             'Humidity', 'WindDirection(Degrees)', 'Speed']].std()\n",
        "data_train_norm = (data_train[['UNIXTime', 'Radiation', 'Temperature', 'Pressure', \n",
        "                               'Humidity', 'WindDirection(Degrees)', 'Speed']] \n",
        "                   - data_train_mean)/data_train_std\n",
        "\n",
        "# Calculate the Z-scores of each column in the test set.\n",
        "data_test_mean = data_test[['UNIXTime', 'Radiation', 'Temperature', 'Pressure', \n",
        "                            'Humidity', 'WindDirection(Degrees)', 'Speed']].mean()\n",
        "data_test_std = data_test[['UNIXTime', 'Radiation', 'Temperature', 'Pressure', \n",
        "                           'Humidity', 'WindDirection(Degrees)', 'Speed']].std()\n",
        "data_test_norm = (data_test[['UNIXTime', 'Radiation', 'Temperature', 'Pressure', \n",
        "                             'Humidity', 'WindDirection(Degrees)', 'Speed']] \n",
        "                  - data_test_mean)/data_test_std\n",
        "\n",
        "print(\"Normalized the values.\")\n",
        "data_train_norm.describe()"
      ],
      "execution_count": 8,
      "outputs": [
        {
          "output_type": "stream",
          "text": [
            "Normalized the values.\n"
          ],
          "name": "stdout"
        },
        {
          "output_type": "execute_result",
          "data": {
            "text/html": [
              "<div>\n",
              "<style scoped>\n",
              "    .dataframe tbody tr th:only-of-type {\n",
              "        vertical-align: middle;\n",
              "    }\n",
              "\n",
              "    .dataframe tbody tr th {\n",
              "        vertical-align: top;\n",
              "    }\n",
              "\n",
              "    .dataframe thead th {\n",
              "        text-align: right;\n",
              "    }\n",
              "</style>\n",
              "<table border=\"1\" class=\"dataframe\">\n",
              "  <thead>\n",
              "    <tr style=\"text-align: right;\">\n",
              "      <th></th>\n",
              "      <th>UNIXTime</th>\n",
              "      <th>Radiation</th>\n",
              "      <th>Temperature</th>\n",
              "      <th>Pressure</th>\n",
              "      <th>Humidity</th>\n",
              "      <th>WindDirection(Degrees)</th>\n",
              "      <th>Speed</th>\n",
              "    </tr>\n",
              "  </thead>\n",
              "  <tbody>\n",
              "    <tr>\n",
              "      <th>count</th>\n",
              "      <td>26149.0</td>\n",
              "      <td>26149.0</td>\n",
              "      <td>26149.0</td>\n",
              "      <td>26149.0</td>\n",
              "      <td>26149.0</td>\n",
              "      <td>26149.0</td>\n",
              "      <td>26149.0</td>\n",
              "    </tr>\n",
              "    <tr>\n",
              "      <th>mean</th>\n",
              "      <td>-0.0</td>\n",
              "      <td>-0.0</td>\n",
              "      <td>0.0</td>\n",
              "      <td>0.0</td>\n",
              "      <td>0.0</td>\n",
              "      <td>0.0</td>\n",
              "      <td>0.0</td>\n",
              "    </tr>\n",
              "    <tr>\n",
              "      <th>std</th>\n",
              "      <td>1.0</td>\n",
              "      <td>1.0</td>\n",
              "      <td>1.0</td>\n",
              "      <td>1.0</td>\n",
              "      <td>1.0</td>\n",
              "      <td>1.0</td>\n",
              "      <td>1.0</td>\n",
              "    </tr>\n",
              "    <tr>\n",
              "      <th>min</th>\n",
              "      <td>-1.8</td>\n",
              "      <td>-0.7</td>\n",
              "      <td>-2.6</td>\n",
              "      <td>-4.3</td>\n",
              "      <td>-2.5</td>\n",
              "      <td>-1.7</td>\n",
              "      <td>-1.8</td>\n",
              "    </tr>\n",
              "    <tr>\n",
              "      <th>25%</th>\n",
              "      <td>-0.8</td>\n",
              "      <td>-0.7</td>\n",
              "      <td>-0.8</td>\n",
              "      <td>-0.4</td>\n",
              "      <td>-0.7</td>\n",
              "      <td>-0.7</td>\n",
              "      <td>-0.8</td>\n",
              "    </tr>\n",
              "    <tr>\n",
              "      <th>50%</th>\n",
              "      <td>-0.0</td>\n",
              "      <td>-0.6</td>\n",
              "      <td>-0.2</td>\n",
              "      <td>0.1</td>\n",
              "      <td>0.4</td>\n",
              "      <td>0.0</td>\n",
              "      <td>-0.2</td>\n",
              "    </tr>\n",
              "    <tr>\n",
              "      <th>75%</th>\n",
              "      <td>0.8</td>\n",
              "      <td>0.5</td>\n",
              "      <td>0.6</td>\n",
              "      <td>0.7</td>\n",
              "      <td>0.8</td>\n",
              "      <td>0.4</td>\n",
              "      <td>0.5</td>\n",
              "    </tr>\n",
              "    <tr>\n",
              "      <th>max</th>\n",
              "      <td>1.7</td>\n",
              "      <td>4.0</td>\n",
              "      <td>3.2</td>\n",
              "      <td>2.5</td>\n",
              "      <td>1.1</td>\n",
              "      <td>2.6</td>\n",
              "      <td>9.8</td>\n",
              "    </tr>\n",
              "  </tbody>\n",
              "</table>\n",
              "</div>"
            ],
            "text/plain": [
              "       UNIXTime  Radiation  ...  WindDirection(Degrees)   Speed\n",
              "count   26149.0    26149.0  ...                 26149.0 26149.0\n",
              "mean       -0.0       -0.0  ...                     0.0     0.0\n",
              "std         1.0        1.0  ...                     1.0     1.0\n",
              "min        -1.8       -0.7  ...                    -1.7    -1.8\n",
              "25%        -0.8       -0.7  ...                    -0.7    -0.8\n",
              "50%        -0.0       -0.6  ...                     0.0    -0.2\n",
              "75%         0.8        0.5  ...                     0.4     0.5\n",
              "max         1.7        4.0  ...                     2.6     9.8\n",
              "\n",
              "[8 rows x 7 columns]"
            ]
          },
          "metadata": {
            "tags": []
          },
          "execution_count": 8
        }
      ]
    },
    {
      "cell_type": "markdown",
      "metadata": {
        "id": "LKdhPgg5eRFI",
        "colab_type": "text"
      },
      "source": [
        "## Represent data\n",
        "\n",
        "The following code cell creates a feature layer containing two features:\n",
        "\n",
        "* `Temperature`\n",
        "* `Pressure`"
      ]
    },
    {
      "cell_type": "code",
      "metadata": {
        "id": "6bDp6l3KeEgb",
        "colab_type": "code",
        "colab": {}
      },
      "source": [
        "# Create empty feature column list\n",
        "feature_columns = []\n",
        "\n",
        "# Represent temperature as a floating-point value.\n",
        "temperature = tf.feature_column.numeric_column(\"Temperature\")\n",
        "feature_columns.append(temperature)\n",
        "\n",
        "# Represent pressure as a floating-point value.\n",
        "pressure = tf.feature_column.numeric_column(\"Pressure\")\n",
        "feature_columns.append(pressure)\n",
        "\n",
        "# Convert the list of feature columns into a layer that will later be fed into\n",
        "# the model. \n",
        "my_feature_layer = tf.keras.layers.DenseFeatures(feature_columns)"
      ],
      "execution_count": 0,
      "outputs": []
    },
    {
      "cell_type": "markdown",
      "metadata": {
        "id": "MMAji1PSfPCt",
        "colab_type": "text"
      },
      "source": [
        "## Build a linear regression model"
      ]
    },
    {
      "cell_type": "code",
      "metadata": {
        "id": "vyOjMo-7ei25",
        "colab_type": "code",
        "colab": {
          "base_uri": "https://localhost:8080/",
          "height": 35
        },
        "outputId": "89dd0525-e1a5-4b51-8a7d-b5a10d5d3e27"
      },
      "source": [
        "#@title Define plotting function\n",
        "\n",
        "def plot_the_loss_curve(epochs, mse):\n",
        "  \"\"\"Plot a curve of loss vs. epoch.\"\"\"\n",
        "\n",
        "  plt.figure()\n",
        "  plt.xlabel(\"Epoch\")\n",
        "  plt.ylabel(\"Mean Squared Error\")\n",
        "\n",
        "  plt.plot(epochs, mse, label=\"Loss\")\n",
        "  plt.legend()\n",
        "  plt.ylim([mse.min()*0.95, mse.max() * 1.03])\n",
        "  plt.show()  \n",
        "\n",
        "print(\"Defined the plot_the_loss_curve function.\")"
      ],
      "execution_count": 10,
      "outputs": [
        {
          "output_type": "stream",
          "text": [
            "Defined the plot_the_loss_curve function.\n"
          ],
          "name": "stdout"
        }
      ]
    },
    {
      "cell_type": "code",
      "metadata": {
        "id": "gEsYOPPhetG3",
        "colab_type": "code",
        "colab": {
          "base_uri": "https://localhost:8080/",
          "height": 35
        },
        "outputId": "e6520a3b-aeb4-4332-d358-846d36cb4349"
      },
      "source": [
        "#@title Define functions to create and train a linear regression model\n",
        "def create_model(my_learning_rate, feature_layer):\n",
        "  \"\"\"Create and compile a simple linear regression model.\"\"\"\n",
        "  # Most simple tf.keras models are sequential.\n",
        "  model = tf.keras.models.Sequential()\n",
        "\n",
        "  # Add the layer containing the feature columns to the model.\n",
        "  model.add(feature_layer)\n",
        "\n",
        "  # Add one linear layer to the model to yield a simple linear regressor.\n",
        "  model.add(tf.keras.layers.Dense(units=1, input_shape=(1,)))\n",
        "\n",
        "  # Construct the layers into a model that TensorFlow can execute.\n",
        "  model.compile(optimizer=tf.keras.optimizers.RMSprop(lr=my_learning_rate),\n",
        "                loss=\"mean_squared_error\",\n",
        "                metrics=[tf.keras.metrics.MeanSquaredError()])\n",
        "\n",
        "  return model           \n",
        "\n",
        "\n",
        "def train_model(model, dataset, epochs, batch_size, label_name):\n",
        "  \"\"\"Feed a dataset into the model in order to train it.\"\"\"\n",
        "\n",
        "  # Split the dataset into features and label.\n",
        "  features = {name:np.array(value) for name, value in dataset.items()}\n",
        "  label = np.array(features.pop(label_name))\n",
        "  history = model.fit(x=features, y=label, batch_size=batch_size,\n",
        "                      epochs=epochs, shuffle=True)\n",
        "\n",
        "  # Get details that will be useful for plotting the loss curve.\n",
        "  epochs = history.epoch\n",
        "  hist = pd.DataFrame(history.history)\n",
        "  rmse = hist[\"mean_squared_error\"]\n",
        "\n",
        "  return epochs, rmse   \n",
        "\n",
        "print(\"Defined the create_model and train_model functions.\")"
      ],
      "execution_count": 11,
      "outputs": [
        {
          "output_type": "stream",
          "text": [
            "Defined the create_model and train_model functions.\n"
          ],
          "name": "stdout"
        }
      ]
    },
    {
      "cell_type": "code",
      "metadata": {
        "id": "wAJuzbBmexB4",
        "colab_type": "code",
        "colab": {
          "base_uri": "https://localhost:8080/",
          "height": 1000
        },
        "cellView": "both",
        "outputId": "f2bd3450-fa4d-4f58-9578-309a94ea42cd"
      },
      "source": [
        "#@title Train the model as linear regression\n",
        "# The following variables are the hyperparameters.\n",
        "learning_rate = 0.01\n",
        "epochs = 50\n",
        "batch_size = 1000\n",
        "label_name = \"Radiation\"\n",
        "\n",
        "# Establish the model's topography.\n",
        "my_model = create_model(learning_rate, my_feature_layer)\n",
        "\n",
        "# Train the model on the normalized training set.\n",
        "epochs, mse = train_model(my_model, data_train_norm, epochs, batch_size, label_name)\n",
        "plot_the_loss_curve(epochs, mse)\n",
        "\n",
        "test_features = {name:np.array(value) for name, value in data_test_norm.items()}\n",
        "test_label = np.array(test_features.pop(label_name)) # isolate the label\n",
        "print(\"\\n Evaluate the linear regression model against the test set:\")\n",
        "my_model.evaluate(x = test_features, y = test_label, batch_size=batch_size)"
      ],
      "execution_count": 14,
      "outputs": [
        {
          "output_type": "stream",
          "text": [
            "Epoch 1/50\n",
            "27/27 [==============================] - 0s 2ms/step - loss: 0.4977 - mean_squared_error: 0.5009\n",
            "Epoch 2/50\n",
            "27/27 [==============================] - 0s 1ms/step - loss: 0.4495 - mean_squared_error: 0.4499\n",
            "Epoch 3/50\n",
            "27/27 [==============================] - 0s 1ms/step - loss: 0.4480 - mean_squared_error: 0.4469\n",
            "Epoch 4/50\n",
            "27/27 [==============================] - 0s 1ms/step - loss: 0.4481 - mean_squared_error: 0.4472\n",
            "Epoch 5/50\n",
            "27/27 [==============================] - 0s 1ms/step - loss: 0.4447 - mean_squared_error: 0.4472\n",
            "Epoch 6/50\n",
            "27/27 [==============================] - 0s 1ms/step - loss: 0.4470 - mean_squared_error: 0.4473\n",
            "Epoch 7/50\n",
            "27/27 [==============================] - 0s 1ms/step - loss: 0.4501 - mean_squared_error: 0.4471\n",
            "Epoch 8/50\n",
            "27/27 [==============================] - 0s 2ms/step - loss: 0.4448 - mean_squared_error: 0.4473\n",
            "Epoch 9/50\n",
            "27/27 [==============================] - 0s 1ms/step - loss: 0.4513 - mean_squared_error: 0.4473\n",
            "Epoch 10/50\n",
            "27/27 [==============================] - 0s 1ms/step - loss: 0.4476 - mean_squared_error: 0.4471\n",
            "Epoch 11/50\n",
            "27/27 [==============================] - 0s 1ms/step - loss: 0.4477 - mean_squared_error: 0.4471\n",
            "Epoch 12/50\n",
            "27/27 [==============================] - 0s 1ms/step - loss: 0.4474 - mean_squared_error: 0.4472\n",
            "Epoch 13/50\n",
            "27/27 [==============================] - 0s 1ms/step - loss: 0.4473 - mean_squared_error: 0.4473\n",
            "Epoch 14/50\n",
            "27/27 [==============================] - 0s 1ms/step - loss: 0.4454 - mean_squared_error: 0.4472\n",
            "Epoch 15/50\n",
            "27/27 [==============================] - 0s 1ms/step - loss: 0.4488 - mean_squared_error: 0.4475\n",
            "Epoch 16/50\n",
            "27/27 [==============================] - 0s 1ms/step - loss: 0.4455 - mean_squared_error: 0.4471\n",
            "Epoch 17/50\n",
            "27/27 [==============================] - 0s 1ms/step - loss: 0.4464 - mean_squared_error: 0.4472\n",
            "Epoch 18/50\n",
            "27/27 [==============================] - 0s 1ms/step - loss: 0.4475 - mean_squared_error: 0.4472\n",
            "Epoch 19/50\n",
            "27/27 [==============================] - 0s 1ms/step - loss: 0.4471 - mean_squared_error: 0.4472\n",
            "Epoch 20/50\n",
            "27/27 [==============================] - 0s 1ms/step - loss: 0.4467 - mean_squared_error: 0.4471\n",
            "Epoch 21/50\n",
            "27/27 [==============================] - 0s 1ms/step - loss: 0.4465 - mean_squared_error: 0.4472\n",
            "Epoch 22/50\n",
            "27/27 [==============================] - 0s 1ms/step - loss: 0.4494 - mean_squared_error: 0.4473\n",
            "Epoch 23/50\n",
            "27/27 [==============================] - 0s 1ms/step - loss: 0.4433 - mean_squared_error: 0.4470\n",
            "Epoch 24/50\n",
            "27/27 [==============================] - 0s 1ms/step - loss: 0.4470 - mean_squared_error: 0.4472\n",
            "Epoch 25/50\n",
            "27/27 [==============================] - 0s 1ms/step - loss: 0.4457 - mean_squared_error: 0.4472\n",
            "Epoch 26/50\n",
            "27/27 [==============================] - 0s 1ms/step - loss: 0.4468 - mean_squared_error: 0.4472\n",
            "Epoch 27/50\n",
            "27/27 [==============================] - 0s 1ms/step - loss: 0.4486 - mean_squared_error: 0.4471\n",
            "Epoch 28/50\n",
            "27/27 [==============================] - 0s 1ms/step - loss: 0.4463 - mean_squared_error: 0.4473\n",
            "Epoch 29/50\n",
            "27/27 [==============================] - 0s 1ms/step - loss: 0.4472 - mean_squared_error: 0.4474\n",
            "Epoch 30/50\n",
            "27/27 [==============================] - 0s 2ms/step - loss: 0.4458 - mean_squared_error: 0.4472\n",
            "Epoch 31/50\n",
            "27/27 [==============================] - 0s 1ms/step - loss: 0.4487 - mean_squared_error: 0.4470\n",
            "Epoch 32/50\n",
            "27/27 [==============================] - 0s 2ms/step - loss: 0.4438 - mean_squared_error: 0.4474\n",
            "Epoch 33/50\n",
            "27/27 [==============================] - 0s 1ms/step - loss: 0.4485 - mean_squared_error: 0.4472\n",
            "Epoch 34/50\n",
            "27/27 [==============================] - 0s 1ms/step - loss: 0.4487 - mean_squared_error: 0.4475\n",
            "Epoch 35/50\n",
            "27/27 [==============================] - 0s 1ms/step - loss: 0.4453 - mean_squared_error: 0.4472\n",
            "Epoch 36/50\n",
            "27/27 [==============================] - 0s 1ms/step - loss: 0.4469 - mean_squared_error: 0.4471\n",
            "Epoch 37/50\n",
            "27/27 [==============================] - 0s 1ms/step - loss: 0.4476 - mean_squared_error: 0.4470\n",
            "Epoch 38/50\n",
            "27/27 [==============================] - 0s 2ms/step - loss: 0.4465 - mean_squared_error: 0.4473\n",
            "Epoch 39/50\n",
            "27/27 [==============================] - 0s 1ms/step - loss: 0.4483 - mean_squared_error: 0.4472\n",
            "Epoch 40/50\n",
            "27/27 [==============================] - 0s 1ms/step - loss: 0.4471 - mean_squared_error: 0.4472\n",
            "Epoch 41/50\n",
            "27/27 [==============================] - 0s 1ms/step - loss: 0.4477 - mean_squared_error: 0.4472\n",
            "Epoch 42/50\n",
            "27/27 [==============================] - 0s 1ms/step - loss: 0.4479 - mean_squared_error: 0.4471\n",
            "Epoch 43/50\n",
            "27/27 [==============================] - 0s 1ms/step - loss: 0.4481 - mean_squared_error: 0.4472\n",
            "Epoch 44/50\n",
            "27/27 [==============================] - 0s 1ms/step - loss: 0.4488 - mean_squared_error: 0.4471\n",
            "Epoch 45/50\n",
            "27/27 [==============================] - 0s 1ms/step - loss: 0.4469 - mean_squared_error: 0.4473\n",
            "Epoch 46/50\n",
            "27/27 [==============================] - 0s 1ms/step - loss: 0.4481 - mean_squared_error: 0.4472\n",
            "Epoch 47/50\n",
            "27/27 [==============================] - 0s 1ms/step - loss: 0.4443 - mean_squared_error: 0.4473\n",
            "Epoch 48/50\n",
            "27/27 [==============================] - 0s 1ms/step - loss: 0.4482 - mean_squared_error: 0.4471\n",
            "Epoch 49/50\n",
            "27/27 [==============================] - 0s 1ms/step - loss: 0.4503 - mean_squared_error: 0.4472\n",
            "Epoch 50/50\n",
            "27/27 [==============================] - 0s 1ms/step - loss: 0.4482 - mean_squared_error: 0.4471\n"
          ],
          "name": "stdout"
        },
        {
          "output_type": "display_data",
          "data": {
            "image/png": "[encoded data removed]",
            "text/plain": [
              "<Figure size 432x288 with 1 Axes>"
            ]
          },
          "metadata": {
            "tags": []
          }
        },
        {
          "output_type": "stream",
          "text": [
            "\n",
            " Evaluate the linear regression model against the test set:\n",
            "7/7 [==============================] - 0s 1ms/step - loss: 0.4502 - mean_squared_error: 0.4463\n"
          ],
          "name": "stdout"
        },
        {
          "output_type": "execute_result",
          "data": {
            "text/plain": [
              "[0.45016786456108093, 0.44629010558128357]"
            ]
          },
          "metadata": {
            "tags": []
          },
          "execution_count": 14
        }
      ]
    }
  ]
}