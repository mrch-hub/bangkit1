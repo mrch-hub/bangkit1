{
  "nbformat": 4,
  "nbformat_minor": 0,
  "metadata": {
    "colab": {
      "name": "SolarPrediction.ipynb",
      "provenance": [],
      "include_colab_link": true
    },
    "kernelspec": {
      "name": "python3",
      "display_name": "Python 3"
    }
  },
  "cells": [
    {
      "cell_type": "markdown",
      "metadata": {
        "id": "view-in-github",
        "colab_type": "text"
      },
      "source": [
        "<a href=\"https://colab.research.google.com/github/mrch-hub/bangkit1/blob/test_feature_3/SolarPrediction.ipynb\" target=\"_parent\"><img src=\"https://colab.research.google.com/assets/colab-badge.svg\" alt=\"Open In Colab\"/></a>"
      ]
    },
    {
      "cell_type": "markdown",
      "metadata": {
        "id": "f5bF6G8ff6Zq",
        "colab_type": "text"
      },
      "source": [
        "##Solar radiation intensity prediction using TensorFlow"
      ]
    },
    {
      "cell_type": "code",
      "metadata": {
        "id": "C6pwJrUZ9rYW",
        "colab_type": "code",
        "outputId": "6a289da9-924b-4a89-fdb3-eb987e32fa59",
        "colab": {
          "base_uri": "https://localhost:8080/",
          "height": 55
        }
      },
      "source": [
        "\"\"\"A python code for predicting solar radiation\n",
        "intensity using TensorFlow. Created for \n",
        "5th Bangk!t assignment.\n",
        "Collaborators: Marcellinus Chrisnada, Muhammad\n",
        "Harits Hafidza, Mochammad Randy Caesario H.\"\"\""
      ],
      "execution_count": 0,
      "outputs": [
        {
          "output_type": "execute_result",
          "data": {
            "text/plain": [
              "'A python code for predicting solar radiation\\nintensity using TensorFlow. Created for \\n5th Bangk!t assignment.\\nCollaborators: Marcellinus Chrisnada, Muhammad\\nHarits Hafidza, Mochammad Randy Caesario H.'"
            ]
          },
          "metadata": {
            "tags": []
          },
          "execution_count": 40
        }
      ]
    },
    {
      "cell_type": "markdown",
      "metadata": {
        "id": "yb2tFywNgWIn",
        "colab_type": "text"
      },
      "source": [
        "##Initialization"
      ]
    },
    {
      "cell_type": "code",
      "metadata": {
        "id": "d8ekWJYDbTzp",
        "colab_type": "code",
        "cellView": "form",
        "colab": {}
      },
      "source": [
        "#@title Run on TensorFlow 2.x\n",
        "%tensorflow_version 2.x\n",
        "from __future__ import absolute_import, division, print_function, unicode_literals"
      ],
      "execution_count": 0,
      "outputs": []
    },
    {
      "cell_type": "code",
      "metadata": {
        "id": "oPY5vbLWXmKN",
        "colab_type": "code",
        "cellView": "both",
        "outputId": "c6e03b2e-c759-4bc5-a900-930dc69efc56",
        "colab": {
          "base_uri": "https://localhost:8080/",
          "height": 34
        }
      },
      "source": [
        "#@title Import relevant modules\n",
        "import numpy as np\n",
        "import pandas as pd\n",
        "import tensorflow as tf\n",
        "from tensorflow.keras import layers\n",
        "from matplotlib import pyplot as plt\n",
        "import seaborn as sns\n",
        "\n",
        "# Adjust the granularity of reporting. \n",
        "pd.options.display.max_rows = 10\n",
        "pd.options.display.float_format = \"{:.1f}\".format\n",
        "\n",
        "print(\"Imported modules.\")"
      ],
      "execution_count": 26,
      "outputs": [
        {
          "output_type": "stream",
          "text": [
            "Imported modules.\n"
          ],
          "name": "stdout"
        }
      ]
    },
    {
      "cell_type": "code",
      "metadata": {
        "id": "oRlH8pQwbSpE",
        "colab_type": "code",
        "outputId": "9892a3db-f2b2-4a19-a5f6-71e3bf84d946",
        "colab": {
          "base_uri": "https://localhost:8080/",
          "height": 419
        }
      },
      "source": [
        "#@title Load dataset\n",
        "data = pd.read_csv('https://raw.githubusercontent.com/mrch-hub/bangkit1/master/SolarPrediction.csv')\n",
        "data = data.reindex(np.random.permutation(data.index)) # shuffle dataset\n",
        "data = data.rename(columns={'WindDirection(Degrees)':'WindDirection'})\n",
        "data.head(15)"
      ],
      "execution_count": 27,
      "outputs": [
        {
          "output_type": "execute_result",
          "data": {
            "text/html": [
              "<div>\n",
              "<style scoped>\n",
              "    .dataframe tbody tr th:only-of-type {\n",
              "        vertical-align: middle;\n",
              "    }\n",
              "\n",
              "    .dataframe tbody tr th {\n",
              "        vertical-align: top;\n",
              "    }\n",
              "\n",
              "    .dataframe thead th {\n",
              "        text-align: right;\n",
              "    }\n",
              "</style>\n",
              "<table border=\"1\" class=\"dataframe\">\n",
              "  <thead>\n",
              "    <tr style=\"text-align: right;\">\n",
              "      <th></th>\n",
              "      <th>UNIXTime</th>\n",
              "      <th>Data</th>\n",
              "      <th>Time</th>\n",
              "      <th>Radiation</th>\n",
              "      <th>Temperature</th>\n",
              "      <th>Pressure</th>\n",
              "      <th>Humidity</th>\n",
              "      <th>WindDirection</th>\n",
              "      <th>Speed</th>\n",
              "      <th>TimeSunRise</th>\n",
              "      <th>TimeSunSet</th>\n",
              "    </tr>\n",
              "  </thead>\n",
              "  <tbody>\n",
              "    <tr>\n",
              "      <th>20379</th>\n",
              "      <td>1479238505</td>\n",
              "      <td>11/15/2016 12:00:00 AM</td>\n",
              "      <td>09:35:05</td>\n",
              "      <td>297.9</td>\n",
              "      <td>53</td>\n",
              "      <td>30.5</td>\n",
              "      <td>91</td>\n",
              "      <td>47.0</td>\n",
              "      <td>5.6</td>\n",
              "      <td>06:31:00</td>\n",
              "      <td>17:43:00</td>\n",
              "    </tr>\n",
              "    <tr>\n",
              "      <th>10305</th>\n",
              "      <td>1477125020</td>\n",
              "      <td>10/21/2016 12:00:00 AM</td>\n",
              "      <td>22:30:20</td>\n",
              "      <td>1.2</td>\n",
              "      <td>48</td>\n",
              "      <td>30.4</td>\n",
              "      <td>101</td>\n",
              "      <td>136.6</td>\n",
              "      <td>6.8</td>\n",
              "      <td>06:19:00</td>\n",
              "      <td>17:55:00</td>\n",
              "    </tr>\n",
              "    <tr>\n",
              "      <th>24171</th>\n",
              "      <td>1478100019</td>\n",
              "      <td>11/2/2016 12:00:00 AM</td>\n",
              "      <td>05:20:19</td>\n",
              "      <td>1.2</td>\n",
              "      <td>41</td>\n",
              "      <td>30.4</td>\n",
              "      <td>62</td>\n",
              "      <td>184.5</td>\n",
              "      <td>7.9</td>\n",
              "      <td>06:24:00</td>\n",
              "      <td>17:48:00</td>\n",
              "    </tr>\n",
              "    <tr>\n",
              "      <th>25812</th>\n",
              "      <td>1482876352</td>\n",
              "      <td>12/27/2016 12:00:00 AM</td>\n",
              "      <td>12:05:52</td>\n",
              "      <td>865.2</td>\n",
              "      <td>59</td>\n",
              "      <td>30.4</td>\n",
              "      <td>20</td>\n",
              "      <td>10.8</td>\n",
              "      <td>3.4</td>\n",
              "      <td>06:56:00</td>\n",
              "      <td>17:52:00</td>\n",
              "    </tr>\n",
              "    <tr>\n",
              "      <th>11082</th>\n",
              "      <td>1476891918</td>\n",
              "      <td>10/19/2016 12:00:00 AM</td>\n",
              "      <td>05:45:18</td>\n",
              "      <td>1.2</td>\n",
              "      <td>49</td>\n",
              "      <td>30.4</td>\n",
              "      <td>100</td>\n",
              "      <td>177.2</td>\n",
              "      <td>6.8</td>\n",
              "      <td>06:19:00</td>\n",
              "      <td>17:56:00</td>\n",
              "    </tr>\n",
              "    <tr>\n",
              "      <th>...</th>\n",
              "      <td>...</td>\n",
              "      <td>...</td>\n",
              "      <td>...</td>\n",
              "      <td>...</td>\n",
              "      <td>...</td>\n",
              "      <td>...</td>\n",
              "      <td>...</td>\n",
              "      <td>...</td>\n",
              "      <td>...</td>\n",
              "      <td>...</td>\n",
              "      <td>...</td>\n",
              "    </tr>\n",
              "    <tr>\n",
              "      <th>18679</th>\n",
              "      <td>1479749102</td>\n",
              "      <td>11/21/2016 12:00:00 AM</td>\n",
              "      <td>07:25:02</td>\n",
              "      <td>89.3</td>\n",
              "      <td>44</td>\n",
              "      <td>30.4</td>\n",
              "      <td>87</td>\n",
              "      <td>154.4</td>\n",
              "      <td>7.9</td>\n",
              "      <td>06:35:00</td>\n",
              "      <td>17:42:00</td>\n",
              "    </tr>\n",
              "    <tr>\n",
              "      <th>16298</th>\n",
              "      <td>1480464301</td>\n",
              "      <td>11/29/2016 12:00:00 AM</td>\n",
              "      <td>14:05:01</td>\n",
              "      <td>309.1</td>\n",
              "      <td>49</td>\n",
              "      <td>30.4</td>\n",
              "      <td>95</td>\n",
              "      <td>70.4</td>\n",
              "      <td>11.2</td>\n",
              "      <td>06:40:00</td>\n",
              "      <td>17:42:00</td>\n",
              "    </tr>\n",
              "    <tr>\n",
              "      <th>7032</th>\n",
              "      <td>1472852708</td>\n",
              "      <td>9/2/2016 12:00:00 AM</td>\n",
              "      <td>11:45:08</td>\n",
              "      <td>1046.7</td>\n",
              "      <td>64</td>\n",
              "      <td>30.5</td>\n",
              "      <td>50</td>\n",
              "      <td>146.7</td>\n",
              "      <td>5.6</td>\n",
              "      <td>06:07:00</td>\n",
              "      <td>18:37:00</td>\n",
              "    </tr>\n",
              "    <tr>\n",
              "      <th>16321</th>\n",
              "      <td>1480457402</td>\n",
              "      <td>11/29/2016 12:00:00 AM</td>\n",
              "      <td>12:10:02</td>\n",
              "      <td>692.1</td>\n",
              "      <td>48</td>\n",
              "      <td>30.4</td>\n",
              "      <td>99</td>\n",
              "      <td>76.9</td>\n",
              "      <td>4.5</td>\n",
              "      <td>06:40:00</td>\n",
              "      <td>17:42:00</td>\n",
              "    </tr>\n",
              "    <tr>\n",
              "      <th>10061</th>\n",
              "      <td>1477198517</td>\n",
              "      <td>10/22/2016 12:00:00 AM</td>\n",
              "      <td>18:55:17</td>\n",
              "      <td>1.2</td>\n",
              "      <td>47</td>\n",
              "      <td>30.4</td>\n",
              "      <td>97</td>\n",
              "      <td>123.6</td>\n",
              "      <td>10.1</td>\n",
              "      <td>06:20:00</td>\n",
              "      <td>17:54:00</td>\n",
              "    </tr>\n",
              "  </tbody>\n",
              "</table>\n",
              "<p>15 rows × 11 columns</p>\n",
              "</div>"
            ],
            "text/plain": [
              "         UNIXTime                    Data  ... TimeSunRise  TimeSunSet\n",
              "20379  1479238505  11/15/2016 12:00:00 AM  ...    06:31:00    17:43:00\n",
              "10305  1477125020  10/21/2016 12:00:00 AM  ...    06:19:00    17:55:00\n",
              "24171  1478100019   11/2/2016 12:00:00 AM  ...    06:24:00    17:48:00\n",
              "25812  1482876352  12/27/2016 12:00:00 AM  ...    06:56:00    17:52:00\n",
              "11082  1476891918  10/19/2016 12:00:00 AM  ...    06:19:00    17:56:00\n",
              "...           ...                     ...  ...         ...         ...\n",
              "18679  1479749102  11/21/2016 12:00:00 AM  ...    06:35:00    17:42:00\n",
              "16298  1480464301  11/29/2016 12:00:00 AM  ...    06:40:00    17:42:00\n",
              "7032   1472852708    9/2/2016 12:00:00 AM  ...    06:07:00    18:37:00\n",
              "16321  1480457402  11/29/2016 12:00:00 AM  ...    06:40:00    17:42:00\n",
              "10061  1477198517  10/22/2016 12:00:00 AM  ...    06:20:00    17:54:00\n",
              "\n",
              "[15 rows x 11 columns]"
            ]
          },
          "metadata": {
            "tags": []
          },
          "execution_count": 27
        }
      ]
    },
    {
      "cell_type": "markdown",
      "metadata": {
        "id": "c28PYOGaauV0",
        "colab_type": "text"
      },
      "source": [
        "##Adding some features to the dataset"
      ]
    },
    {
      "cell_type": "code",
      "metadata": {
        "id": "ymGkD9ZPaxro",
        "colab_type": "code",
        "colab": {}
      },
      "source": [
        "#@title Adding feature is_daylight that define measurement time is either daylight (1) or nighttime (0)\n",
        "is_daylight = [data['Time'].values[x] > data['TimeSunRise'].values[x] and data['Time'].values[x] < data['TimeSunSet'].values[x] for x in range(len(data))]\n",
        "data['is_daylight'] = is_daylight\n",
        "data['is_daylight'] = data['is_daylight'].astype('float')"
      ],
      "execution_count": 0,
      "outputs": []
    },
    {
      "cell_type": "code",
      "metadata": {
        "id": "TCCuKjCwBH1M",
        "colab_type": "code",
        "colab": {}
      },
      "source": [
        "#@title Convert UNIXTime into hour, day, month format\n",
        "data['Time_Convert'] = pd.to_datetime(data['Time'], format = '%H:%M:%S')\n",
        "\n",
        "data['Hour'] = pd.to_datetime(data['Time_Convert'], format = '%H:%M:%S').dt.hour # Get the hour of the day\n",
        "\n",
        "data['Day'] = pd.to_datetime(data['UNIXTime'].astype(int), unit = 's').dt.day # Get the day of the month\n",
        "\n",
        "data['Month'] = pd.to_datetime(data['UNIXTime'].astype(int), unit = 's').dt.month # Get the month of the year"
      ],
      "execution_count": 0,
      "outputs": []
    },
    {
      "cell_type": "markdown",
      "metadata": {
        "id": "yQeavaKNayAj",
        "colab_type": "text"
      },
      "source": [
        "##Data Preconditioning"
      ]
    },
    {
      "cell_type": "code",
      "metadata": {
        "id": "lbKi6_Xcbn6M",
        "colab_type": "code",
        "outputId": "41cbd747-0fea-4f3f-e7e0-02a42b001573",
        "colab": {
          "base_uri": "https://localhost:8080/",
          "height": 51
        }
      },
      "source": [
        "#@title Splitting data to train set and test set\n",
        "test_split = 0.2 # percentage of train set to be considered as test set\n",
        "data_test = data[:][0:round((len(data)*test_split))]\n",
        "data_train = data[:][round((len(data)*test_split)):]\n",
        "print('train set length:', str(len(data_train)), '\\ntest set length:', \n",
        "      str(len(data_test)))"
      ],
      "execution_count": 30,
      "outputs": [
        {
          "output_type": "stream",
          "text": [
            "train set length: 26149 \n",
            "test set length: 6537\n"
          ],
          "name": "stdout"
        }
      ]
    },
    {
      "cell_type": "code",
      "metadata": {
        "id": "5v5LYeP_dECa",
        "colab_type": "code",
        "outputId": "62bb9532-43b8-4fda-db4e-0a57da0bb662",
        "colab": {
          "base_uri": "https://localhost:8080/",
          "height": 34
        }
      },
      "source": [
        "#@title Normalize values \n",
        "\n",
        "# Calculate the Z-scores of each column in the training set:\n",
        "data_train_mean = data_train.select_dtypes(include=['float64', 'int64']).mean()\n",
        "data_train_std = data_train.select_dtypes(include=['float64', 'int64']).std()\n",
        "data_train_norm = (data_train.select_dtypes(include=['float64', 'int64']) \n",
        "                   - data_train_mean)/data_train_std\n",
        "\n",
        "# Calculate the Z-scores of each column in the test set.\n",
        "data_test_mean = data_test.select_dtypes(include=['float64', 'int64']).mean()\n",
        "data_test_std = data_test.select_dtypes(include=['float64', 'int64']).std()\n",
        "data_test_norm = (data_test.select_dtypes(include=['float64', 'int64'])\n",
        "                  - data_test_mean)/data_test_std\n",
        "\n",
        "print(\"Normalized the values.\")"
      ],
      "execution_count": 31,
      "outputs": [
        {
          "output_type": "stream",
          "text": [
            "Normalized the values.\n"
          ],
          "name": "stdout"
        }
      ]
    },
    {
      "cell_type": "markdown",
      "metadata": {
        "id": "LKdhPgg5eRFI",
        "colab_type": "text"
      },
      "source": [
        "## Represent data\n",
        "\n",
        "The following code cell creates a feature layer containing 6 features:\n",
        "\n",
        "* `Temperature`\n",
        "* `Pressure`\n",
        "* `is_daylight`\n",
        "* `Humidity x Wind Cross Feature`\n",
        "* `Hour x Month Cross Feature`\n",
        "* `Day`"
      ]
    },
    {
      "cell_type": "code",
      "metadata": {
        "id": "6bDp6l3KeEgb",
        "colab_type": "code",
        "colab": {}
      },
      "source": [
        "# Create empty feature column list\n",
        "feature_columns = []\n",
        "\n",
        "# Represent Temperature as a floating-point value.\n",
        "temperature_numeric_column = tf.feature_column.numeric_column(\"Temperature\")\n",
        "feature_columns.append(temperature_numeric_column)\n",
        "\n",
        "# Represent Pressure as a floating-point value.\n",
        "pressure_numeric_column = tf.feature_column.numeric_column(\"Pressure\")\n",
        "feature_columns.append(pressure_numeric_column)\n",
        "\n",
        "# Represent Humidity as a floating-point value.\n",
        "humidity_numeric_column = tf.feature_column.numeric_column(\"Humidity\")\n",
        "humidity_boundaries = list(np.arange(int(min(data_train['Humidity'])), int(max(data_train['Humidity']))))\n",
        "humidity = tf.feature_column.bucketized_column(humidity_numeric_column, humidity_boundaries)\n",
        "\n",
        "# Represent Wind as a floating-point value.\n",
        "wind_numeric_column = tf.feature_column.numeric_column(\"WindDirection\")\n",
        "wind_boundaries = list(np.arange(int(min(data_train['WindDirection'])), int(max(data_train['WindDirection']))))\n",
        "wind = tf.feature_column.bucketized_column(wind_numeric_column, wind_boundaries)\n",
        "\n",
        "# Represent Daylight as a floating-point value.\n",
        "daylight = tf.feature_column.numeric_column(\"is_daylight\")\n",
        "feature_columns.append(daylight)\n",
        "\n",
        "# Represent Hour as a floating-point value.\n",
        "day_numeric_column = tf.feature_column.numeric_column(\"Day\")\n",
        "feature_columns.append(day_numeric_column)\n",
        "\n",
        "# Represent Hour as a floating-point value.\n",
        "hour_numeric_column = tf.feature_column.numeric_column(\"Hour\")\n",
        "hour_boundaries = list(np.arange(int(min(data_train['Hour'])), int(max(data_train['Hour']))))\n",
        "hour = tf.feature_column.bucketized_column(hour_numeric_column, hour_boundaries)\n",
        "\n",
        "# Represent Hour as a floating-point value.\n",
        "month_numeric_column = tf.feature_column.numeric_column(\"Month\")\n",
        "month_boundaries = list(np.arange(int(min(data_train['Month'])), int(max(data_train['Month']))))\n",
        "month = tf.feature_column.bucketized_column(month_numeric_column, month_boundaries)\n",
        "\n",
        "# Create a feature cross between Humidity and Wind\n",
        "humidity_x_wind = tf.feature_column.crossed_column([humidity, wind], hash_bucket_size=100)\n",
        "crossed_feature_HW = tf.feature_column.indicator_column(humidity_x_wind)\n",
        "feature_columns.append(crossed_feature_HW)\n",
        "\n",
        "# Create a feature cross between Hour and Month\n",
        "hour_x_month = tf.feature_column.crossed_column([hour, month], hash_bucket_size=100)\n",
        "crossed_feature_HM = tf.feature_column.indicator_column(hour_x_month)\n",
        "feature_columns.append(crossed_feature_HM)\n",
        "\n",
        "# Convert the list of feature columns into a layer that will later be fed into\n",
        "# the model. \n",
        "my_feature_layer = tf.keras.layers.DenseFeatures(feature_columns)"
      ],
      "execution_count": 0,
      "outputs": []
    },
    {
      "cell_type": "markdown",
      "metadata": {
        "id": "MMAji1PSfPCt",
        "colab_type": "text"
      },
      "source": [
        "## Build a linear regression model"
      ]
    },
    {
      "cell_type": "code",
      "metadata": {
        "id": "vyOjMo-7ei25",
        "colab_type": "code",
        "outputId": "829ab3e5-7e51-4bf4-d951-13b0852885a4",
        "colab": {
          "base_uri": "https://localhost:8080/",
          "height": 34
        }
      },
      "source": [
        "#@title Define plotting function|\n",
        "\n",
        "def plot_the_loss_curve(epochs, mse_training, mse_validation):\n",
        "  \"\"\"Plot a curve of loss vs. epoch.\"\"\"\n",
        "\n",
        "  plt.figure()\n",
        "  plt.xlabel(\"Epoch\")\n",
        "  plt.ylabel(\"Root Mean Squared Error\")\n",
        "\n",
        "  plt.plot(epochs[1:], mse_training[1:], label=\"Training Loss\")\n",
        "  plt.plot(epochs[1:], mse_validation[1:], label=\"Validation Loss\")\n",
        "  plt.legend()\n",
        "\n",
        "  merged_mse_lists = mse_training[1:] + mse_validation[1:]\n",
        "  highest_loss = max(merged_mse_lists)\n",
        "  lowest_loss = min(merged_mse_lists)\n",
        "  delta = highest_loss - lowest_loss\n",
        "  print(delta)\n",
        "\n",
        "  top_of_y_axis = highest_loss + (delta * 0.05)\n",
        "  bottom_of_y_axis = lowest_loss - (delta * 0.05)\n",
        "  plt.ylim([bottom_of_y_axis, top_of_y_axis])\n",
        "  plt.show()  \n",
        "\n",
        "print(\"Defined the plot_the_loss_curve function.\")"
      ],
      "execution_count": 49,
      "outputs": [
        {
          "output_type": "stream",
          "text": [
            "Defined the plot_the_loss_curve function.\n"
          ],
          "name": "stdout"
        }
      ]
    },
    {
      "cell_type": "code",
      "metadata": {
        "id": "gEsYOPPhetG3",
        "colab_type": "code",
        "outputId": "5136d1b9-898b-40e2-e2ba-2a61a7d4528a",
        "colab": {
          "base_uri": "https://localhost:8080/",
          "height": 34
        }
      },
      "source": [
        "#@title Define functions to create and train a linear regression model\n",
        "def create_model(my_learning_rate, feature_layer):\n",
        "  \"\"\"Create and compile a simple linear regression model.\"\"\"\n",
        "  # Most simple tf.keras models are sequential.\n",
        "  model = tf.keras.models.Sequential()\n",
        "\n",
        "  # Add the layer containing the feature columns to the model.\n",
        "  model.add(feature_layer)\n",
        "\n",
        "  # Add one linear layer to the model to yield a simple linear regressor.\n",
        "  model.add(tf.keras.layers.Dense(units=1, input_shape=(1,)))\n",
        "\n",
        "  # Construct the layers into a model that TensorFlow can execute.\n",
        "  model.compile(optimizer=tf.keras.optimizers.RMSprop(lr=my_learning_rate),\n",
        "                loss=\"mean_squared_error\",\n",
        "                metrics=[tf.keras.metrics.RootMeanSquaredError()])\n",
        "\n",
        "  return model           \n",
        "\n",
        "\n",
        "def train_model(model, dataset, epochs, batch_size, label_name,validation_split):\n",
        "  \"\"\"Feed a dataset into the model in order to train it.\"\"\"\n",
        "\n",
        "  # Split the dataset into features and label.\n",
        "  features = {name:np.array(value) for name, value in dataset.items()}\n",
        "  label = np.array(features.pop(label_name))\n",
        "  history = model.fit(x=features, y=label, batch_size=batch_size,\n",
        "                      epochs=epochs, validation_split=validation_split, \n",
        "                      shuffle=True)\n",
        "\n",
        "  # Get details that will be useful for plotting the loss curve.\n",
        "  epochs = history.epoch\n",
        "  hist = pd.DataFrame(history.history)\n",
        "  rmse = hist[\"root_mean_squared_error\"]\n",
        "\n",
        "  return epochs, rmse, history.history   \n",
        "\n",
        "print(\"Defined the create_model and train_model functions.\")"
      ],
      "execution_count": 50,
      "outputs": [
        {
          "output_type": "stream",
          "text": [
            "Defined the create_model and train_model functions.\n"
          ],
          "name": "stdout"
        }
      ]
    },
    {
      "cell_type": "code",
      "metadata": {
        "id": "wAJuzbBmexB4",
        "colab_type": "code",
        "cellView": "both",
        "outputId": "809c8fb1-e1f6-4114-e42e-d725fa0d2fdb",
        "colab": {
          "base_uri": "https://localhost:8080/",
          "height": 1000
        }
      },
      "source": [
        "#@title Train the model as linear regression\n",
        "# The following variables are the hyperparameters.\n",
        "learning_rate = 0.01\n",
        "epochs = 50\n",
        "batch_size = 1000\n",
        "validation_split = 0.2\n",
        "label_name = \"Radiation\"\n",
        " \n",
        "\n",
        "# Establish the model's topography.\n",
        "my_model = create_model(learning_rate, my_feature_layer)\n",
        "\n",
        "# Train the model on the normalized training set.\n",
        "epochs, mse, history = train_model(my_model, data_train_norm, epochs, batch_size, label_name, \n",
        "                          validation_split=validation_split)\n",
        "plot_the_loss_curve(epochs, history[\"root_mean_squared_error\"], \n",
        "                    history[\"val_root_mean_squared_error\"])\n",
        "\n",
        "test_features = {name:np.array(value) for name, value in data_test_norm.items()}\n",
        "test_label = np.array(test_features.pop(label_name)) # isolate the label\n",
        "print(\"\\n Evaluate the linear regression model against the test set:\")\n",
        "my_model.evaluate(x = test_features, y = test_label, batch_size=batch_size)"
      ],
      "execution_count": 51,
      "outputs": [
        {
          "output_type": "stream",
          "text": [
            "Epoch 1/50\n",
            "WARNING:tensorflow:Layer dense_features_7 is casting an input tensor from dtype float64 to the layer's dtype of float32, which is new behavior in TensorFlow 2.  The layer has dtype float32 because it's dtype defaults to floatx.\n",
            "\n",
            "If you intended to run this layer in float32, you can safely ignore this warning. If in doubt, this warning is likely only an issue if you are porting a TensorFlow 1.X model to TensorFlow 2.\n",
            "\n",
            "To change all layers to have dtype float64 by default, call `tf.keras.backend.set_floatx('float64')`. To change just this layer, pass dtype='float64' to the layer constructor. If you are the author of this layer, you can disable autocasting by passing autocast=False to the base Layer constructor.\n",
            "\n",
            "21/21 [==============================] - 0s 18ms/step - loss: 0.6430 - root_mean_squared_error: 0.8022 - val_loss: 0.4302 - val_root_mean_squared_error: 0.6584\n",
            "Epoch 2/50\n",
            "21/21 [==============================] - 0s 6ms/step - loss: 0.3997 - root_mean_squared_error: 0.6322 - val_loss: 0.3463 - val_root_mean_squared_error: 0.5919\n",
            "Epoch 3/50\n",
            "21/21 [==============================] - 0s 6ms/step - loss: 0.3506 - root_mean_squared_error: 0.5921 - val_loss: 0.3229 - val_root_mean_squared_error: 0.5719\n",
            "Epoch 4/50\n",
            "21/21 [==============================] - 0s 6ms/step - loss: 0.3400 - root_mean_squared_error: 0.5831 - val_loss: 0.3236 - val_root_mean_squared_error: 0.5723\n",
            "Epoch 5/50\n",
            "21/21 [==============================] - 0s 7ms/step - loss: 0.3390 - root_mean_squared_error: 0.5822 - val_loss: 0.3200 - val_root_mean_squared_error: 0.5690\n",
            "Epoch 6/50\n",
            "21/21 [==============================] - 0s 6ms/step - loss: 0.3390 - root_mean_squared_error: 0.5822 - val_loss: 0.3243 - val_root_mean_squared_error: 0.5729\n",
            "Epoch 7/50\n",
            "21/21 [==============================] - 0s 6ms/step - loss: 0.3395 - root_mean_squared_error: 0.5826 - val_loss: 0.3201 - val_root_mean_squared_error: 0.5694\n",
            "Epoch 8/50\n",
            "21/21 [==============================] - 0s 7ms/step - loss: 0.3389 - root_mean_squared_error: 0.5821 - val_loss: 0.3200 - val_root_mean_squared_error: 0.5693\n",
            "Epoch 9/50\n",
            "21/21 [==============================] - 0s 6ms/step - loss: 0.3392 - root_mean_squared_error: 0.5824 - val_loss: 0.3206 - val_root_mean_squared_error: 0.5697\n",
            "Epoch 10/50\n",
            "21/21 [==============================] - 0s 6ms/step - loss: 0.3394 - root_mean_squared_error: 0.5825 - val_loss: 0.3203 - val_root_mean_squared_error: 0.5694\n",
            "Epoch 11/50\n",
            "21/21 [==============================] - 0s 7ms/step - loss: 0.3391 - root_mean_squared_error: 0.5824 - val_loss: 0.3201 - val_root_mean_squared_error: 0.5691\n",
            "Epoch 12/50\n",
            "21/21 [==============================] - 0s 7ms/step - loss: 0.3395 - root_mean_squared_error: 0.5827 - val_loss: 0.3203 - val_root_mean_squared_error: 0.5695\n",
            "Epoch 13/50\n",
            "21/21 [==============================] - 0s 6ms/step - loss: 0.3392 - root_mean_squared_error: 0.5825 - val_loss: 0.3203 - val_root_mean_squared_error: 0.5694\n",
            "Epoch 14/50\n",
            "21/21 [==============================] - 0s 6ms/step - loss: 0.3395 - root_mean_squared_error: 0.5825 - val_loss: 0.3220 - val_root_mean_squared_error: 0.5709\n",
            "Epoch 15/50\n",
            "21/21 [==============================] - 0s 8ms/step - loss: 0.3391 - root_mean_squared_error: 0.5823 - val_loss: 0.3207 - val_root_mean_squared_error: 0.5697\n",
            "Epoch 16/50\n",
            "21/21 [==============================] - 0s 7ms/step - loss: 0.3393 - root_mean_squared_error: 0.5825 - val_loss: 0.3202 - val_root_mean_squared_error: 0.5694\n",
            "Epoch 17/50\n",
            "21/21 [==============================] - 0s 7ms/step - loss: 0.3390 - root_mean_squared_error: 0.5823 - val_loss: 0.3219 - val_root_mean_squared_error: 0.5709\n",
            "Epoch 18/50\n",
            "21/21 [==============================] - 0s 7ms/step - loss: 0.3391 - root_mean_squared_error: 0.5823 - val_loss: 0.3197 - val_root_mean_squared_error: 0.5691\n",
            "Epoch 19/50\n",
            "21/21 [==============================] - 0s 7ms/step - loss: 0.3392 - root_mean_squared_error: 0.5825 - val_loss: 0.3205 - val_root_mean_squared_error: 0.5696\n",
            "Epoch 20/50\n",
            "21/21 [==============================] - 0s 6ms/step - loss: 0.3392 - root_mean_squared_error: 0.5824 - val_loss: 0.3202 - val_root_mean_squared_error: 0.5695\n",
            "Epoch 21/50\n",
            "21/21 [==============================] - 0s 6ms/step - loss: 0.3391 - root_mean_squared_error: 0.5824 - val_loss: 0.3216 - val_root_mean_squared_error: 0.5705\n",
            "Epoch 22/50\n",
            "21/21 [==============================] - 0s 6ms/step - loss: 0.3391 - root_mean_squared_error: 0.5823 - val_loss: 0.3228 - val_root_mean_squared_error: 0.5714\n",
            "Epoch 23/50\n",
            "21/21 [==============================] - 0s 7ms/step - loss: 0.3389 - root_mean_squared_error: 0.5822 - val_loss: 0.3202 - val_root_mean_squared_error: 0.5695\n",
            "Epoch 24/50\n",
            "21/21 [==============================] - 0s 7ms/step - loss: 0.3393 - root_mean_squared_error: 0.5825 - val_loss: 0.3211 - val_root_mean_squared_error: 0.5701\n",
            "Epoch 25/50\n",
            "21/21 [==============================] - 0s 7ms/step - loss: 0.3395 - root_mean_squared_error: 0.5826 - val_loss: 0.3210 - val_root_mean_squared_error: 0.5700\n",
            "Epoch 26/50\n",
            "21/21 [==============================] - 0s 6ms/step - loss: 0.3394 - root_mean_squared_error: 0.5826 - val_loss: 0.3220 - val_root_mean_squared_error: 0.5707\n",
            "Epoch 27/50\n",
            "21/21 [==============================] - 0s 6ms/step - loss: 0.3391 - root_mean_squared_error: 0.5823 - val_loss: 0.3200 - val_root_mean_squared_error: 0.5692\n",
            "Epoch 28/50\n",
            "21/21 [==============================] - 0s 7ms/step - loss: 0.3392 - root_mean_squared_error: 0.5823 - val_loss: 0.3225 - val_root_mean_squared_error: 0.5710\n",
            "Epoch 29/50\n",
            "21/21 [==============================] - 0s 7ms/step - loss: 0.3389 - root_mean_squared_error: 0.5823 - val_loss: 0.3203 - val_root_mean_squared_error: 0.5695\n",
            "Epoch 30/50\n",
            "21/21 [==============================] - 0s 8ms/step - loss: 0.3392 - root_mean_squared_error: 0.5823 - val_loss: 0.3211 - val_root_mean_squared_error: 0.5701\n",
            "Epoch 31/50\n",
            "21/21 [==============================] - 0s 6ms/step - loss: 0.3392 - root_mean_squared_error: 0.5824 - val_loss: 0.3232 - val_root_mean_squared_error: 0.5720\n",
            "Epoch 32/50\n",
            "21/21 [==============================] - 0s 7ms/step - loss: 0.3394 - root_mean_squared_error: 0.5826 - val_loss: 0.3215 - val_root_mean_squared_error: 0.5705\n",
            "Epoch 33/50\n",
            "21/21 [==============================] - 0s 6ms/step - loss: 0.3391 - root_mean_squared_error: 0.5822 - val_loss: 0.3208 - val_root_mean_squared_error: 0.5696\n",
            "Epoch 34/50\n",
            "21/21 [==============================] - 0s 6ms/step - loss: 0.3393 - root_mean_squared_error: 0.5824 - val_loss: 0.3218 - val_root_mean_squared_error: 0.5707\n",
            "Epoch 35/50\n",
            "21/21 [==============================] - 0s 6ms/step - loss: 0.3393 - root_mean_squared_error: 0.5824 - val_loss: 0.3231 - val_root_mean_squared_error: 0.5718\n",
            "Epoch 36/50\n",
            "21/21 [==============================] - 0s 7ms/step - loss: 0.3391 - root_mean_squared_error: 0.5823 - val_loss: 0.3213 - val_root_mean_squared_error: 0.5704\n",
            "Epoch 37/50\n",
            "21/21 [==============================] - 0s 7ms/step - loss: 0.3393 - root_mean_squared_error: 0.5825 - val_loss: 0.3227 - val_root_mean_squared_error: 0.5716\n",
            "Epoch 38/50\n",
            "21/21 [==============================] - 0s 6ms/step - loss: 0.3389 - root_mean_squared_error: 0.5822 - val_loss: 0.3205 - val_root_mean_squared_error: 0.5694\n",
            "Epoch 39/50\n",
            "21/21 [==============================] - 0s 6ms/step - loss: 0.3396 - root_mean_squared_error: 0.5827 - val_loss: 0.3208 - val_root_mean_squared_error: 0.5697\n",
            "Epoch 40/50\n",
            "21/21 [==============================] - 0s 7ms/step - loss: 0.3388 - root_mean_squared_error: 0.5820 - val_loss: 0.3203 - val_root_mean_squared_error: 0.5694\n",
            "Epoch 41/50\n",
            "21/21 [==============================] - 0s 6ms/step - loss: 0.3394 - root_mean_squared_error: 0.5826 - val_loss: 0.3205 - val_root_mean_squared_error: 0.5695\n",
            "Epoch 42/50\n",
            "21/21 [==============================] - 0s 7ms/step - loss: 0.3394 - root_mean_squared_error: 0.5824 - val_loss: 0.3207 - val_root_mean_squared_error: 0.5698\n",
            "Epoch 43/50\n",
            "21/21 [==============================] - 0s 7ms/step - loss: 0.3392 - root_mean_squared_error: 0.5824 - val_loss: 0.3237 - val_root_mean_squared_error: 0.5723\n",
            "Epoch 44/50\n",
            "21/21 [==============================] - 0s 7ms/step - loss: 0.3394 - root_mean_squared_error: 0.5825 - val_loss: 0.3203 - val_root_mean_squared_error: 0.5693\n",
            "Epoch 45/50\n",
            "21/21 [==============================] - 0s 7ms/step - loss: 0.3391 - root_mean_squared_error: 0.5824 - val_loss: 0.3201 - val_root_mean_squared_error: 0.5692\n",
            "Epoch 46/50\n",
            "21/21 [==============================] - 0s 7ms/step - loss: 0.3394 - root_mean_squared_error: 0.5826 - val_loss: 0.3197 - val_root_mean_squared_error: 0.5690\n",
            "Epoch 47/50\n",
            "21/21 [==============================] - 0s 6ms/step - loss: 0.3397 - root_mean_squared_error: 0.5828 - val_loss: 0.3207 - val_root_mean_squared_error: 0.5698\n",
            "Epoch 48/50\n",
            "21/21 [==============================] - 0s 7ms/step - loss: 0.3391 - root_mean_squared_error: 0.5824 - val_loss: 0.3212 - val_root_mean_squared_error: 0.5702\n",
            "Epoch 49/50\n",
            "21/21 [==============================] - 0s 6ms/step - loss: 0.3391 - root_mean_squared_error: 0.5821 - val_loss: 0.3229 - val_root_mean_squared_error: 0.5717\n",
            "Epoch 50/50\n",
            "21/21 [==============================] - 0s 6ms/step - loss: 0.3392 - root_mean_squared_error: 0.5824 - val_loss: 0.3210 - val_root_mean_squared_error: 0.5701\n",
            "0.06320399045944214\n"
          ],
          "name": "stdout"
        },
        {
          "output_type": "display_data",
          "data": {
            "image/png": "[encoded data removed]",
            "text/plain": [
              "<Figure size 432x288 with 1 Axes>"
            ]
          },
          "metadata": {
            "tags": []
          }
        },
        {
          "output_type": "stream",
          "text": [
            "\n",
            " Evaluate the linear regression model against the test set:\n",
            "7/7 [==============================] - 0s 3ms/step - loss: 0.3366 - root_mean_squared_error: 0.5813\n"
          ],
          "name": "stdout"
        },
        {
          "output_type": "execute_result",
          "data": {
            "text/plain": [
              "[0.33663082122802734, 0.5813210010528564]"
            ]
          },
          "metadata": {
            "tags": []
          },
          "execution_count": 51
        }
      ]
    },
    {
      "cell_type": "code",
      "metadata": {
        "id": "MzIkZNjddP_p",
        "colab_type": "code",
        "colab": {}
      },
      "source": [
        ""
      ],
      "execution_count": 0,
      "outputs": []
    }
  ]
}