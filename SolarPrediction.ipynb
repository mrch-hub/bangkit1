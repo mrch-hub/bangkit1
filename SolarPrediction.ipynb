{
  "nbformat": 4,
  "nbformat_minor": 0,
  "metadata": {
    "colab": {
      "name": "SolarPrediction.ipynb",
      "provenance": [],
      "include_colab_link": true
    },
    "kernelspec": {
      "name": "python3",
      "display_name": "Python 3"
    }
  },
  "cells": [
    {
      "cell_type": "markdown",
      "metadata": {
        "id": "view-in-github",
        "colab_type": "text"
      },
      "source": [
        "<a href=\"https://colab.research.google.com/github/mrch-hub/bangkit1/blob/test_feature_3/SolarPrediction.ipynb\" target=\"_parent\"><img src=\"https://colab.research.google.com/assets/colab-badge.svg\" alt=\"Open In Colab\"/></a>"
      ]
    },
    {
      "cell_type": "markdown",
      "metadata": {
        "id": "f5bF6G8ff6Zq",
        "colab_type": "text"
      },
      "source": [
        "##Solar radiation intensity prediction using TensorFlow"
      ]
    },
    {
      "cell_type": "code",
      "metadata": {
        "id": "C6pwJrUZ9rYW",
        "colab_type": "code",
        "outputId": "6a289da9-924b-4a89-fdb3-eb987e32fa59",
        "colab": {
          "base_uri": "https://localhost:8080/",
          "height": 55
        }
      },
      "source": [
        "\"\"\"A python code for predicting solar radiation\n",
        "intensity using TensorFlow. Created for \n",
        "5th Bangk!t assignment.\n",
        "Collaborators: Marcellinus Chrisnada, Muhammad\n",
        "Harits Hafidza, Mochammad Randy Caesario H.\"\"\""
      ],
      "execution_count": 0,
      "outputs": [
        {
          "output_type": "execute_result",
          "data": {
            "text/plain": [
              "'A python code for predicting solar radiation\\nintensity using TensorFlow. Created for \\n5th Bangk!t assignment.\\nCollaborators: Marcellinus Chrisnada, Muhammad\\nHarits Hafidza, Mochammad Randy Caesario H.'"
            ]
          },
          "metadata": {
            "tags": []
          },
          "execution_count": 40
        }
      ]
    },
    {
      "cell_type": "markdown",
      "metadata": {
        "id": "yb2tFywNgWIn",
        "colab_type": "text"
      },
      "source": [
        "##Initialization"
      ]
    },
    {
      "cell_type": "code",
      "metadata": {
        "id": "d8ekWJYDbTzp",
        "colab_type": "code",
        "cellView": "form",
        "colab": {}
      },
      "source": [
        "#@title Run on TensorFlow 2.x\n",
        "%tensorflow_version 2.x\n",
        "from __future__ import absolute_import, division, print_function, unicode_literals"
      ],
      "execution_count": 0,
      "outputs": []
    },
    {
      "cell_type": "code",
      "metadata": {
        "id": "oPY5vbLWXmKN",
        "colab_type": "code",
        "cellView": "both",
        "outputId": "539880fe-1fc9-40ee-fc33-265714e2fa73",
        "colab": {
          "base_uri": "https://localhost:8080/",
          "height": 68
        }
      },
      "source": [
        "#@title Import relevant modules\n",
        "import numpy as np\n",
        "import pandas as pd\n",
        "import tensorflow as tf\n",
        "from tensorflow.keras import layers\n",
        "from matplotlib import pyplot as plt\n",
        "import seaborn as sns\n",
        "\n",
        "# Adjust the granularity of reporting. \n",
        "pd.options.display.max_rows = 10\n",
        "pd.options.display.float_format = \"{:.1f}\".format\n",
        "\n",
        "print(\"Imported modules.\")"
      ],
      "execution_count": 2,
      "outputs": [
        {
          "output_type": "stream",
          "text": [
            "Imported modules.\n"
          ],
          "name": "stdout"
        },
        {
          "output_type": "stream",
          "text": [
            "/usr/local/lib/python3.6/dist-packages/statsmodels/tools/_testing.py:19: FutureWarning: pandas.util.testing is deprecated. Use the functions in the public API at pandas.testing instead.\n",
            "  import pandas.util.testing as tm\n"
          ],
          "name": "stderr"
        }
      ]
    },
    {
      "cell_type": "code",
      "metadata": {
        "id": "oRlH8pQwbSpE",
        "colab_type": "code",
        "outputId": "f996a20b-91e7-4c7e-9333-f4626604551f",
        "colab": {
          "base_uri": "https://localhost:8080/",
          "height": 419
        }
      },
      "source": [
        "#@title Load dataset\n",
        "data = pd.read_csv('https://raw.githubusercontent.com/mrch-hub/bangkit1/master/SolarPrediction.csv')\n",
        "data = data.reindex(np.random.permutation(data.index)) # shuffle dataset\n",
        "data = data.rename(columns={'WindDirection(Degrees)':'WindDirection'})\n",
        "data.head(15)"
      ],
      "execution_count": 3,
      "outputs": [
        {
          "output_type": "execute_result",
          "data": {
            "text/html": [
              "<div>\n",
              "<style scoped>\n",
              "    .dataframe tbody tr th:only-of-type {\n",
              "        vertical-align: middle;\n",
              "    }\n",
              "\n",
              "    .dataframe tbody tr th {\n",
              "        vertical-align: top;\n",
              "    }\n",
              "\n",
              "    .dataframe thead th {\n",
              "        text-align: right;\n",
              "    }\n",
              "</style>\n",
              "<table border=\"1\" class=\"dataframe\">\n",
              "  <thead>\n",
              "    <tr style=\"text-align: right;\">\n",
              "      <th></th>\n",
              "      <th>UNIXTime</th>\n",
              "      <th>Data</th>\n",
              "      <th>Time</th>\n",
              "      <th>Radiation</th>\n",
              "      <th>Temperature</th>\n",
              "      <th>Pressure</th>\n",
              "      <th>Humidity</th>\n",
              "      <th>WindDirection</th>\n",
              "      <th>Speed</th>\n",
              "      <th>TimeSunRise</th>\n",
              "      <th>TimeSunSet</th>\n",
              "    </tr>\n",
              "  </thead>\n",
              "  <tbody>\n",
              "    <tr>\n",
              "      <th>11489</th>\n",
              "      <td>1476769820</td>\n",
              "      <td>10/17/2016 12:00:00 AM</td>\n",
              "      <td>19:50:20</td>\n",
              "      <td>1.2</td>\n",
              "      <td>53</td>\n",
              "      <td>30.5</td>\n",
              "      <td>100</td>\n",
              "      <td>137.9</td>\n",
              "      <td>10.1</td>\n",
              "      <td>06:18:00</td>\n",
              "      <td>17:58:00</td>\n",
              "    </tr>\n",
              "    <tr>\n",
              "      <th>23103</th>\n",
              "      <td>1478421302</td>\n",
              "      <td>11/5/2016 12:00:00 AM</td>\n",
              "      <td>22:35:02</td>\n",
              "      <td>1.2</td>\n",
              "      <td>49</td>\n",
              "      <td>30.5</td>\n",
              "      <td>29</td>\n",
              "      <td>176.8</td>\n",
              "      <td>6.8</td>\n",
              "      <td>06:26:00</td>\n",
              "      <td>17:46:00</td>\n",
              "    </tr>\n",
              "    <tr>\n",
              "      <th>1004</th>\n",
              "      <td>1474916720</td>\n",
              "      <td>9/26/2016 12:00:00 AM</td>\n",
              "      <td>09:05:20</td>\n",
              "      <td>687.0</td>\n",
              "      <td>57</td>\n",
              "      <td>30.4</td>\n",
              "      <td>66</td>\n",
              "      <td>83.0</td>\n",
              "      <td>9.0</td>\n",
              "      <td>06:12:00</td>\n",
              "      <td>18:15:00</td>\n",
              "    </tr>\n",
              "    <tr>\n",
              "      <th>32663</th>\n",
              "      <td>1480593003</td>\n",
              "      <td>12/1/2016 12:00:00 AM</td>\n",
              "      <td>01:50:03</td>\n",
              "      <td>1.2</td>\n",
              "      <td>43</td>\n",
              "      <td>30.4</td>\n",
              "      <td>100</td>\n",
              "      <td>180.8</td>\n",
              "      <td>10.1</td>\n",
              "      <td>06:41:00</td>\n",
              "      <td>17:42:00</td>\n",
              "    </tr>\n",
              "    <tr>\n",
              "      <th>15094</th>\n",
              "      <td>1475666724</td>\n",
              "      <td>10/5/2016 12:00:00 AM</td>\n",
              "      <td>01:25:24</td>\n",
              "      <td>1.2</td>\n",
              "      <td>51</td>\n",
              "      <td>30.4</td>\n",
              "      <td>102</td>\n",
              "      <td>144.4</td>\n",
              "      <td>1.1</td>\n",
              "      <td>06:14:00</td>\n",
              "      <td>18:08:00</td>\n",
              "    </tr>\n",
              "    <tr>\n",
              "      <th>...</th>\n",
              "      <td>...</td>\n",
              "      <td>...</td>\n",
              "      <td>...</td>\n",
              "      <td>...</td>\n",
              "      <td>...</td>\n",
              "      <td>...</td>\n",
              "      <td>...</td>\n",
              "      <td>...</td>\n",
              "      <td>...</td>\n",
              "      <td>...</td>\n",
              "      <td>...</td>\n",
              "    </tr>\n",
              "    <tr>\n",
              "      <th>18329</th>\n",
              "      <td>1479854103</td>\n",
              "      <td>11/22/2016 12:00:00 AM</td>\n",
              "      <td>12:35:03</td>\n",
              "      <td>500.5</td>\n",
              "      <td>48</td>\n",
              "      <td>30.4</td>\n",
              "      <td>102</td>\n",
              "      <td>83.1</td>\n",
              "      <td>6.8</td>\n",
              "      <td>06:35:00</td>\n",
              "      <td>17:42:00</td>\n",
              "    </tr>\n",
              "    <tr>\n",
              "      <th>15403</th>\n",
              "      <td>1475571018</td>\n",
              "      <td>10/3/2016 12:00:00 AM</td>\n",
              "      <td>22:50:18</td>\n",
              "      <td>1.3</td>\n",
              "      <td>51</td>\n",
              "      <td>30.4</td>\n",
              "      <td>99</td>\n",
              "      <td>69.5</td>\n",
              "      <td>3.4</td>\n",
              "      <td>06:14:00</td>\n",
              "      <td>18:09:00</td>\n",
              "    </tr>\n",
              "    <tr>\n",
              "      <th>8344</th>\n",
              "      <td>1477715423</td>\n",
              "      <td>10/28/2016 12:00:00 AM</td>\n",
              "      <td>18:30:23</td>\n",
              "      <td>1.2</td>\n",
              "      <td>45</td>\n",
              "      <td>30.4</td>\n",
              "      <td>100</td>\n",
              "      <td>110.3</td>\n",
              "      <td>5.6</td>\n",
              "      <td>06:22:00</td>\n",
              "      <td>17:51:00</td>\n",
              "    </tr>\n",
              "    <tr>\n",
              "      <th>4216</th>\n",
              "      <td>1473859508</td>\n",
              "      <td>9/14/2016 12:00:00 AM</td>\n",
              "      <td>03:25:08</td>\n",
              "      <td>2.1</td>\n",
              "      <td>48</td>\n",
              "      <td>30.4</td>\n",
              "      <td>94</td>\n",
              "      <td>192.2</td>\n",
              "      <td>1.1</td>\n",
              "      <td>06:10:00</td>\n",
              "      <td>18:26:00</td>\n",
              "    </tr>\n",
              "    <tr>\n",
              "      <th>1047</th>\n",
              "      <td>1474903820</td>\n",
              "      <td>9/26/2016 12:00:00 AM</td>\n",
              "      <td>05:30:20</td>\n",
              "      <td>1.2</td>\n",
              "      <td>47</td>\n",
              "      <td>30.4</td>\n",
              "      <td>93</td>\n",
              "      <td>151.7</td>\n",
              "      <td>10.1</td>\n",
              "      <td>06:12:00</td>\n",
              "      <td>18:15:00</td>\n",
              "    </tr>\n",
              "  </tbody>\n",
              "</table>\n",
              "<p>15 rows × 11 columns</p>\n",
              "</div>"
            ],
            "text/plain": [
              "         UNIXTime                    Data  ... TimeSunRise  TimeSunSet\n",
              "11489  1476769820  10/17/2016 12:00:00 AM  ...    06:18:00    17:58:00\n",
              "23103  1478421302   11/5/2016 12:00:00 AM  ...    06:26:00    17:46:00\n",
              "1004   1474916720   9/26/2016 12:00:00 AM  ...    06:12:00    18:15:00\n",
              "32663  1480593003   12/1/2016 12:00:00 AM  ...    06:41:00    17:42:00\n",
              "15094  1475666724   10/5/2016 12:00:00 AM  ...    06:14:00    18:08:00\n",
              "...           ...                     ...  ...         ...         ...\n",
              "18329  1479854103  11/22/2016 12:00:00 AM  ...    06:35:00    17:42:00\n",
              "15403  1475571018   10/3/2016 12:00:00 AM  ...    06:14:00    18:09:00\n",
              "8344   1477715423  10/28/2016 12:00:00 AM  ...    06:22:00    17:51:00\n",
              "4216   1473859508   9/14/2016 12:00:00 AM  ...    06:10:00    18:26:00\n",
              "1047   1474903820   9/26/2016 12:00:00 AM  ...    06:12:00    18:15:00\n",
              "\n",
              "[15 rows x 11 columns]"
            ]
          },
          "metadata": {
            "tags": []
          },
          "execution_count": 3
        }
      ]
    },
    {
      "cell_type": "markdown",
      "metadata": {
        "id": "c28PYOGaauV0",
        "colab_type": "text"
      },
      "source": [
        "##Adding some features to the dataset"
      ]
    },
    {
      "cell_type": "code",
      "metadata": {
        "id": "ymGkD9ZPaxro",
        "colab_type": "code",
        "colab": {}
      },
      "source": [
        "#@title Adding feature is_daylight that define measurement time is either daylight (1) or nighttime (0)\n",
        "is_daylight = [data['Time'].values[x] > data['TimeSunRise'].values[x] and data['Time'].values[x] < data['TimeSunSet'].values[x] for x in range(len(data))]\n",
        "data['is_daylight'] = is_daylight\n",
        "data['is_daylight'] = data['is_daylight'].astype('float')"
      ],
      "execution_count": 0,
      "outputs": []
    },
    {
      "cell_type": "code",
      "metadata": {
        "id": "TCCuKjCwBH1M",
        "colab_type": "code",
        "colab": {}
      },
      "source": [
        "#@title Convert UNIXTime into hour, day, month format\n",
        "data['Time_Convert'] = pd.to_datetime(data['Time'], format = '%H:%M:%S')\n",
        "\n",
        "data['Hour'] = pd.to_datetime(data['Time_Convert'], format = '%H:%M:%S').dt.hour # Get the hour of the day\n",
        "\n",
        "data['Day'] = pd.to_datetime(data['UNIXTime'].astype(int), unit = 's').dt.day # Get the day of the month\n",
        "\n",
        "data['Month'] = pd.to_datetime(data['UNIXTime'].astype(int), unit = 's').dt.month # Get the month of the year"
      ],
      "execution_count": 0,
      "outputs": []
    },
    {
      "cell_type": "markdown",
      "metadata": {
        "id": "yQeavaKNayAj",
        "colab_type": "text"
      },
      "source": [
        "##Data Preconditioning"
      ]
    },
    {
      "cell_type": "code",
      "metadata": {
        "id": "lbKi6_Xcbn6M",
        "colab_type": "code",
        "outputId": "ef42e965-d989-4b1b-ae1c-b8437eef0f28",
        "colab": {
          "base_uri": "https://localhost:8080/",
          "height": 51
        }
      },
      "source": [
        "#@title Splitting data to train set and test set\n",
        "test_split = 0.2 # percentage of train set to be considered as test set\n",
        "data_test = data[:][0:round((len(data)*test_split))]\n",
        "data_train = data[:][round((len(data)*test_split)):]\n",
        "print('train set length:', str(len(data_train)), '\\ntest set length:', \n",
        "      str(len(data_test)))"
      ],
      "execution_count": 6,
      "outputs": [
        {
          "output_type": "stream",
          "text": [
            "train set length: 26149 \n",
            "test set length: 6537\n"
          ],
          "name": "stdout"
        }
      ]
    },
    {
      "cell_type": "code",
      "metadata": {
        "id": "5v5LYeP_dECa",
        "colab_type": "code",
        "outputId": "474c7991-6ab1-4e12-c038-a2df9aea30db",
        "colab": {
          "base_uri": "https://localhost:8080/",
          "height": 34
        }
      },
      "source": [
        "#@title Normalize values \n",
        "\n",
        "# Calculate the Z-scores of each column in the training set:\n",
        "data_train_mean = data_train.select_dtypes(include=['float64', 'int64']).mean()\n",
        "data_train_std = data_train.select_dtypes(include=['float64', 'int64']).std()\n",
        "data_train_norm = (data_train.select_dtypes(include=['float64', 'int64']) \n",
        "                   - data_train_mean)/data_train_std\n",
        "\n",
        "# Calculate the Z-scores of each column in the test set.\n",
        "data_test_mean = data_test.select_dtypes(include=['float64', 'int64']).mean()\n",
        "data_test_std = data_test.select_dtypes(include=['float64', 'int64']).std()\n",
        "data_test_norm = (data_test.select_dtypes(include=['float64', 'int64'])\n",
        "                  - data_test_mean)/data_test_std\n",
        "\n",
        "print(\"Normalized the values.\")"
      ],
      "execution_count": 7,
      "outputs": [
        {
          "output_type": "stream",
          "text": [
            "Normalized the values.\n"
          ],
          "name": "stdout"
        }
      ]
    },
    {
      "cell_type": "markdown",
      "metadata": {
        "id": "LKdhPgg5eRFI",
        "colab_type": "text"
      },
      "source": [
        "## Represent data\n",
        "\n",
        "The following code cell creates a feature layer containing 6 features:\n",
        "\n",
        "* `Temperature`\n",
        "* `Pressure`\n",
        "* `is_daylight`\n",
        "* `Humidity x Wind Cross Feature`\n",
        "* `Hour x Month Cross Feature`\n",
        "* `Day`"
      ]
    },
    {
      "cell_type": "code",
      "metadata": {
        "id": "6bDp6l3KeEgb",
        "colab_type": "code",
        "colab": {}
      },
      "source": [
        "# Create empty feature column list\n",
        "feature_columns = []\n",
        "\n",
        "# Represent Temperature as a floating-point value.\n",
        "temperature_numeric_column = tf.feature_column.numeric_column(\"Temperature\")\n",
        "#temperature_boundaries = list(np.arange(int(min(data_train['Radiation'])), int(max(data_train['Radiation']))))\n",
        "#temperature = tf.feature_column.bucketized_column(temperature_numeric_column, temperature_boundaries)\n",
        "feature_columns.append(temperature_numeric_column)\n",
        "\n",
        "# Represent Pressure as a floating-point value.\n",
        "pressure_numeric_column = tf.feature_column.numeric_column(\"Pressure\")\n",
        "#pressure_boundaries = list(np.arange(float(min(data_train['Pressure'])), float(max(data_train['Pressure']))))\n",
        "#pressure = tf.feature_column.bucketized_column(pressure_numeric_column, pressure_boundaries)\n",
        "feature_columns.append(pressure_numeric_column)\n",
        "\n",
        "# Represent Humidity as a floating-point value.\n",
        "humidity_numeric_column = tf.feature_column.numeric_column(\"Humidity\")\n",
        "humidity_boundaries = list(np.arange(int(min(data_train['Humidity'])), int(max(data_train['Humidity']))))\n",
        "humidity = tf.feature_column.bucketized_column(humidity_numeric_column, humidity_boundaries)\n",
        "#feature_columns.append(humidity)\n",
        "\n",
        "# Represent Wind as a floating-point value.\n",
        "wind_numeric_column = tf.feature_column.numeric_column(\"WindDirection\")\n",
        "wind_boundaries = list(np.arange(int(min(data_train['WindDirection'])), int(max(data_train['WindDirection']))))\n",
        "wind = tf.feature_column.bucketized_column(wind_numeric_column, wind_boundaries)\n",
        "#feature_columns.append(wind)\n",
        "\n",
        "# Represent Daylight as a floating-point value.\n",
        "daylight = tf.feature_column.numeric_column(\"is_daylight\")\n",
        "feature_columns.append(daylight)\n",
        "\n",
        "# Represent Hour as a floating-point value.\n",
        "day_numeric_column = tf.feature_column.numeric_column(\"Day\")\n",
        "#day_boundaries = list(np.arange(int(min(data_train['Day'])), int(max(data_train['Day']))))\n",
        "#day = tf.feature_column.bucketized_column(day_numeric_column, day_boundaries)\n",
        "feature_columns.append(day_numeric_column)\n",
        "\n",
        "# Represent Hour as a floating-point value.\n",
        "hour_numeric_column = tf.feature_column.numeric_column(\"Hour\")\n",
        "hour_boundaries = list(np.arange(int(min(data_train['Hour'])), int(max(data_train['Hour']))))\n",
        "hour = tf.feature_column.bucketized_column(hour_numeric_column, hour_boundaries)\n",
        "#feature_columns.append(hour_numeric_column)\n",
        "\n",
        "# Represent Hour as a floating-point value.\n",
        "month_numeric_column = tf.feature_column.numeric_column(\"Month\")\n",
        "month_boundaries = list(np.arange(int(min(data_train['Month'])), int(max(data_train['Month']))))\n",
        "month = tf.feature_column.bucketized_column(month_numeric_column, month_boundaries)\n",
        "#feature_columns.append(month_numeric_column)\n",
        "\n",
        "# Create a feature cross between Temperature and Pressure\n",
        "#temperature_x_pressure = tf.feature_column.crossed_column([temperature, pressure], hash_bucket_size=200)\n",
        "#crossed_feature_TP = tf.feature_column.indicator_column(temperature_x_pressure)\n",
        "#feature_columns.append(crossed_feature_TP)\n",
        "\n",
        "# Create a feature cross between Humidity and Wind\n",
        "humidity_x_wind = tf.feature_column.crossed_column([humidity, wind], hash_bucket_size=100)\n",
        "crossed_feature_HW = tf.feature_column.indicator_column(humidity_x_wind)\n",
        "feature_columns.append(crossed_feature_HW)\n",
        "\n",
        "# Create a feature cross between Temperature and Day\n",
        "#temperature_x_day = tf.feature_column.crossed_column([temperature, day], hash_bucket_size=400)\n",
        "#crossed_feature = tf.feature_column.indicator_column(temperature_x_day)\n",
        "#feature_columns.append(crossed_feature)\n",
        "\n",
        "# Create a feature cross between Temperature and Hour\n",
        "#temperature_x_hour = tf.feature_column.crossed_column([temperature, hour], hash_bucket_size=230)\n",
        "#crossed_feature = tf.feature_column.indicator_column(temperature_x_hour)\n",
        "#feature_columns.append(crossed_feature)\n",
        "\n",
        "# Create a feature cross between Hour and Month\n",
        "hour_x_month = tf.feature_column.crossed_column([hour, month], hash_bucket_size=100)\n",
        "crossed_feature_HM = tf.feature_column.indicator_column(hour_x_month)\n",
        "feature_columns.append(crossed_feature_HM)\n",
        "\n",
        "# Create a feature cross between Hour, Day and Month\n",
        "#hour_x_day_x_month = tf.feature_column.crossed_column([hour, day, month], hash_bucket_size=100)\n",
        "#crossed_feature_HDM = tf.feature_column.indicator_column(hour_x_day_x_month)\n",
        "#feature_columns.append(crossed_feature_HDM)\n",
        "\n",
        "# Convert the list of feature columns into a layer that will later be fed into\n",
        "# the model. \n",
        "my_feature_layer = tf.keras.layers.DenseFeatures(feature_columns)"
      ],
      "execution_count": 0,
      "outputs": []
    },
    {
      "cell_type": "markdown",
      "metadata": {
        "id": "MMAji1PSfPCt",
        "colab_type": "text"
      },
      "source": [
        "## Build a linear regression model"
      ]
    },
    {
      "cell_type": "code",
      "metadata": {
        "id": "vyOjMo-7ei25",
        "colab_type": "code",
        "outputId": "694051b3-af0c-47d8-86a2-c3cb1e58323b",
        "colab": {
          "base_uri": "https://localhost:8080/",
          "height": 34
        }
      },
      "source": [
        "#@title Define plotting function\n",
        "\n",
        "def plot_the_loss_curve(epochs, mse_training, mse_validation):\n",
        "  \"\"\"Plot a curve of loss vs. epoch.\"\"\"\n",
        "\n",
        "  plt.figure()\n",
        "  plt.xlabel(\"Epoch\")\n",
        "  plt.ylabel(\"Root Mean Squared Error\")\n",
        "\n",
        "  plt.plot(epochs[1:], mse_training[1:], label=\"Training Loss\")\n",
        "  plt.plot(epochs[1:], mse_validation[1:], label=\"Validation Loss\")\n",
        "  plt.legend()\n",
        "\n",
        "  merged_mse_lists = mse_training[1:] + mse_validation[1:]\n",
        "  highest_loss = max(merged_mse_lists)\n",
        "  lowest_loss = min(merged_mse_lists)\n",
        "  delta = highest_loss - lowest_loss\n",
        "  print(delta)\n",
        "\n",
        "  top_of_y_axis = highest_loss + (delta * 0.05)\n",
        "  bottom_of_y_axis = lowest_loss - (delta * 0.05)\n",
        "  plt.ylim([bottom_of_y_axis, top_of_y_axis])\n",
        "  plt.show()  \n",
        "\n",
        "print(\"Defined the plot_the_loss_curve function.\")"
      ],
      "execution_count": 20,
      "outputs": [
        {
          "output_type": "stream",
          "text": [
            "Defined the plot_the_loss_curve function.\n"
          ],
          "name": "stdout"
        }
      ]
    },
    {
      "cell_type": "code",
      "metadata": {
        "id": "gEsYOPPhetG3",
        "colab_type": "code",
        "outputId": "3c57fda4-5d22-41cd-e6ea-70e52b746fe5",
        "colab": {
          "base_uri": "https://localhost:8080/",
          "height": 34
        }
      },
      "source": [
        "#@title Define functions to create and train a linear regression model\n",
        "def create_model(my_learning_rate, feature_layer):\n",
        "  \"\"\"Create and compile a simple linear regression model.\"\"\"\n",
        "  # Most simple tf.keras models are sequential.\n",
        "  model = tf.keras.models.Sequential()\n",
        "\n",
        "  # Add the layer containing the feature columns to the model.\n",
        "  model.add(feature_layer)\n",
        "\n",
        "  # Add one linear layer to the model to yield a simple linear regressor.\n",
        "  model.add(tf.keras.layers.Dense(units=1, input_shape=(1,)))\n",
        "\n",
        "  # Construct the layers into a model that TensorFlow can execute.\n",
        "  model.compile(optimizer=tf.keras.optimizers.RMSprop(lr=my_learning_rate),\n",
        "                loss=\"mean_squared_error\",\n",
        "                metrics=[tf.keras.metrics.RootMeanSquaredError()])\n",
        "\n",
        "  return model           \n",
        "\n",
        "\n",
        "def train_model(model, dataset, epochs, batch_size, label_name,validation_split):\n",
        "  \"\"\"Feed a dataset into the model in order to train it.\"\"\"\n",
        "\n",
        "  # Split the dataset into features and label.\n",
        "  features = {name:np.array(value) for name, value in dataset.items()}\n",
        "  label = np.array(features.pop(label_name))\n",
        "  history = model.fit(x=features, y=label, batch_size=batch_size,\n",
        "                      epochs=epochs, validation_split=validation_split, \n",
        "                      shuffle=True)\n",
        "\n",
        "  # Get details that will be useful for plotting the loss curve.\n",
        "  epochs = history.epoch\n",
        "  hist = pd.DataFrame(history.history)\n",
        "  rmse = hist[\"root_mean_squared_error\"]\n",
        "\n",
        "  return epochs, rmse, history.history   \n",
        "\n",
        "print(\"Defined the create_model and train_model functions.\")"
      ],
      "execution_count": 21,
      "outputs": [
        {
          "output_type": "stream",
          "text": [
            "Defined the create_model and train_model functions.\n"
          ],
          "name": "stdout"
        }
      ]
    },
    {
      "cell_type": "code",
      "metadata": {
        "id": "wAJuzbBmexB4",
        "colab_type": "code",
        "cellView": "both",
        "outputId": "2884bed4-0e0d-4212-f517-bd6ac1b7fd4e",
        "colab": {
          "base_uri": "https://localhost:8080/",
          "height": 1000
        }
      },
      "source": [
        "#@title Train the model as linear regression\n",
        "# The following variables are the hyperparameters.\n",
        "learning_rate = 0.01\n",
        "epochs = 50\n",
        "batch_size = 1000\n",
        "validation_split = 0.2\n",
        "label_name = \"Radiation\"\n",
        " \n",
        "\n",
        "# Establish the model's topography.\n",
        "my_model = create_model(learning_rate, my_feature_layer)\n",
        "\n",
        "# Train the model on the normalized training set.\n",
        "epochs, mse, history = train_model(my_model, data_train_norm, epochs, batch_size, label_name, \n",
        "                          validation_split=validation_split)\n",
        "plot_the_loss_curve(epochs, history[\"root_mean_squared_error\"], \n",
        "                    history[\"val_root_mean_squared_error\"])\n",
        "\n",
        "test_features = {name:np.array(value) for name, value in data_test_norm.items()}\n",
        "test_label = np.array(test_features.pop(label_name)) # isolate the label\n",
        "print(\"\\n Evaluate the linear regression model against the test set:\")\n",
        "my_model.evaluate(x = test_features, y = test_label, batch_size=batch_size)"
      ],
      "execution_count": 24,
      "outputs": [
        {
          "output_type": "stream",
          "text": [
            "Epoch 1/50\n",
            "21/21 [==============================] - 0s 17ms/step - loss: 0.5607 - root_mean_squared_error: 0.7491 - val_loss: 0.4317 - val_root_mean_squared_error: 0.6504\n",
            "Epoch 2/50\n",
            "21/21 [==============================] - 0s 6ms/step - loss: 0.3780 - root_mean_squared_error: 0.6148 - val_loss: 0.3750 - val_root_mean_squared_error: 0.6046\n",
            "Epoch 3/50\n",
            "21/21 [==============================] - 0s 7ms/step - loss: 0.3439 - root_mean_squared_error: 0.5864 - val_loss: 0.3574 - val_root_mean_squared_error: 0.5896\n",
            "Epoch 4/50\n",
            "21/21 [==============================] - 0s 7ms/step - loss: 0.3347 - root_mean_squared_error: 0.5785 - val_loss: 0.3546 - val_root_mean_squared_error: 0.5868\n",
            "Epoch 5/50\n",
            "21/21 [==============================] - 0s 7ms/step - loss: 0.3327 - root_mean_squared_error: 0.5768 - val_loss: 0.3542 - val_root_mean_squared_error: 0.5864\n",
            "Epoch 6/50\n",
            "21/21 [==============================] - 0s 22ms/step - loss: 0.3331 - root_mean_squared_error: 0.5771 - val_loss: 0.3544 - val_root_mean_squared_error: 0.5867\n",
            "Epoch 7/50\n",
            "21/21 [==============================] - 0s 6ms/step - loss: 0.3327 - root_mean_squared_error: 0.5770 - val_loss: 0.3540 - val_root_mean_squared_error: 0.5860\n",
            "Epoch 8/50\n",
            "21/21 [==============================] - 0s 7ms/step - loss: 0.3329 - root_mean_squared_error: 0.5771 - val_loss: 0.3545 - val_root_mean_squared_error: 0.5866\n",
            "Epoch 9/50\n",
            "21/21 [==============================] - 0s 7ms/step - loss: 0.3326 - root_mean_squared_error: 0.5769 - val_loss: 0.3564 - val_root_mean_squared_error: 0.5878\n",
            "Epoch 10/50\n",
            "21/21 [==============================] - 0s 6ms/step - loss: 0.3332 - root_mean_squared_error: 0.5773 - val_loss: 0.3541 - val_root_mean_squared_error: 0.5863\n",
            "Epoch 11/50\n",
            "21/21 [==============================] - 0s 7ms/step - loss: 0.3334 - root_mean_squared_error: 0.5774 - val_loss: 0.3542 - val_root_mean_squared_error: 0.5867\n",
            "Epoch 12/50\n",
            "21/21 [==============================] - 0s 7ms/step - loss: 0.3327 - root_mean_squared_error: 0.5768 - val_loss: 0.3553 - val_root_mean_squared_error: 0.5875\n",
            "Epoch 13/50\n",
            "21/21 [==============================] - 0s 6ms/step - loss: 0.3331 - root_mean_squared_error: 0.5772 - val_loss: 0.3549 - val_root_mean_squared_error: 0.5867\n",
            "Epoch 14/50\n",
            "21/21 [==============================] - 0s 7ms/step - loss: 0.3331 - root_mean_squared_error: 0.5772 - val_loss: 0.3564 - val_root_mean_squared_error: 0.5875\n",
            "Epoch 15/50\n",
            "21/21 [==============================] - 0s 6ms/step - loss: 0.3329 - root_mean_squared_error: 0.5770 - val_loss: 0.3543 - val_root_mean_squared_error: 0.5866\n",
            "Epoch 16/50\n",
            "21/21 [==============================] - 0s 7ms/step - loss: 0.3332 - root_mean_squared_error: 0.5771 - val_loss: 0.3555 - val_root_mean_squared_error: 0.5879\n",
            "Epoch 17/50\n",
            "21/21 [==============================] - 0s 7ms/step - loss: 0.3330 - root_mean_squared_error: 0.5771 - val_loss: 0.3546 - val_root_mean_squared_error: 0.5865\n",
            "Epoch 18/50\n",
            "21/21 [==============================] - 0s 7ms/step - loss: 0.3331 - root_mean_squared_error: 0.5771 - val_loss: 0.3549 - val_root_mean_squared_error: 0.5875\n",
            "Epoch 19/50\n",
            "21/21 [==============================] - 0s 6ms/step - loss: 0.3330 - root_mean_squared_error: 0.5771 - val_loss: 0.3559 - val_root_mean_squared_error: 0.5875\n",
            "Epoch 20/50\n",
            "21/21 [==============================] - 0s 7ms/step - loss: 0.3331 - root_mean_squared_error: 0.5771 - val_loss: 0.3540 - val_root_mean_squared_error: 0.5863\n",
            "Epoch 21/50\n",
            "21/21 [==============================] - 0s 7ms/step - loss: 0.3331 - root_mean_squared_error: 0.5771 - val_loss: 0.3545 - val_root_mean_squared_error: 0.5867\n",
            "Epoch 22/50\n",
            "21/21 [==============================] - 0s 7ms/step - loss: 0.3332 - root_mean_squared_error: 0.5773 - val_loss: 0.3543 - val_root_mean_squared_error: 0.5864\n",
            "Epoch 23/50\n",
            "21/21 [==============================] - 0s 7ms/step - loss: 0.3331 - root_mean_squared_error: 0.5770 - val_loss: 0.3540 - val_root_mean_squared_error: 0.5863\n",
            "Epoch 24/50\n",
            "21/21 [==============================] - 0s 7ms/step - loss: 0.3330 - root_mean_squared_error: 0.5771 - val_loss: 0.3541 - val_root_mean_squared_error: 0.5862\n",
            "Epoch 25/50\n",
            "21/21 [==============================] - 0s 6ms/step - loss: 0.3331 - root_mean_squared_error: 0.5772 - val_loss: 0.3541 - val_root_mean_squared_error: 0.5862\n",
            "Epoch 26/50\n",
            "21/21 [==============================] - 0s 6ms/step - loss: 0.3328 - root_mean_squared_error: 0.5769 - val_loss: 0.3548 - val_root_mean_squared_error: 0.5874\n",
            "Epoch 27/50\n",
            "21/21 [==============================] - 0s 6ms/step - loss: 0.3334 - root_mean_squared_error: 0.5774 - val_loss: 0.3561 - val_root_mean_squared_error: 0.5876\n",
            "Epoch 28/50\n",
            "21/21 [==============================] - 0s 7ms/step - loss: 0.3334 - root_mean_squared_error: 0.5774 - val_loss: 0.3545 - val_root_mean_squared_error: 0.5869\n",
            "Epoch 29/50\n",
            "21/21 [==============================] - 0s 7ms/step - loss: 0.3330 - root_mean_squared_error: 0.5770 - val_loss: 0.3544 - val_root_mean_squared_error: 0.5865\n",
            "Epoch 30/50\n",
            "21/21 [==============================] - 0s 7ms/step - loss: 0.3336 - root_mean_squared_error: 0.5775 - val_loss: 0.3544 - val_root_mean_squared_error: 0.5867\n",
            "Epoch 31/50\n",
            "21/21 [==============================] - 0s 6ms/step - loss: 0.3328 - root_mean_squared_error: 0.5768 - val_loss: 0.3544 - val_root_mean_squared_error: 0.5866\n",
            "Epoch 32/50\n",
            "21/21 [==============================] - 0s 6ms/step - loss: 0.3330 - root_mean_squared_error: 0.5771 - val_loss: 0.3543 - val_root_mean_squared_error: 0.5864\n",
            "Epoch 33/50\n",
            "21/21 [==============================] - 0s 6ms/step - loss: 0.3331 - root_mean_squared_error: 0.5771 - val_loss: 0.3546 - val_root_mean_squared_error: 0.5867\n",
            "Epoch 34/50\n",
            "21/21 [==============================] - 0s 6ms/step - loss: 0.3328 - root_mean_squared_error: 0.5769 - val_loss: 0.3542 - val_root_mean_squared_error: 0.5865\n",
            "Epoch 35/50\n",
            "21/21 [==============================] - 0s 7ms/step - loss: 0.3327 - root_mean_squared_error: 0.5768 - val_loss: 0.3550 - val_root_mean_squared_error: 0.5872\n",
            "Epoch 36/50\n",
            "21/21 [==============================] - 0s 8ms/step - loss: 0.3336 - root_mean_squared_error: 0.5776 - val_loss: 0.3547 - val_root_mean_squared_error: 0.5864\n",
            "Epoch 37/50\n",
            "21/21 [==============================] - 0s 7ms/step - loss: 0.3327 - root_mean_squared_error: 0.5768 - val_loss: 0.3559 - val_root_mean_squared_error: 0.5875\n",
            "Epoch 38/50\n",
            "21/21 [==============================] - 0s 6ms/step - loss: 0.3334 - root_mean_squared_error: 0.5773 - val_loss: 0.3546 - val_root_mean_squared_error: 0.5872\n",
            "Epoch 39/50\n",
            "21/21 [==============================] - 0s 7ms/step - loss: 0.3328 - root_mean_squared_error: 0.5770 - val_loss: 0.3557 - val_root_mean_squared_error: 0.5878\n",
            "Epoch 40/50\n",
            "21/21 [==============================] - 0s 7ms/step - loss: 0.3332 - root_mean_squared_error: 0.5773 - val_loss: 0.3541 - val_root_mean_squared_error: 0.5867\n",
            "Epoch 41/50\n",
            "21/21 [==============================] - 0s 7ms/step - loss: 0.3333 - root_mean_squared_error: 0.5773 - val_loss: 0.3557 - val_root_mean_squared_error: 0.5881\n",
            "Epoch 42/50\n",
            "21/21 [==============================] - 0s 7ms/step - loss: 0.3329 - root_mean_squared_error: 0.5770 - val_loss: 0.3544 - val_root_mean_squared_error: 0.5864\n",
            "Epoch 43/50\n",
            "21/21 [==============================] - 0s 7ms/step - loss: 0.3333 - root_mean_squared_error: 0.5772 - val_loss: 0.3544 - val_root_mean_squared_error: 0.5864\n",
            "Epoch 44/50\n",
            "21/21 [==============================] - 0s 7ms/step - loss: 0.3328 - root_mean_squared_error: 0.5769 - val_loss: 0.3545 - val_root_mean_squared_error: 0.5868\n",
            "Epoch 45/50\n",
            "21/21 [==============================] - 0s 7ms/step - loss: 0.3330 - root_mean_squared_error: 0.5770 - val_loss: 0.3541 - val_root_mean_squared_error: 0.5865\n",
            "Epoch 46/50\n",
            "21/21 [==============================] - 0s 6ms/step - loss: 0.3332 - root_mean_squared_error: 0.5771 - val_loss: 0.3557 - val_root_mean_squared_error: 0.5883\n",
            "Epoch 47/50\n",
            "21/21 [==============================] - 0s 7ms/step - loss: 0.3334 - root_mean_squared_error: 0.5774 - val_loss: 0.3548 - val_root_mean_squared_error: 0.5868\n",
            "Epoch 48/50\n",
            "21/21 [==============================] - 0s 7ms/step - loss: 0.3325 - root_mean_squared_error: 0.5766 - val_loss: 0.3544 - val_root_mean_squared_error: 0.5868\n",
            "Epoch 49/50\n",
            "21/21 [==============================] - 0s 7ms/step - loss: 0.3329 - root_mean_squared_error: 0.5770 - val_loss: 0.3541 - val_root_mean_squared_error: 0.5866\n",
            "Epoch 50/50\n",
            "21/21 [==============================] - 0s 6ms/step - loss: 0.3333 - root_mean_squared_error: 0.5772 - val_loss: 0.3550 - val_root_mean_squared_error: 0.5872\n",
            "0.038134634494781494\n"
          ],
          "name": "stdout"
        },
        {
          "output_type": "display_data",
          "data": {
            "image/png": "[encoded data removed]",
            "text/plain": [
              "<Figure size 432x288 with 1 Axes>"
            ]
          },
          "metadata": {
            "tags": []
          }
        },
        {
          "output_type": "stream",
          "text": [
            "\n",
            " Evaluate the linear regression model against the test set:\n",
            "7/7 [==============================] - 0s 4ms/step - loss: 0.3409 - root_mean_squared_error: 0.5852\n"
          ],
          "name": "stdout"
        },
        {
          "output_type": "execute_result",
          "data": {
            "text/plain": [
              "[0.3409383296966553, 0.5852130651473999]"
            ]
          },
          "metadata": {
            "tags": []
          },
          "execution_count": 24
        }
      ]
    },
    {
      "cell_type": "code",
      "metadata": {
        "id": "MzIkZNjddP_p",
        "colab_type": "code",
        "colab": {}
      },
      "source": [
        ""
      ],
      "execution_count": 0,
      "outputs": []
    }
  ]
}