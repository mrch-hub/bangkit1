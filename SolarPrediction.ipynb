"""A python code for predicting solar radiation
intensity using machine learning. Created for 
5th bangk!t assignment.
Collaborators: Marcellinus Chrisnada, Muhammad
Harits Hafidza, Mochammad Randy Caesario H."""
