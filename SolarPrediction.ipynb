{
  "nbformat": 4,
  "nbformat_minor": 0,
  "metadata": {
    "colab": {
      "name": "SolarPrediction.ipynb",
      "provenance": [],
      "include_colab_link": true
    },
    "kernelspec": {
      "name": "python3",
      "display_name": "Python 3"
    }
  },
  "cells": [
    {
      "cell_type": "markdown",
      "metadata": {
        "id": "view-in-github",
        "colab_type": "text"
      },
      "source": [
        "<a href=\"https://colab.research.google.com/github/mrch-hub/bangkit1/blob/test_feature_1/SolarPrediction.ipynb\" target=\"_parent\"><img src=\"https://colab.research.google.com/assets/colab-badge.svg\" alt=\"Open In Colab\"/></a>"
      ]
    },
    {
      "cell_type": "markdown",
      "metadata": {
        "id": "f5bF6G8ff6Zq",
        "colab_type": "text"
      },
      "source": [
        "##Solar radiation intensity prediction using TensorFlow"
      ]
    },
    {
      "cell_type": "code",
      "metadata": {
        "id": "C6pwJrUZ9rYW",
        "colab_type": "code",
        "outputId": "6a289da9-924b-4a89-fdb3-eb987e32fa59",
        "colab": {
          "base_uri": "https://localhost:8080/",
          "height": 55
        }
      },
      "source": [
        "\"\"\"A python code for predicting solar radiation\n",
        "intensity using TensorFlow. Created for \n",
        "5th Bangk!t assignment.\n",
        "Collaborators: Marcellinus Chrisnada, Muhammad\n",
        "Harits Hafidza, Mochammad Randy Caesario H.\"\"\""
      ],
      "execution_count": 40,
      "outputs": [
        {
          "output_type": "execute_result",
          "data": {
            "text/plain": [
              "'A python code for predicting solar radiation\\nintensity using TensorFlow. Created for \\n5th Bangk!t assignment.\\nCollaborators: Marcellinus Chrisnada, Muhammad\\nHarits Hafidza, Mochammad Randy Caesario H.'"
            ]
          },
          "metadata": {
            "tags": []
          },
          "execution_count": 40
        }
      ]
    },
    {
      "cell_type": "markdown",
      "metadata": {
        "id": "yb2tFywNgWIn",
        "colab_type": "text"
      },
      "source": [
        "##Initialization"
      ]
    },
    {
      "cell_type": "code",
      "metadata": {
        "id": "d8ekWJYDbTzp",
        "colab_type": "code",
        "colab": {},
        "cellView": "form"
      },
      "source": [
        "#@title Run on TensorFlow 2.x\n",
        "%tensorflow_version 2.x\n",
        "from __future__ import absolute_import, division, print_function, unicode_literals"
      ],
      "execution_count": 0,
      "outputs": []
    },
    {
      "cell_type": "code",
      "metadata": {
        "id": "oPY5vbLWXmKN",
        "colab_type": "code",
        "cellView": "both",
        "outputId": "e665dbe3-d091-4f31-fa88-a8ec3e7a494a",
        "colab": {
          "base_uri": "https://localhost:8080/",
          "height": 35
        }
      },
      "source": [
        "#@title Import relevant modules\n",
        "import numpy as np\n",
        "import pandas as pd\n",
        "import tensorflow as tf\n",
        "from tensorflow.keras import layers\n",
        "from matplotlib import pyplot as plt\n",
        "import seaborn as sns\n",
        "\n",
        "# Adjust the granularity of reporting. \n",
        "pd.options.display.max_rows = 10\n",
        "pd.options.display.float_format = \"{:.1f}\".format\n",
        "\n",
        "print(\"Imported modules.\")"
      ],
      "execution_count": 42,
      "outputs": [
        {
          "output_type": "stream",
          "text": [
            "Imported modules.\n"
          ],
          "name": "stdout"
        }
      ]
    },
    {
      "cell_type": "code",
      "metadata": {
        "id": "oRlH8pQwbSpE",
        "colab_type": "code",
        "outputId": "51c1cab7-6788-4973-967a-2df8392b10b7",
        "colab": {
          "base_uri": "https://localhost:8080/",
          "height": 424
        }
      },
      "source": [
        "#@title Load dataset\n",
        "data = pd.read_csv('https://raw.githubusercontent.com/mrch-hub/bangkit1/master/SolarPrediction.csv')\n",
        "data = data.reindex(np.random.permutation(data.index)) # shuffle dataset\n",
        "data.head(40)"
      ],
      "execution_count": 43,
      "outputs": [
        {
          "output_type": "execute_result",
          "data": {
            "text/html": [
              "<div>\n",
              "<style scoped>\n",
              "    .dataframe tbody tr th:only-of-type {\n",
              "        vertical-align: middle;\n",
              "    }\n",
              "\n",
              "    .dataframe tbody tr th {\n",
              "        vertical-align: top;\n",
              "    }\n",
              "\n",
              "    .dataframe thead th {\n",
              "        text-align: right;\n",
              "    }\n",
              "</style>\n",
              "<table border=\"1\" class=\"dataframe\">\n",
              "  <thead>\n",
              "    <tr style=\"text-align: right;\">\n",
              "      <th></th>\n",
              "      <th>UNIXTime</th>\n",
              "      <th>Data</th>\n",
              "      <th>Time</th>\n",
              "      <th>Radiation</th>\n",
              "      <th>Temperature</th>\n",
              "      <th>Pressure</th>\n",
              "      <th>Humidity</th>\n",
              "      <th>WindDirection(Degrees)</th>\n",
              "      <th>Speed</th>\n",
              "      <th>TimeSunRise</th>\n",
              "      <th>TimeSunSet</th>\n",
              "    </tr>\n",
              "  </thead>\n",
              "  <tbody>\n",
              "    <tr>\n",
              "      <th>3082</th>\n",
              "      <td>1474283402</td>\n",
              "      <td>9/19/2016 12:00:00 AM</td>\n",
              "      <td>01:10:02</td>\n",
              "      <td>1.2</td>\n",
              "      <td>48</td>\n",
              "      <td>30.4</td>\n",
              "      <td>47</td>\n",
              "      <td>191.1</td>\n",
              "      <td>7.9</td>\n",
              "      <td>06:11:00</td>\n",
              "      <td>18:22:00</td>\n",
              "    </tr>\n",
              "    <tr>\n",
              "      <th>23742</th>\n",
              "      <td>1478229024</td>\n",
              "      <td>11/3/2016 12:00:00 AM</td>\n",
              "      <td>17:10:24</td>\n",
              "      <td>80.0</td>\n",
              "      <td>61</td>\n",
              "      <td>30.4</td>\n",
              "      <td>50</td>\n",
              "      <td>27.2</td>\n",
              "      <td>6.8</td>\n",
              "      <td>06:25:00</td>\n",
              "      <td>17:47:00</td>\n",
              "    </tr>\n",
              "    <tr>\n",
              "      <th>22986</th>\n",
              "      <td>1478456402</td>\n",
              "      <td>11/6/2016 12:00:00 AM</td>\n",
              "      <td>08:20:02</td>\n",
              "      <td>455.5</td>\n",
              "      <td>60</td>\n",
              "      <td>30.5</td>\n",
              "      <td>18</td>\n",
              "      <td>35.8</td>\n",
              "      <td>9.0</td>\n",
              "      <td>06:26:00</td>\n",
              "      <td>17:46:00</td>\n",
              "    </tr>\n",
              "    <tr>\n",
              "      <th>3302</th>\n",
              "      <td>1474213203</td>\n",
              "      <td>9/18/2016 12:00:00 AM</td>\n",
              "      <td>05:40:03</td>\n",
              "      <td>1.2</td>\n",
              "      <td>50</td>\n",
              "      <td>30.4</td>\n",
              "      <td>100</td>\n",
              "      <td>179.1</td>\n",
              "      <td>3.4</td>\n",
              "      <td>06:11:00</td>\n",
              "      <td>18:23:00</td>\n",
              "    </tr>\n",
              "    <tr>\n",
              "      <th>17075</th>\n",
              "      <td>1480231217</td>\n",
              "      <td>11/26/2016 12:00:00 AM</td>\n",
              "      <td>21:20:17</td>\n",
              "      <td>1.2</td>\n",
              "      <td>45</td>\n",
              "      <td>30.5</td>\n",
              "      <td>81</td>\n",
              "      <td>95.7</td>\n",
              "      <td>3.4</td>\n",
              "      <td>06:38:00</td>\n",
              "      <td>17:42:00</td>\n",
              "    </tr>\n",
              "    <tr>\n",
              "      <th>...</th>\n",
              "      <td>...</td>\n",
              "      <td>...</td>\n",
              "      <td>...</td>\n",
              "      <td>...</td>\n",
              "      <td>...</td>\n",
              "      <td>...</td>\n",
              "      <td>...</td>\n",
              "      <td>...</td>\n",
              "      <td>...</td>\n",
              "      <td>...</td>\n",
              "      <td>...</td>\n",
              "    </tr>\n",
              "    <tr>\n",
              "      <th>13696</th>\n",
              "      <td>1476093625</td>\n",
              "      <td>10/10/2016 12:00:00 AM</td>\n",
              "      <td>00:00:25</td>\n",
              "      <td>1.3</td>\n",
              "      <td>49</td>\n",
              "      <td>30.4</td>\n",
              "      <td>87</td>\n",
              "      <td>178.3</td>\n",
              "      <td>6.8</td>\n",
              "      <td>06:16:00</td>\n",
              "      <td>18:03:00</td>\n",
              "    </tr>\n",
              "    <tr>\n",
              "      <th>23895</th>\n",
              "      <td>1478183118</td>\n",
              "      <td>11/3/2016 12:00:00 AM</td>\n",
              "      <td>04:25:18</td>\n",
              "      <td>1.2</td>\n",
              "      <td>45</td>\n",
              "      <td>30.4</td>\n",
              "      <td>38</td>\n",
              "      <td>185.8</td>\n",
              "      <td>6.8</td>\n",
              "      <td>06:25:00</td>\n",
              "      <td>17:47:00</td>\n",
              "    </tr>\n",
              "    <tr>\n",
              "      <th>5692</th>\n",
              "      <td>1473264623</td>\n",
              "      <td>9/7/2016 12:00:00 AM</td>\n",
              "      <td>06:10:23</td>\n",
              "      <td>8.1</td>\n",
              "      <td>45</td>\n",
              "      <td>30.4</td>\n",
              "      <td>78</td>\n",
              "      <td>164.1</td>\n",
              "      <td>3.4</td>\n",
              "      <td>06:08:00</td>\n",
              "      <td>18:33:00</td>\n",
              "    </tr>\n",
              "    <tr>\n",
              "      <th>30584</th>\n",
              "      <td>1481441761</td>\n",
              "      <td>12/10/2016 12:00:00 AM</td>\n",
              "      <td>21:36:01</td>\n",
              "      <td>1.3</td>\n",
              "      <td>48</td>\n",
              "      <td>30.4</td>\n",
              "      <td>102</td>\n",
              "      <td>85.4</td>\n",
              "      <td>2.2</td>\n",
              "      <td>06:47:00</td>\n",
              "      <td>17:44:00</td>\n",
              "    </tr>\n",
              "    <tr>\n",
              "      <th>30674</th>\n",
              "      <td>1481414740</td>\n",
              "      <td>12/10/2016 12:00:00 AM</td>\n",
              "      <td>14:05:40</td>\n",
              "      <td>84.4</td>\n",
              "      <td>52</td>\n",
              "      <td>30.4</td>\n",
              "      <td>100</td>\n",
              "      <td>356.4</td>\n",
              "      <td>7.9</td>\n",
              "      <td>06:47:00</td>\n",
              "      <td>17:44:00</td>\n",
              "    </tr>\n",
              "  </tbody>\n",
              "</table>\n",
              "<p>40 rows × 11 columns</p>\n",
              "</div>"
            ],
            "text/plain": [
              "         UNIXTime                    Data  ... TimeSunRise  TimeSunSet\n",
              "3082   1474283402   9/19/2016 12:00:00 AM  ...    06:11:00    18:22:00\n",
              "23742  1478229024   11/3/2016 12:00:00 AM  ...    06:25:00    17:47:00\n",
              "22986  1478456402   11/6/2016 12:00:00 AM  ...    06:26:00    17:46:00\n",
              "3302   1474213203   9/18/2016 12:00:00 AM  ...    06:11:00    18:23:00\n",
              "17075  1480231217  11/26/2016 12:00:00 AM  ...    06:38:00    17:42:00\n",
              "...           ...                     ...  ...         ...         ...\n",
              "13696  1476093625  10/10/2016 12:00:00 AM  ...    06:16:00    18:03:00\n",
              "23895  1478183118   11/3/2016 12:00:00 AM  ...    06:25:00    17:47:00\n",
              "5692   1473264623    9/7/2016 12:00:00 AM  ...    06:08:00    18:33:00\n",
              "30584  1481441761  12/10/2016 12:00:00 AM  ...    06:47:00    17:44:00\n",
              "30674  1481414740  12/10/2016 12:00:00 AM  ...    06:47:00    17:44:00\n",
              "\n",
              "[40 rows x 11 columns]"
            ]
          },
          "metadata": {
            "tags": []
          },
          "execution_count": 43
        }
      ]
    },
    {
      "cell_type": "markdown",
      "metadata": {
        "id": "c28PYOGaauV0",
        "colab_type": "text"
      },
      "source": [
        "##Adding some features to the dataset"
      ]
    },
    {
      "cell_type": "code",
      "metadata": {
        "id": "ymGkD9ZPaxro",
        "colab_type": "code",
        "colab": {}
      },
      "source": [
        "#@title Adding feature is_daylight that define measurement time is either daylight (1) or nighttime (0)\n",
        "is_daylight = [data['Time'].values[x] > data['TimeSunRise'].values[x] and data['Time'].values[x] < data['TimeSunSet'].values[x] for x in range(len(data))]\n",
        "data['is_daylight'] = is_daylight\n",
        "data['is_daylight'] = data['is_daylight'].astype('float')"
      ],
      "execution_count": 0,
      "outputs": []
    },
    {
      "cell_type": "markdown",
      "metadata": {
        "id": "yQeavaKNayAj",
        "colab_type": "text"
      },
      "source": [
        "##Data Preconditioning"
      ]
    },
    {
      "cell_type": "code",
      "metadata": {
        "id": "lbKi6_Xcbn6M",
        "colab_type": "code",
        "outputId": "966deccb-2381-4c3b-e8be-0596cb87467c",
        "colab": {
          "base_uri": "https://localhost:8080/",
          "height": 53
        }
      },
      "source": [
        "#@title Splitting data to train set and test set\n",
        "test_split = 0.2 # percentage of train set to be considered as test set\n",
        "data_test = data[:][0:round((len(data)*test_split))]\n",
        "data_train = data[:][round((len(data)*test_split)):]\n",
        "print('train set length:', str(len(data_train)), '\\ntest set length:', \n",
        "      str(len(data_test)))"
      ],
      "execution_count": 45,
      "outputs": [
        {
          "output_type": "stream",
          "text": [
            "train set length: 26149 \n",
            "test set length: 6537\n"
          ],
          "name": "stdout"
        }
      ]
    },
    {
      "cell_type": "code",
      "metadata": {
        "id": "5v5LYeP_dECa",
        "colab_type": "code",
        "outputId": "5ea87423-96f8-4bf0-e701-b0521ab8d74c",
        "colab": {
          "base_uri": "https://localhost:8080/",
          "height": 35
        }
      },
      "source": [
        "#@title Normalize values \n",
        "\n",
        "# Calculate the Z-scores of each column in the training set:\n",
        "data_train_mean = data_train.select_dtypes(include=['float64', 'int64']).mean()\n",
        "data_train_std = data_train.select_dtypes(include=['float64', 'int64']).std()\n",
        "data_train_norm = (data_train.select_dtypes(include=['float64', 'int64']) \n",
        "                   - data_train_mean)/data_train_std\n",
        "\n",
        "# Calculate the Z-scores of each column in the test set.\n",
        "data_test_mean = data_test.select_dtypes(include=['float64', 'int64']).mean()\n",
        "data_test_std = data_test.select_dtypes(include=['float64', 'int64']).std()\n",
        "data_test_norm = (data_test.select_dtypes(include=['float64', 'int64'])\n",
        "                  - data_test_mean)/data_test_std\n",
        "\n",
        "print(\"Normalized the values.\")"
      ],
      "execution_count": 46,
      "outputs": [
        {
          "output_type": "stream",
          "text": [
            "Normalized the values.\n"
          ],
          "name": "stdout"
        }
      ]
    },
    {
      "cell_type": "markdown",
      "metadata": {
        "id": "LKdhPgg5eRFI",
        "colab_type": "text"
      },
      "source": [
        "## Represent data\n",
        "\n",
        "The following code cell creates a feature layer containing three features:\n",
        "\n",
        "* `Temperature`\n",
        "* `Pressure`\n",
        "* `is_daylight`"
      ]
    },
    {
      "cell_type": "code",
      "metadata": {
        "id": "6bDp6l3KeEgb",
        "colab_type": "code",
        "colab": {}
      },
      "source": [
        "# Create empty feature column list\n",
        "feature_columns = []\n",
        "\n",
        "# Represent Temperature as a floating-point value.\n",
        "temperature = tf.feature_column.numeric_column(\"Temperature\")\n",
        "feature_columns.append(temperature)\n",
        "\n",
        "# Represent Pressure as a floating-point value.\n",
        "pressure = tf.feature_column.numeric_column(\"Pressure\")\n",
        "feature_columns.append(pressure)\n",
        "\n",
        "# Represent is_daylight as a floating-point value.\n",
        "daylight = tf.feature_column.numeric_column(\"is_daylight\")\n",
        "feature_columns.append(daylight)\n",
        "\n",
        "# Convert the list of feature columns into a layer that will later be fed into\n",
        "# the model. \n",
        "my_feature_layer = tf.keras.layers.DenseFeatures(feature_columns)"
      ],
      "execution_count": 0,
      "outputs": []
    },
    {
      "cell_type": "markdown",
      "metadata": {
        "id": "MMAji1PSfPCt",
        "colab_type": "text"
      },
      "source": [
        "## Build a linear regression model"
      ]
    },
    {
      "cell_type": "code",
      "metadata": {
        "id": "vyOjMo-7ei25",
        "colab_type": "code",
        "outputId": "fef4da55-c24b-42d6-eaa4-64821ba234b3",
        "colab": {
          "base_uri": "https://localhost:8080/",
          "height": 35
        }
      },
      "source": [
        "#@title Define plotting function\n",
        "\n",
        "def plot_the_loss_curve(epochs, mse):\n",
        "  \"\"\"Plot a curve of loss vs. epoch.\"\"\"\n",
        "\n",
        "  plt.figure()\n",
        "  plt.xlabel(\"Epoch\")\n",
        "  plt.ylabel(\"Mean Squared Error\")\n",
        "\n",
        "  plt.plot(epochs, mse, label=\"Loss\")\n",
        "  plt.legend()\n",
        "  plt.ylim([mse.min()*0.95, mse.max() * 1.03])\n",
        "  plt.show()  \n",
        "\n",
        "print(\"Defined the plot_the_loss_curve function.\")"
      ],
      "execution_count": 48,
      "outputs": [
        {
          "output_type": "stream",
          "text": [
            "Defined the plot_the_loss_curve function.\n"
          ],
          "name": "stdout"
        }
      ]
    },
    {
      "cell_type": "code",
      "metadata": {
        "id": "gEsYOPPhetG3",
        "colab_type": "code",
        "outputId": "b3066a0b-a955-4bf7-9d19-83fdf2c81873",
        "colab": {
          "base_uri": "https://localhost:8080/",
          "height": 35
        }
      },
      "source": [
        "#@title Define functions to create and train a linear regression model\n",
        "def create_model(my_learning_rate, feature_layer):\n",
        "  \"\"\"Create and compile a simple linear regression model.\"\"\"\n",
        "  # Most simple tf.keras models are sequential.\n",
        "  model = tf.keras.models.Sequential()\n",
        "\n",
        "  # Add the layer containing the feature columns to the model.\n",
        "  model.add(feature_layer)\n",
        "\n",
        "  # Add one linear layer to the model to yield a simple linear regressor.\n",
        "  model.add(tf.keras.layers.Dense(units=1, input_shape=(1,)))\n",
        "\n",
        "  # Construct the layers into a model that TensorFlow can execute.\n",
        "  model.compile(optimizer=tf.keras.optimizers.RMSprop(lr=my_learning_rate),\n",
        "                loss=\"mean_squared_error\",\n",
        "                metrics=[tf.keras.metrics.MeanSquaredError()])\n",
        "\n",
        "  return model           \n",
        "\n",
        "\n",
        "def train_model(model, dataset, epochs, batch_size, label_name):\n",
        "  \"\"\"Feed a dataset into the model in order to train it.\"\"\"\n",
        "\n",
        "  # Split the dataset into features and label.\n",
        "  features = {name:np.array(value) for name, value in dataset.items()}\n",
        "  label = np.array(features.pop(label_name))\n",
        "  history = model.fit(x=features, y=label, batch_size=batch_size,\n",
        "                      epochs=epochs, shuffle=True)\n",
        "\n",
        "  # Get details that will be useful for plotting the loss curve.\n",
        "  epochs = history.epoch\n",
        "  hist = pd.DataFrame(history.history)\n",
        "  rmse = hist[\"mean_squared_error\"]\n",
        "\n",
        "  return epochs, rmse   \n",
        "\n",
        "print(\"Defined the create_model and train_model functions.\")"
      ],
      "execution_count": 49,
      "outputs": [
        {
          "output_type": "stream",
          "text": [
            "Defined the create_model and train_model functions.\n"
          ],
          "name": "stdout"
        }
      ]
    },
    {
      "cell_type": "code",
      "metadata": {
        "id": "wAJuzbBmexB4",
        "colab_type": "code",
        "cellView": "both",
        "outputId": "1a180168-a41d-4230-ceed-d804607a6687",
        "colab": {
          "base_uri": "https://localhost:8080/",
          "height": 1000
        }
      },
      "source": [
        "#@title Train the model as linear regression\n",
        "# The following variables are the hyperparameters.\n",
        "learning_rate = 0.01\n",
        "epochs = 50\n",
        "batch_size = 1000\n",
        "label_name = \"Radiation\"\n",
        "\n",
        "# Establish the model's topography.\n",
        "my_model = create_model(learning_rate, my_feature_layer)\n",
        "\n",
        "# Train the model on the normalized training set.\n",
        "epochs, mse = train_model(my_model, data_train_norm, epochs, batch_size, label_name)\n",
        "plot_the_loss_curve(epochs, mse)\n",
        "\n",
        "test_features = {name:np.array(value) for name, value in data_test_norm.items()}\n",
        "test_label = np.array(test_features.pop(label_name)) # isolate the label\n",
        "print(\"\\n Evaluate the linear regression model against the test set:\")\n",
        "my_model.evaluate(x = test_features, y = test_label, batch_size=batch_size)"
      ],
      "execution_count": 52,
      "outputs": [
        {
          "output_type": "stream",
          "text": [
            "Epoch 1/50\n",
            "27/27 [==============================] - 0s 2ms/step - loss: 0.5094 - mean_squared_error: 0.5142\n",
            "Epoch 2/50\n",
            "27/27 [==============================] - 0s 2ms/step - loss: 0.4113 - mean_squared_error: 0.4130\n",
            "Epoch 3/50\n",
            "27/27 [==============================] - 0s 2ms/step - loss: 0.3792 - mean_squared_error: 0.3790\n",
            "Epoch 4/50\n",
            "27/27 [==============================] - 0s 2ms/step - loss: 0.3760 - mean_squared_error: 0.3739\n",
            "Epoch 5/50\n",
            "27/27 [==============================] - 0s 2ms/step - loss: 0.3760 - mean_squared_error: 0.3739\n",
            "Epoch 6/50\n",
            "27/27 [==============================] - 0s 2ms/step - loss: 0.3721 - mean_squared_error: 0.3738\n",
            "Epoch 7/50\n",
            "27/27 [==============================] - 0s 2ms/step - loss: 0.3736 - mean_squared_error: 0.3736\n",
            "Epoch 8/50\n",
            "27/27 [==============================] - 0s 2ms/step - loss: 0.3735 - mean_squared_error: 0.3739\n",
            "Epoch 9/50\n",
            "27/27 [==============================] - 0s 2ms/step - loss: 0.3732 - mean_squared_error: 0.3735\n",
            "Epoch 10/50\n",
            "27/27 [==============================] - 0s 2ms/step - loss: 0.3738 - mean_squared_error: 0.3738\n",
            "Epoch 11/50\n",
            "27/27 [==============================] - 0s 2ms/step - loss: 0.3721 - mean_squared_error: 0.3736\n",
            "Epoch 12/50\n",
            "27/27 [==============================] - 0s 2ms/step - loss: 0.3721 - mean_squared_error: 0.3738\n",
            "Epoch 13/50\n",
            "27/27 [==============================] - 0s 2ms/step - loss: 0.3735 - mean_squared_error: 0.3737\n",
            "Epoch 14/50\n",
            "27/27 [==============================] - 0s 3ms/step - loss: 0.3764 - mean_squared_error: 0.3738\n",
            "Epoch 15/50\n",
            "27/27 [==============================] - 0s 2ms/step - loss: 0.3717 - mean_squared_error: 0.3738\n",
            "Epoch 16/50\n",
            "27/27 [==============================] - 0s 2ms/step - loss: 0.3732 - mean_squared_error: 0.3737\n",
            "Epoch 17/50\n",
            "27/27 [==============================] - 0s 2ms/step - loss: 0.3751 - mean_squared_error: 0.3738\n",
            "Epoch 18/50\n",
            "27/27 [==============================] - 0s 2ms/step - loss: 0.3722 - mean_squared_error: 0.3738\n",
            "Epoch 19/50\n",
            "27/27 [==============================] - 0s 2ms/step - loss: 0.3702 - mean_squared_error: 0.3737\n",
            "Epoch 20/50\n",
            "27/27 [==============================] - 0s 2ms/step - loss: 0.3735 - mean_squared_error: 0.3740\n",
            "Epoch 21/50\n",
            "27/27 [==============================] - 0s 2ms/step - loss: 0.3740 - mean_squared_error: 0.3738\n",
            "Epoch 22/50\n",
            "27/27 [==============================] - 0s 2ms/step - loss: 0.3729 - mean_squared_error: 0.3739\n",
            "Epoch 23/50\n",
            "27/27 [==============================] - 0s 2ms/step - loss: 0.3746 - mean_squared_error: 0.3737\n",
            "Epoch 24/50\n",
            "27/27 [==============================] - 0s 2ms/step - loss: 0.3740 - mean_squared_error: 0.3738\n",
            "Epoch 25/50\n",
            "27/27 [==============================] - 0s 2ms/step - loss: 0.3735 - mean_squared_error: 0.3737\n",
            "Epoch 26/50\n",
            "27/27 [==============================] - 0s 2ms/step - loss: 0.3734 - mean_squared_error: 0.3735\n",
            "Epoch 27/50\n",
            "27/27 [==============================] - 0s 2ms/step - loss: 0.3716 - mean_squared_error: 0.3739\n",
            "Epoch 28/50\n",
            "27/27 [==============================] - 0s 2ms/step - loss: 0.3746 - mean_squared_error: 0.3737\n",
            "Epoch 29/50\n",
            "27/27 [==============================] - 0s 2ms/step - loss: 0.3749 - mean_squared_error: 0.3738\n",
            "Epoch 30/50\n",
            "27/27 [==============================] - 0s 2ms/step - loss: 0.3719 - mean_squared_error: 0.3736\n",
            "Epoch 31/50\n",
            "27/27 [==============================] - 0s 2ms/step - loss: 0.3762 - mean_squared_error: 0.3737\n",
            "Epoch 32/50\n",
            "27/27 [==============================] - 0s 2ms/step - loss: 0.3772 - mean_squared_error: 0.3737\n",
            "Epoch 33/50\n",
            "27/27 [==============================] - 0s 2ms/step - loss: 0.3719 - mean_squared_error: 0.3738\n",
            "Epoch 34/50\n",
            "27/27 [==============================] - 0s 2ms/step - loss: 0.3735 - mean_squared_error: 0.3740\n",
            "Epoch 35/50\n",
            "27/27 [==============================] - 0s 2ms/step - loss: 0.3738 - mean_squared_error: 0.3741\n",
            "Epoch 36/50\n",
            "27/27 [==============================] - 0s 2ms/step - loss: 0.3732 - mean_squared_error: 0.3737\n",
            "Epoch 37/50\n",
            "27/27 [==============================] - 0s 2ms/step - loss: 0.3767 - mean_squared_error: 0.3737\n",
            "Epoch 38/50\n",
            "27/27 [==============================] - 0s 2ms/step - loss: 0.3724 - mean_squared_error: 0.3737\n",
            "Epoch 39/50\n",
            "27/27 [==============================] - 0s 2ms/step - loss: 0.3750 - mean_squared_error: 0.3739\n",
            "Epoch 40/50\n",
            "27/27 [==============================] - 0s 2ms/step - loss: 0.3717 - mean_squared_error: 0.3736\n",
            "Epoch 41/50\n",
            "27/27 [==============================] - 0s 2ms/step - loss: 0.3747 - mean_squared_error: 0.3739\n",
            "Epoch 42/50\n",
            "27/27 [==============================] - 0s 2ms/step - loss: 0.3732 - mean_squared_error: 0.3740\n",
            "Epoch 43/50\n",
            "27/27 [==============================] - 0s 2ms/step - loss: 0.3744 - mean_squared_error: 0.3738\n",
            "Epoch 44/50\n",
            "27/27 [==============================] - 0s 2ms/step - loss: 0.3756 - mean_squared_error: 0.3737\n",
            "Epoch 45/50\n",
            "27/27 [==============================] - 0s 2ms/step - loss: 0.3762 - mean_squared_error: 0.3738\n",
            "Epoch 46/50\n",
            "27/27 [==============================] - 0s 2ms/step - loss: 0.3735 - mean_squared_error: 0.3739\n",
            "Epoch 47/50\n",
            "27/27 [==============================] - 0s 2ms/step - loss: 0.3747 - mean_squared_error: 0.3737\n",
            "Epoch 48/50\n",
            "27/27 [==============================] - 0s 2ms/step - loss: 0.3719 - mean_squared_error: 0.3737\n",
            "Epoch 49/50\n",
            "27/27 [==============================] - 0s 2ms/step - loss: 0.3762 - mean_squared_error: 0.3737\n",
            "Epoch 50/50\n",
            "27/27 [==============================] - 0s 2ms/step - loss: 0.3744 - mean_squared_error: 0.3738\n"
          ],
          "name": "stdout"
        },
        {
          "output_type": "display_data",
          "data": {
            "image/png": "[encoded data removed]",
            "text/plain": [
              "<Figure size 432x288 with 1 Axes>"
            ]
          },
          "metadata": {
            "tags": []
          }
        },
        {
          "output_type": "stream",
          "text": [
            "\n",
            " Evaluate the linear regression model against the test set:\n",
            "7/7 [==============================] - 0s 2ms/step - loss: 0.3697 - mean_squared_error: 0.3698\n"
          ],
          "name": "stdout"
        },
        {
          "output_type": "execute_result",
          "data": {
            "text/plain": [
              "[0.36969563364982605, 0.36979421973228455]"
            ]
          },
          "metadata": {
            "tags": []
          },
          "execution_count": 52
        }
      ]
    }
  ]
}