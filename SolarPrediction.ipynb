{
  "nbformat": 4,
  "nbformat_minor": 0,
  "metadata": {
    "colab": {
      "name": "SolarPrediction.ipynb",
      "provenance": [],
      "include_colab_link": true
    },
    "kernelspec": {
      "name": "python3",
      "display_name": "Python 3"
    }
  },
  "cells": [
    {
      "cell_type": "markdown",
      "metadata": {
        "id": "view-in-github",
        "colab_type": "text"
      },
      "source": [
        "<a href=\"https://colab.research.google.com/github/mrch-hub/bangkit1/blob/test_feature_3/SolarPrediction.ipynb\" target=\"_parent\"><img src=\"https://colab.research.google.com/assets/colab-badge.svg\" alt=\"Open In Colab\"/></a>"
      ]
    },
    {
      "cell_type": "markdown",
      "metadata": {
        "id": "f5bF6G8ff6Zq",
        "colab_type": "text"
      },
      "source": [
        "##Solar radiation intensity prediction using TensorFlow"
      ]
    },
    {
      "cell_type": "code",
      "metadata": {
        "id": "C6pwJrUZ9rYW",
        "colab_type": "code",
        "outputId": "6a289da9-924b-4a89-fdb3-eb987e32fa59",
        "colab": {
          "base_uri": "https://localhost:8080/",
          "height": 55
        }
      },
      "source": [
        "\"\"\"A python code for predicting solar radiation\n",
        "intensity using TensorFlow. Created for \n",
        "5th Bangk!t assignment.\n",
        "Collaborators: Marcellinus Chrisnada, Muhammad\n",
        "Harits Hafidza, Mochammad Randy Caesario H.\"\"\""
      ],
      "execution_count": 0,
      "outputs": [
        {
          "output_type": "execute_result",
          "data": {
            "text/plain": [
              "'A python code for predicting solar radiation\\nintensity using TensorFlow. Created for \\n5th Bangk!t assignment.\\nCollaborators: Marcellinus Chrisnada, Muhammad\\nHarits Hafidza, Mochammad Randy Caesario H.'"
            ]
          },
          "metadata": {
            "tags": []
          },
          "execution_count": 40
        }
      ]
    },
    {
      "cell_type": "markdown",
      "metadata": {
        "id": "yb2tFywNgWIn",
        "colab_type": "text"
      },
      "source": [
        "##Initialization"
      ]
    },
    {
      "cell_type": "code",
      "metadata": {
        "id": "d8ekWJYDbTzp",
        "colab_type": "code",
        "cellView": "form",
        "colab": {}
      },
      "source": [
        "#@title Run on TensorFlow 2.x\n",
        "%tensorflow_version 2.x\n",
        "from __future__ import absolute_import, division, print_function, unicode_literals"
      ],
      "execution_count": 0,
      "outputs": []
    },
    {
      "cell_type": "code",
      "metadata": {
        "id": "oPY5vbLWXmKN",
        "colab_type": "code",
        "cellView": "both",
        "outputId": "38b23989-eb4b-401d-ac49-84235fa1902e",
        "colab": {
          "base_uri": "https://localhost:8080/",
          "height": 68
        }
      },
      "source": [
        "#@title Import relevant modules\n",
        "import numpy as np\n",
        "import pandas as pd\n",
        "import tensorflow as tf\n",
        "from tensorflow.keras import layers\n",
        "from matplotlib import pyplot as plt\n",
        "import seaborn as sns\n",
        "\n",
        "# Adjust the granularity of reporting. \n",
        "pd.options.display.max_rows = 10\n",
        "pd.options.display.float_format = \"{:.1f}\".format\n",
        "\n",
        "print(\"Imported modules.\")"
      ],
      "execution_count": 3,
      "outputs": [
        {
          "output_type": "stream",
          "text": [
            "Imported modules.\n"
          ],
          "name": "stdout"
        },
        {
          "output_type": "stream",
          "text": [
            "/usr/local/lib/python3.6/dist-packages/statsmodels/tools/_testing.py:19: FutureWarning: pandas.util.testing is deprecated. Use the functions in the public API at pandas.testing instead.\n",
            "  import pandas.util.testing as tm\n"
          ],
          "name": "stderr"
        }
      ]
    },
    {
      "cell_type": "code",
      "metadata": {
        "id": "oRlH8pQwbSpE",
        "colab_type": "code",
        "outputId": "18c86cbd-c595-48cd-87b8-21efb20043c1",
        "colab": {
          "base_uri": "https://localhost:8080/",
          "height": 419
        }
      },
      "source": [
        "#@title Load dataset\n",
        "data = pd.read_csv('https://raw.githubusercontent.com/mrch-hub/bangkit1/master/SolarPrediction.csv')\n",
        "data = data.reindex(np.random.permutation(data.index)) # shuffle dataset\n",
        "data = data.rename(columns={'WindDirection(Degrees)':'WindDirection'})\n",
        "data.head(15)"
      ],
      "execution_count": 4,
      "outputs": [
        {
          "output_type": "execute_result",
          "data": {
            "text/html": [
              "<div>\n",
              "<style scoped>\n",
              "    .dataframe tbody tr th:only-of-type {\n",
              "        vertical-align: middle;\n",
              "    }\n",
              "\n",
              "    .dataframe tbody tr th {\n",
              "        vertical-align: top;\n",
              "    }\n",
              "\n",
              "    .dataframe thead th {\n",
              "        text-align: right;\n",
              "    }\n",
              "</style>\n",
              "<table border=\"1\" class=\"dataframe\">\n",
              "  <thead>\n",
              "    <tr style=\"text-align: right;\">\n",
              "      <th></th>\n",
              "      <th>UNIXTime</th>\n",
              "      <th>Data</th>\n",
              "      <th>Time</th>\n",
              "      <th>Radiation</th>\n",
              "      <th>Temperature</th>\n",
              "      <th>Pressure</th>\n",
              "      <th>Humidity</th>\n",
              "      <th>WindDirection</th>\n",
              "      <th>Speed</th>\n",
              "      <th>TimeSunRise</th>\n",
              "      <th>TimeSunSet</th>\n",
              "    </tr>\n",
              "  </thead>\n",
              "  <tbody>\n",
              "    <tr>\n",
              "      <th>5631</th>\n",
              "      <td>1473297624</td>\n",
              "      <td>9/7/2016 12:00:00 AM</td>\n",
              "      <td>15:20:24</td>\n",
              "      <td>747.8</td>\n",
              "      <td>61</td>\n",
              "      <td>30.4</td>\n",
              "      <td>71</td>\n",
              "      <td>36.9</td>\n",
              "      <td>6.8</td>\n",
              "      <td>06:08:00</td>\n",
              "      <td>18:33:00</td>\n",
              "    </tr>\n",
              "    <tr>\n",
              "      <th>18987</th>\n",
              "      <td>1479656720</td>\n",
              "      <td>11/20/2016 12:00:00 AM</td>\n",
              "      <td>05:45:20</td>\n",
              "      <td>1.2</td>\n",
              "      <td>48</td>\n",
              "      <td>30.4</td>\n",
              "      <td>102</td>\n",
              "      <td>78.0</td>\n",
              "      <td>7.9</td>\n",
              "      <td>06:34:00</td>\n",
              "      <td>17:42:00</td>\n",
              "    </tr>\n",
              "    <tr>\n",
              "      <th>13548</th>\n",
              "      <td>1476140120</td>\n",
              "      <td>10/10/2016 12:00:00 AM</td>\n",
              "      <td>12:55:20</td>\n",
              "      <td>1001.0</td>\n",
              "      <td>63</td>\n",
              "      <td>30.4</td>\n",
              "      <td>59</td>\n",
              "      <td>12.1</td>\n",
              "      <td>4.5</td>\n",
              "      <td>06:16:00</td>\n",
              "      <td>18:03:00</td>\n",
              "    </tr>\n",
              "    <tr>\n",
              "      <th>9021</th>\n",
              "      <td>1477512021</td>\n",
              "      <td>10/26/2016 12:00:00 AM</td>\n",
              "      <td>10:00:21</td>\n",
              "      <td>808.6</td>\n",
              "      <td>64</td>\n",
              "      <td>30.4</td>\n",
              "      <td>20</td>\n",
              "      <td>140.3</td>\n",
              "      <td>5.6</td>\n",
              "      <td>06:21:00</td>\n",
              "      <td>17:52:00</td>\n",
              "    </tr>\n",
              "    <tr>\n",
              "      <th>16019</th>\n",
              "      <td>1475382620</td>\n",
              "      <td>10/1/2016 12:00:00 AM</td>\n",
              "      <td>18:30:20</td>\n",
              "      <td>1.3</td>\n",
              "      <td>52</td>\n",
              "      <td>30.4</td>\n",
              "      <td>102</td>\n",
              "      <td>38.8</td>\n",
              "      <td>4.5</td>\n",
              "      <td>06:13:00</td>\n",
              "      <td>18:11:00</td>\n",
              "    </tr>\n",
              "    <tr>\n",
              "      <th>...</th>\n",
              "      <td>...</td>\n",
              "      <td>...</td>\n",
              "      <td>...</td>\n",
              "      <td>...</td>\n",
              "      <td>...</td>\n",
              "      <td>...</td>\n",
              "      <td>...</td>\n",
              "      <td>...</td>\n",
              "      <td>...</td>\n",
              "      <td>...</td>\n",
              "      <td>...</td>\n",
              "    </tr>\n",
              "    <tr>\n",
              "      <th>27085</th>\n",
              "      <td>1482494458</td>\n",
              "      <td>12/23/2016 12:00:00 AM</td>\n",
              "      <td>02:00:58</td>\n",
              "      <td>1.3</td>\n",
              "      <td>48</td>\n",
              "      <td>30.4</td>\n",
              "      <td>26</td>\n",
              "      <td>156.3</td>\n",
              "      <td>3.4</td>\n",
              "      <td>06:54:00</td>\n",
              "      <td>17:50:00</td>\n",
              "    </tr>\n",
              "    <tr>\n",
              "      <th>27318</th>\n",
              "      <td>1482424250</td>\n",
              "      <td>12/22/2016 12:00:00 AM</td>\n",
              "      <td>06:30:50</td>\n",
              "      <td>1.2</td>\n",
              "      <td>45</td>\n",
              "      <td>30.4</td>\n",
              "      <td>36</td>\n",
              "      <td>187.0</td>\n",
              "      <td>10.1</td>\n",
              "      <td>06:53:00</td>\n",
              "      <td>17:49:00</td>\n",
              "    </tr>\n",
              "    <tr>\n",
              "      <th>3177</th>\n",
              "      <td>1474252503</td>\n",
              "      <td>9/18/2016 12:00:00 AM</td>\n",
              "      <td>16:35:03</td>\n",
              "      <td>76.8</td>\n",
              "      <td>54</td>\n",
              "      <td>30.4</td>\n",
              "      <td>100</td>\n",
              "      <td>36.1</td>\n",
              "      <td>4.5</td>\n",
              "      <td>06:11:00</td>\n",
              "      <td>18:23:00</td>\n",
              "    </tr>\n",
              "    <tr>\n",
              "      <th>19552</th>\n",
              "      <td>1479486918</td>\n",
              "      <td>11/18/2016 12:00:00 AM</td>\n",
              "      <td>06:35:18</td>\n",
              "      <td>7.4</td>\n",
              "      <td>46</td>\n",
              "      <td>30.4</td>\n",
              "      <td>52</td>\n",
              "      <td>144.9</td>\n",
              "      <td>9.0</td>\n",
              "      <td>06:33:00</td>\n",
              "      <td>17:43:00</td>\n",
              "    </tr>\n",
              "    <tr>\n",
              "      <th>20691</th>\n",
              "      <td>1479144904</td>\n",
              "      <td>11/14/2016 12:00:00 AM</td>\n",
              "      <td>07:35:04</td>\n",
              "      <td>22.4</td>\n",
              "      <td>48</td>\n",
              "      <td>30.5</td>\n",
              "      <td>63</td>\n",
              "      <td>83.9</td>\n",
              "      <td>6.8</td>\n",
              "      <td>06:31:00</td>\n",
              "      <td>17:43:00</td>\n",
              "    </tr>\n",
              "  </tbody>\n",
              "</table>\n",
              "<p>15 rows × 11 columns</p>\n",
              "</div>"
            ],
            "text/plain": [
              "         UNIXTime                    Data  ... TimeSunRise  TimeSunSet\n",
              "5631   1473297624    9/7/2016 12:00:00 AM  ...    06:08:00    18:33:00\n",
              "18987  1479656720  11/20/2016 12:00:00 AM  ...    06:34:00    17:42:00\n",
              "13548  1476140120  10/10/2016 12:00:00 AM  ...    06:16:00    18:03:00\n",
              "9021   1477512021  10/26/2016 12:00:00 AM  ...    06:21:00    17:52:00\n",
              "16019  1475382620   10/1/2016 12:00:00 AM  ...    06:13:00    18:11:00\n",
              "...           ...                     ...  ...         ...         ...\n",
              "27085  1482494458  12/23/2016 12:00:00 AM  ...    06:54:00    17:50:00\n",
              "27318  1482424250  12/22/2016 12:00:00 AM  ...    06:53:00    17:49:00\n",
              "3177   1474252503   9/18/2016 12:00:00 AM  ...    06:11:00    18:23:00\n",
              "19552  1479486918  11/18/2016 12:00:00 AM  ...    06:33:00    17:43:00\n",
              "20691  1479144904  11/14/2016 12:00:00 AM  ...    06:31:00    17:43:00\n",
              "\n",
              "[15 rows x 11 columns]"
            ]
          },
          "metadata": {
            "tags": []
          },
          "execution_count": 4
        }
      ]
    },
    {
      "cell_type": "markdown",
      "metadata": {
        "id": "c28PYOGaauV0",
        "colab_type": "text"
      },
      "source": [
        "##Adding some features to the dataset"
      ]
    },
    {
      "cell_type": "code",
      "metadata": {
        "id": "ymGkD9ZPaxro",
        "colab_type": "code",
        "colab": {}
      },
      "source": [
        "#@title Adding feature is_daylight that define measurement time is either daylight (1) or nighttime (0)\n",
        "is_daylight = [data['Time'].values[x] > data['TimeSunRise'].values[x] and data['Time'].values[x] < data['TimeSunSet'].values[x] for x in range(len(data))]\n",
        "data['is_daylight'] = is_daylight\n",
        "data['is_daylight'] = data['is_daylight'].astype('float')"
      ],
      "execution_count": 0,
      "outputs": []
    },
    {
      "cell_type": "code",
      "metadata": {
        "id": "TCCuKjCwBH1M",
        "colab_type": "code",
        "colab": {}
      },
      "source": [
        "#@title Convert UNIXTime into hour, day, month format\n",
        "data['Time_Convert'] = pd.to_datetime(data['Time'], format = '%H:%M:%S')\n",
        "\n",
        "data['Hour'] = pd.to_datetime(data['Time_Convert'], format = '%H:%M:%S').dt.hour # Get the hour of the day\n",
        "\n",
        "data['Day'] = pd.to_datetime(data['UNIXTime'].astype(int), unit = 's').dt.day # Get the day of the month\n",
        "\n",
        "data['Month'] = pd.to_datetime(data['UNIXTime'].astype(int), unit = 's').dt.month # Get the month of the year"
      ],
      "execution_count": 0,
      "outputs": []
    },
    {
      "cell_type": "markdown",
      "metadata": {
        "id": "yQeavaKNayAj",
        "colab_type": "text"
      },
      "source": [
        "##Data Preconditioning"
      ]
    },
    {
      "cell_type": "code",
      "metadata": {
        "id": "lbKi6_Xcbn6M",
        "colab_type": "code",
        "outputId": "0af15b80-97eb-4ad8-ba0f-e48a3dd98503",
        "colab": {
          "base_uri": "https://localhost:8080/",
          "height": 51
        }
      },
      "source": [
        "#@title Splitting data to train set and test set\n",
        "test_split = 0.2 # percentage of train set to be considered as test set\n",
        "data_test = data[:][0:round((len(data)*test_split))]\n",
        "data_train = data[:][round((len(data)*test_split)):]\n",
        "print('train set length:', str(len(data_train)), '\\ntest set length:', \n",
        "      str(len(data_test)))"
      ],
      "execution_count": 7,
      "outputs": [
        {
          "output_type": "stream",
          "text": [
            "train set length: 26149 \n",
            "test set length: 6537\n"
          ],
          "name": "stdout"
        }
      ]
    },
    {
      "cell_type": "code",
      "metadata": {
        "id": "5v5LYeP_dECa",
        "colab_type": "code",
        "outputId": "3f68c8a8-9cac-4f03-9a19-b7eb0dc3f599",
        "colab": {
          "base_uri": "https://localhost:8080/",
          "height": 34
        }
      },
      "source": [
        "#@title Normalize values \n",
        "\n",
        "# Calculate the Z-scores of each column in the training set:\n",
        "data_train_mean = data_train.select_dtypes(include=['float64', 'int64']).mean()\n",
        "data_train_std = data_train.select_dtypes(include=['float64', 'int64']).std()\n",
        "data_train_norm = (data_train.select_dtypes(include=['float64', 'int64']) \n",
        "                   - data_train_mean)/data_train_std\n",
        "\n",
        "# Calculate the Z-scores of each column in the test set.\n",
        "data_test_mean = data_test.select_dtypes(include=['float64', 'int64']).mean()\n",
        "data_test_std = data_test.select_dtypes(include=['float64', 'int64']).std()\n",
        "data_test_norm = (data_test.select_dtypes(include=['float64', 'int64'])\n",
        "                  - data_test_mean)/data_test_std\n",
        "\n",
        "print(\"Normalized the values.\")"
      ],
      "execution_count": 8,
      "outputs": [
        {
          "output_type": "stream",
          "text": [
            "Normalized the values.\n"
          ],
          "name": "stdout"
        }
      ]
    },
    {
      "cell_type": "code",
      "metadata": {
        "id": "wbL0I12vu81P",
        "colab_type": "code",
        "colab": {
          "base_uri": "https://localhost:8080/",
          "height": 34
        },
        "outputId": "cfaf1cd7-6e99-4443-8ac2-d1e3f22dda1f"
      },
      "source": [
        "len(month_boundaries)"
      ],
      "execution_count": 107,
      "outputs": [
        {
          "output_type": "execute_result",
          "data": {
            "text/plain": [
              "11"
            ]
          },
          "metadata": {
            "tags": []
          },
          "execution_count": 107
        }
      ]
    },
    {
      "cell_type": "markdown",
      "metadata": {
        "id": "LKdhPgg5eRFI",
        "colab_type": "text"
      },
      "source": [
        "## Represent data\n",
        "\n",
        "The following code cell creates a feature layer containing three features:\n",
        "\n",
        "* `Temperature`\n",
        "* `Pressure`\n",
        "* `is_daylight`\n",
        "* `Day`\n",
        "* `Hour`\n",
        "* `Month`"
      ]
    },
    {
      "cell_type": "code",
      "metadata": {
        "id": "6bDp6l3KeEgb",
        "colab_type": "code",
        "colab": {}
      },
      "source": [
        "# Create empty feature column list\n",
        "feature_columns = []\n",
        "\n",
        "# Represent Temperature as a floating-point value.\n",
        "temperature_numeric_column = tf.feature_column.numeric_column(\"Temperature\")\n",
        "#temperature_boundaries = list(np.arange(int(min(data_train['Radiation'])), int(max(data_train['Radiation']))))\n",
        "#temperature = tf.feature_column.bucketized_column(temperature_numeric_column, temperature_boundaries)\n",
        "feature_columns.append(temperature_numeric_column)\n",
        "\n",
        "# Represent Pressure as a floating-point value.\n",
        "pressure_numeric_column = tf.feature_column.numeric_column(\"Pressure\")\n",
        "#pressure_boundaries = list(np.arange(float(min(data_train['Pressure'])), float(max(data_train['Pressure']))))\n",
        "#pressure = tf.feature_column.bucketized_column(pressure_numeric_column, pressure_boundaries)\n",
        "feature_columns.append(pressure_numeric_column)\n",
        "\n",
        "# Represent Daylight as a floating-point value.\n",
        "daylight = tf.feature_column.numeric_column(\"is_daylight\")\n",
        "feature_columns.append(daylight)\n",
        "\n",
        "# Represent Hour as a floating-point value.\n",
        "day_numeric_column = tf.feature_column.numeric_column(\"Day\")\n",
        "#day_boundaries = list(np.arange(int(min(data_train['Day'])), int(max(data_train['Day']))))\n",
        "#day = tf.feature_column.bucketized_column(day_numeric_column, day_boundaries)\n",
        "feature_columns.append(day_numeric_column)\n",
        "\n",
        "# Represent Hour as a floating-point value.\n",
        "hour_numeric_column = tf.feature_column.numeric_column(\"Hour\")\n",
        "#hour_boundaries = list(np.arange(int(min(data_train['Hour'])), int(max(data_train['Hour']))))\n",
        "#hour = tf.feature_column.bucketized_column(hour_numeric_column, hour_boundaries)\n",
        "feature_columns.append(hour_numeric_column)\n",
        "\n",
        "# Represent Hour as a floating-point value.\n",
        "month_numeric_column = tf.feature_column.numeric_column(\"Month\")\n",
        "#month_boundaries = list(np.arange(int(min(data_train['Month'])), int(max(data_train['Month']))))\n",
        "#month = tf.feature_column.bucketized_column(month_numeric_column, month_boundaries)\n",
        "feature_columns.append(month_numeric_column)\n",
        "\n",
        "# Create a feature cross between Temperature and Pressure\n",
        "#temperature_x_pressure = tf.feature_column.crossed_column([temperature, pressure], hash_bucket_size=200)\n",
        "#crossed_feature_TP = tf.feature_column.indicator_column(temperature_x_pressure)\n",
        "#feature_columns.append(crossed_feature_TP)\n",
        "\n",
        "# Represent Humidity as a floating-point value.\n",
        "#humidity_numeric_column = tf.feature_column.numeric_column(\"Humidity\")\n",
        "#humidity_boundaries = list(np.arange(int(min(data_train['Humidity'])), int(max(data_train['Humidity']))))\n",
        "#humidity = tf.feature_column.bucketized_column(humidity_numeric_column, humidity_boundaries)\n",
        "#feature_columns.append(humidity)\n",
        "\n",
        "# Represent Wind as a floating-point value.\n",
        "#wind_numeric_column = tf.feature_column.numeric_column(\"WindDirection\")\n",
        "#wind_boundaries = list(np.arange(int(min(data_train['WindDirection'])), int(max(data_train['WindDirection']))))\n",
        "#wind = tf.feature_column.bucketized_column(wind_numeric_column, wind_boundaries)\n",
        "#feature_columns.append(wind)\n",
        "\n",
        "# Create a feature cross between Humidity and Wind\n",
        "#humidity_x_wind = tf.feature_column.crossed_column([humidity, wind], hash_bucket_size=100)\n",
        "#crossed_feature_HW = tf.feature_column.indicator_column(humidity_x_wind)\n",
        "#feature_columns.append(crossed_feature_HW)\n",
        "\n",
        "# Create a feature cross between Temperature and Day\n",
        "#temperature_x_day = tf.feature_column.crossed_column([temperature, day], hash_bucket_size=400)\n",
        "#crossed_feature = tf.feature_column.indicator_column(temperature_x_day)\n",
        "#feature_columns.append(crossed_feature)\n",
        "\n",
        "# Create a feature cross between Temperature and Hour\n",
        "#temperature_x_hour = tf.feature_column.crossed_column([temperature, hour], hash_bucket_size=230)\n",
        "#crossed_feature = tf.feature_column.indicator_column(temperature_x_hour)\n",
        "#feature_columns.append(crossed_feature)\n",
        "\n",
        "# Create a feature cross between Hour and Month\n",
        "#hour_x_month = tf.feature_column.crossed_column([hour, month], hash_bucket_size=100)\n",
        "#crossed_feature_HM = tf.feature_column.indicator_column(hour_x_month)\n",
        "#feature_columns.append(crossed_feature_HM)\n",
        "\n",
        "# Create a feature cross between Hour, Day and Month\n",
        "#hour_x_day_x_month = tf.feature_column.crossed_column([hour, day, month], hash_bucket_size=100)\n",
        "#crossed_feature_HDM = tf.feature_column.indicator_column(hour_x_day_x_month)\n",
        "#feature_columns.append(crossed_feature_HDM)\n",
        "\n",
        "# Convert the list of feature columns into a layer that will later be fed into\n",
        "# the model. \n",
        "my_feature_layer = tf.keras.layers.DenseFeatures(feature_columns)"
      ],
      "execution_count": 0,
      "outputs": []
    },
    {
      "cell_type": "markdown",
      "metadata": {
        "id": "MMAji1PSfPCt",
        "colab_type": "text"
      },
      "source": [
        "## Build a linear regression model"
      ]
    },
    {
      "cell_type": "code",
      "metadata": {
        "id": "vyOjMo-7ei25",
        "colab_type": "code",
        "outputId": "f5da6ac6-8722-4834-8e79-6721526759de",
        "colab": {
          "base_uri": "https://localhost:8080/",
          "height": 34
        }
      },
      "source": [
        "#@title Define plotting function\n",
        "\n",
        "def plot_the_loss_curve(epochs, mse_training, mse_validation):\n",
        "  \"\"\"Plot a curve of loss vs. epoch.\"\"\"\n",
        "\n",
        "  plt.figure()\n",
        "  plt.xlabel(\"Epoch\")\n",
        "  plt.ylabel(\"Root Mean Squared Error\")\n",
        "\n",
        "  plt.plot(epochs[1:], mse_training[1:], label=\"Training Loss\")\n",
        "  plt.plot(epochs[1:], mse_validation[1:], label=\"Validation Loss\")\n",
        "  plt.legend()\n",
        "\n",
        "  merged_mse_lists = mse_training[1:] + mse_validation[1:]\n",
        "  highest_loss = max(merged_mse_lists)\n",
        "  lowest_loss = min(merged_mse_lists)\n",
        "  delta = highest_loss - lowest_loss\n",
        "  print(delta)\n",
        "\n",
        "  top_of_y_axis = highest_loss + (delta * 0.05)\n",
        "  bottom_of_y_axis = lowest_loss - (delta * 0.05)\n",
        "  plt.ylim([bottom_of_y_axis, top_of_y_axis])\n",
        "  plt.show()  \n",
        "\n",
        "print(\"Defined the plot_the_loss_curve function.\")"
      ],
      "execution_count": 179,
      "outputs": [
        {
          "output_type": "stream",
          "text": [
            "Defined the plot_the_loss_curve function.\n"
          ],
          "name": "stdout"
        }
      ]
    },
    {
      "cell_type": "code",
      "metadata": {
        "id": "gEsYOPPhetG3",
        "colab_type": "code",
        "outputId": "9905ba3e-4886-4d51-e1de-616c07c4ad44",
        "colab": {
          "base_uri": "https://localhost:8080/",
          "height": 34
        }
      },
      "source": [
        "#@title Define functions to create and train a linear regression model\n",
        "def create_model(my_learning_rate, feature_layer):\n",
        "  \"\"\"Create and compile a simple linear regression model.\"\"\"\n",
        "  # Most simple tf.keras models are sequential.\n",
        "  model = tf.keras.models.Sequential()\n",
        "\n",
        "  # Add the layer containing the feature columns to the model.\n",
        "  model.add(feature_layer)\n",
        "\n",
        "  # Add one linear layer to the model to yield a simple linear regressor.\n",
        "  model.add(tf.keras.layers.Dense(units=1, input_shape=(1,)))\n",
        "\n",
        "  # Construct the layers into a model that TensorFlow can execute.\n",
        "  model.compile(optimizer=tf.keras.optimizers.RMSprop(lr=my_learning_rate),\n",
        "                loss=\"mean_squared_error\",\n",
        "                metrics=[tf.keras.metrics.RootMeanSquaredError()])\n",
        "\n",
        "  return model           \n",
        "\n",
        "\n",
        "def train_model(model, dataset, epochs, batch_size, label_name,validation_split):\n",
        "  \"\"\"Feed a dataset into the model in order to train it.\"\"\"\n",
        "\n",
        "  # Split the dataset into features and label.\n",
        "  features = {name:np.array(value) for name, value in dataset.items()}\n",
        "  label = np.array(features.pop(label_name))\n",
        "  history = model.fit(x=features, y=label, batch_size=batch_size,\n",
        "                      epochs=epochs, validation_split=validation_split, \n",
        "                      shuffle=True)\n",
        "\n",
        "  # Get details that will be useful for plotting the loss curve.\n",
        "  epochs = history.epoch\n",
        "  hist = pd.DataFrame(history.history)\n",
        "  rmse = hist[\"root_mean_squared_error\"]\n",
        "\n",
        "  return epochs, rmse, history.history   \n",
        "\n",
        "print(\"Defined the create_model and train_model functions.\")"
      ],
      "execution_count": 180,
      "outputs": [
        {
          "output_type": "stream",
          "text": [
            "Defined the create_model and train_model functions.\n"
          ],
          "name": "stdout"
        }
      ]
    },
    {
      "cell_type": "code",
      "metadata": {
        "id": "wAJuzbBmexB4",
        "colab_type": "code",
        "cellView": "both",
        "outputId": "f21e422a-4165-4a32-e487-38c4b4c661f8",
        "colab": {
          "base_uri": "https://localhost:8080/",
          "height": 1000
        }
      },
      "source": [
        "#@title Train the model as linear regression\n",
        "# The following variables are the hyperparameters.\n",
        "learning_rate = 0.01\n",
        "epochs = 50\n",
        "batch_size = 1000\n",
        "validation_split = 0.2\n",
        "label_name = \"Radiation\"\n",
        " \n",
        "\n",
        "# Establish the model's topography.\n",
        "my_model = create_model(learning_rate, my_feature_layer)\n",
        "\n",
        "# Train the model on the normalized training set.\n",
        "epochs, mse, history = train_model(my_model, data_train_norm, epochs, batch_size, label_name, \n",
        "                          validation_split=validation_split)\n",
        "plot_the_loss_curve(epochs, history[\"root_mean_squared_error\"], \n",
        "                    history[\"val_root_mean_squared_error\"])\n",
        "\n",
        "test_features = {name:np.array(value) for name, value in data_test_norm.items()}\n",
        "test_label = np.array(test_features.pop(label_name)) # isolate the label\n",
        "print(\"\\n Evaluate the linear regression model against the test set:\")\n",
        "my_model.evaluate(x = test_features, y = test_label, batch_size=batch_size)"
      ],
      "execution_count": 182,
      "outputs": [
        {
          "output_type": "stream",
          "text": [
            "Epoch 1/50\n",
            "21/21 [==============================] - 0s 9ms/step - loss: 3.0928 - root_mean_squared_error: 1.7595 - val_loss: 2.3540 - val_root_mean_squared_error: 1.5284\n",
            "Epoch 2/50\n",
            "21/21 [==============================] - 0s 4ms/step - loss: 1.9033 - root_mean_squared_error: 1.3801 - val_loss: 1.4951 - val_root_mean_squared_error: 1.2147\n",
            "Epoch 3/50\n",
            "21/21 [==============================] - 0s 4ms/step - loss: 1.1871 - root_mean_squared_error: 1.0900 - val_loss: 0.9274 - val_root_mean_squared_error: 0.9529\n",
            "Epoch 4/50\n",
            "21/21 [==============================] - 0s 4ms/step - loss: 0.7278 - root_mean_squared_error: 0.8535 - val_loss: 0.5874 - val_root_mean_squared_error: 0.7554\n",
            "Epoch 5/50\n",
            "21/21 [==============================] - 0s 4ms/step - loss: 0.4797 - root_mean_squared_error: 0.6928 - val_loss: 0.4350 - val_root_mean_squared_error: 0.6492\n",
            "Epoch 6/50\n",
            "21/21 [==============================] - 0s 4ms/step - loss: 0.3867 - root_mean_squared_error: 0.6219 - val_loss: 0.3915 - val_root_mean_squared_error: 0.6163\n",
            "Epoch 7/50\n",
            "21/21 [==============================] - 0s 4ms/step - loss: 0.3565 - root_mean_squared_error: 0.5971 - val_loss: 0.3713 - val_root_mean_squared_error: 0.6002\n",
            "Epoch 8/50\n",
            "21/21 [==============================] - 0s 4ms/step - loss: 0.3427 - root_mean_squared_error: 0.5854 - val_loss: 0.3657 - val_root_mean_squared_error: 0.5961\n",
            "Epoch 9/50\n",
            "21/21 [==============================] - 0s 4ms/step - loss: 0.3403 - root_mean_squared_error: 0.5832 - val_loss: 0.3664 - val_root_mean_squared_error: 0.5969\n",
            "Epoch 10/50\n",
            "21/21 [==============================] - 0s 5ms/step - loss: 0.3406 - root_mean_squared_error: 0.5835 - val_loss: 0.3647 - val_root_mean_squared_error: 0.5954\n",
            "Epoch 11/50\n",
            "21/21 [==============================] - 0s 4ms/step - loss: 0.3402 - root_mean_squared_error: 0.5831 - val_loss: 0.3673 - val_root_mean_squared_error: 0.5980\n",
            "Epoch 12/50\n",
            "21/21 [==============================] - 0s 4ms/step - loss: 0.3400 - root_mean_squared_error: 0.5832 - val_loss: 0.3672 - val_root_mean_squared_error: 0.5963\n",
            "Epoch 13/50\n",
            "21/21 [==============================] - 0s 4ms/step - loss: 0.3406 - root_mean_squared_error: 0.5835 - val_loss: 0.3656 - val_root_mean_squared_error: 0.5960\n",
            "Epoch 14/50\n",
            "21/21 [==============================] - 0s 4ms/step - loss: 0.3399 - root_mean_squared_error: 0.5829 - val_loss: 0.3657 - val_root_mean_squared_error: 0.5959\n",
            "Epoch 15/50\n",
            "21/21 [==============================] - 0s 4ms/step - loss: 0.3400 - root_mean_squared_error: 0.5832 - val_loss: 0.3648 - val_root_mean_squared_error: 0.5954\n",
            "Epoch 16/50\n",
            "21/21 [==============================] - 0s 5ms/step - loss: 0.3404 - root_mean_squared_error: 0.5834 - val_loss: 0.3655 - val_root_mean_squared_error: 0.5959\n",
            "Epoch 17/50\n",
            "21/21 [==============================] - 0s 4ms/step - loss: 0.3399 - root_mean_squared_error: 0.5830 - val_loss: 0.3662 - val_root_mean_squared_error: 0.5955\n",
            "Epoch 18/50\n",
            "21/21 [==============================] - 0s 4ms/step - loss: 0.3401 - root_mean_squared_error: 0.5831 - val_loss: 0.3658 - val_root_mean_squared_error: 0.5960\n",
            "Epoch 19/50\n",
            "21/21 [==============================] - 0s 4ms/step - loss: 0.3403 - root_mean_squared_error: 0.5834 - val_loss: 0.3652 - val_root_mean_squared_error: 0.5955\n",
            "Epoch 20/50\n",
            "21/21 [==============================] - 0s 4ms/step - loss: 0.3400 - root_mean_squared_error: 0.5831 - val_loss: 0.3643 - val_root_mean_squared_error: 0.5947\n",
            "Epoch 21/50\n",
            "21/21 [==============================] - 0s 4ms/step - loss: 0.3398 - root_mean_squared_error: 0.5830 - val_loss: 0.3665 - val_root_mean_squared_error: 0.5961\n",
            "Epoch 22/50\n",
            "21/21 [==============================] - 0s 4ms/step - loss: 0.3403 - root_mean_squared_error: 0.5833 - val_loss: 0.3656 - val_root_mean_squared_error: 0.5965\n",
            "Epoch 23/50\n",
            "21/21 [==============================] - 0s 4ms/step - loss: 0.3399 - root_mean_squared_error: 0.5830 - val_loss: 0.3650 - val_root_mean_squared_error: 0.5949\n",
            "Epoch 24/50\n",
            "21/21 [==============================] - 0s 4ms/step - loss: 0.3402 - root_mean_squared_error: 0.5832 - val_loss: 0.3651 - val_root_mean_squared_error: 0.5961\n",
            "Epoch 25/50\n",
            "21/21 [==============================] - 0s 4ms/step - loss: 0.3400 - root_mean_squared_error: 0.5831 - val_loss: 0.3642 - val_root_mean_squared_error: 0.5950\n",
            "Epoch 26/50\n",
            "21/21 [==============================] - 0s 4ms/step - loss: 0.3397 - root_mean_squared_error: 0.5829 - val_loss: 0.3646 - val_root_mean_squared_error: 0.5952\n",
            "Epoch 27/50\n",
            "21/21 [==============================] - 0s 4ms/step - loss: 0.3402 - root_mean_squared_error: 0.5832 - val_loss: 0.3663 - val_root_mean_squared_error: 0.5971\n",
            "Epoch 28/50\n",
            "21/21 [==============================] - 0s 5ms/step - loss: 0.3400 - root_mean_squared_error: 0.5832 - val_loss: 0.3664 - val_root_mean_squared_error: 0.5967\n",
            "Epoch 29/50\n",
            "21/21 [==============================] - 0s 4ms/step - loss: 0.3398 - root_mean_squared_error: 0.5829 - val_loss: 0.3659 - val_root_mean_squared_error: 0.5957\n",
            "Epoch 30/50\n",
            "21/21 [==============================] - 0s 4ms/step - loss: 0.3400 - root_mean_squared_error: 0.5831 - val_loss: 0.3650 - val_root_mean_squared_error: 0.5955\n",
            "Epoch 31/50\n",
            "21/21 [==============================] - 0s 4ms/step - loss: 0.3399 - root_mean_squared_error: 0.5829 - val_loss: 0.3660 - val_root_mean_squared_error: 0.5971\n",
            "Epoch 32/50\n",
            "21/21 [==============================] - 0s 4ms/step - loss: 0.3405 - root_mean_squared_error: 0.5835 - val_loss: 0.3654 - val_root_mean_squared_error: 0.5953\n",
            "Epoch 33/50\n",
            "21/21 [==============================] - 0s 4ms/step - loss: 0.3403 - root_mean_squared_error: 0.5833 - val_loss: 0.3650 - val_root_mean_squared_error: 0.5952\n",
            "Epoch 34/50\n",
            "21/21 [==============================] - 0s 5ms/step - loss: 0.3399 - root_mean_squared_error: 0.5830 - val_loss: 0.3656 - val_root_mean_squared_error: 0.5956\n",
            "Epoch 35/50\n",
            "21/21 [==============================] - 0s 4ms/step - loss: 0.3400 - root_mean_squared_error: 0.5831 - val_loss: 0.3647 - val_root_mean_squared_error: 0.5953\n",
            "Epoch 36/50\n",
            "21/21 [==============================] - 0s 4ms/step - loss: 0.3402 - root_mean_squared_error: 0.5833 - val_loss: 0.3647 - val_root_mean_squared_error: 0.5953\n",
            "Epoch 37/50\n",
            "21/21 [==============================] - 0s 4ms/step - loss: 0.3401 - root_mean_squared_error: 0.5833 - val_loss: 0.3661 - val_root_mean_squared_error: 0.5966\n",
            "Epoch 38/50\n",
            "21/21 [==============================] - 0s 4ms/step - loss: 0.3402 - root_mean_squared_error: 0.5833 - val_loss: 0.3649 - val_root_mean_squared_error: 0.5958\n",
            "Epoch 39/50\n",
            "21/21 [==============================] - 0s 4ms/step - loss: 0.3402 - root_mean_squared_error: 0.5833 - val_loss: 0.3666 - val_root_mean_squared_error: 0.5961\n",
            "Epoch 40/50\n",
            "21/21 [==============================] - 0s 4ms/step - loss: 0.3401 - root_mean_squared_error: 0.5832 - val_loss: 0.3655 - val_root_mean_squared_error: 0.5953\n",
            "Epoch 41/50\n",
            "21/21 [==============================] - 0s 4ms/step - loss: 0.3398 - root_mean_squared_error: 0.5830 - val_loss: 0.3663 - val_root_mean_squared_error: 0.5972\n",
            "Epoch 42/50\n",
            "21/21 [==============================] - 0s 4ms/step - loss: 0.3401 - root_mean_squared_error: 0.5832 - val_loss: 0.3641 - val_root_mean_squared_error: 0.5945\n",
            "Epoch 43/50\n",
            "21/21 [==============================] - 0s 4ms/step - loss: 0.3403 - root_mean_squared_error: 0.5834 - val_loss: 0.3645 - val_root_mean_squared_error: 0.5952\n",
            "Epoch 44/50\n",
            "21/21 [==============================] - 0s 4ms/step - loss: 0.3399 - root_mean_squared_error: 0.5831 - val_loss: 0.3661 - val_root_mean_squared_error: 0.5970\n",
            "Epoch 45/50\n",
            "21/21 [==============================] - 0s 4ms/step - loss: 0.3405 - root_mean_squared_error: 0.5834 - val_loss: 0.3656 - val_root_mean_squared_error: 0.5962\n",
            "Epoch 46/50\n",
            "21/21 [==============================] - 0s 4ms/step - loss: 0.3399 - root_mean_squared_error: 0.5830 - val_loss: 0.3654 - val_root_mean_squared_error: 0.5962\n",
            "Epoch 47/50\n",
            "21/21 [==============================] - 0s 4ms/step - loss: 0.3401 - root_mean_squared_error: 0.5832 - val_loss: 0.3670 - val_root_mean_squared_error: 0.5978\n",
            "Epoch 48/50\n",
            "21/21 [==============================] - 0s 4ms/step - loss: 0.3402 - root_mean_squared_error: 0.5833 - val_loss: 0.3656 - val_root_mean_squared_error: 0.5960\n",
            "Epoch 49/50\n",
            "21/21 [==============================] - 0s 4ms/step - loss: 0.3398 - root_mean_squared_error: 0.5830 - val_loss: 0.3649 - val_root_mean_squared_error: 0.5956\n",
            "Epoch 50/50\n",
            "21/21 [==============================] - 0s 4ms/step - loss: 0.3404 - root_mean_squared_error: 0.5834 - val_loss: 0.3651 - val_root_mean_squared_error: 0.5952\n",
            "0.7972230315208435\n"
          ],
          "name": "stdout"
        },
        {
          "output_type": "display_data",
          "data": {
            "image/png": "[encoded data removed]",
            "text/plain": [
              "<Figure size 432x288 with 1 Axes>"
            ]
          },
          "metadata": {
            "tags": []
          }
        },
        {
          "output_type": "stream",
          "text": [
            "\n",
            " Evaluate the linear regression model against the test set:\n",
            "7/7 [==============================] - 0s 2ms/step - loss: 0.3515 - root_mean_squared_error: 0.5916\n"
          ],
          "name": "stdout"
        },
        {
          "output_type": "execute_result",
          "data": {
            "text/plain": [
              "[0.351470947265625, 0.5915555953979492]"
            ]
          },
          "metadata": {
            "tags": []
          },
          "execution_count": 182
        }
      ]
    },
    {
      "cell_type": "code",
      "metadata": {
        "id": "MzIkZNjddP_p",
        "colab_type": "code",
        "colab": {}
      },
      "source": [
        ""
      ],
      "execution_count": 0,
      "outputs": []
    }
  ]
}